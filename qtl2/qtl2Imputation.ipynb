{
 "cells": [
  {
   "cell_type": "markdown",
   "metadata": {},
   "source": [
    "# Imputation with R/qtl2\n",
    "\n",
    "Made by: Sarah Odell\n",
    "\n",
    "github: https://github.com/sarahodell\n",
    "\n",
    "Summary: This is a workflow for setting up, running and analyzing the accuracy of R/qtl2 for calculating genotype probabilities of simulated maize MAGIC double haploids using parental genotype data. R/qtl2 documentation can be found <a href='https://kbroman.org/qtl2/docs.html'>here</a>. This is done only for chromosome 10. It is assumed that the founder lines and the lines to be imputed are entirely homozygous. The imputation accuracy is quantified as the percentage of imputed blocks assigned to the correct parental haplotype. \n",
    "\n",
    "Table of Contents:\n",
    "1. <a href='#section_1'>Setting up control files</a>\n",
    "2. <a href='#section_2'>Running qtl2</a>\n",
    "3. <a href='#section_3'>Analyzing genotype probabilities</a>\n",
    "4. <a href='#section_4'>Assessing imputation accuracy</a>\n",
    "\n",
    "\n",
    "The simulated MAGIC lines used here were generated in [BiogemmaSimulation](../BiogemmaSimulation.ipynb)\n"
   ]
  },
  {
   "cell_type": "code",
   "execution_count": 1,
   "metadata": {},
   "outputs": [
    {
     "name": "stdout",
     "output_type": "stream",
     "text": [
      "[1] \"Last updated: 07/10/2018\"\n",
      "[1] \"Created using: R version 3.4.2 (2017-09-28)\"\n"
     ]
    }
   ],
   "source": [
    "print(format(Sys.time(), \"Last updated: %m/%d/%Y\"))\n",
    "print(sprintf(\"Created using: %s\",R.Version()$version.string))"
   ]
  },
  {
   "cell_type": "markdown",
   "metadata": {},
   "source": [
    "### Installing qtl2\n",
    "\n",
    "Information on installing qtl2 can be found in the <a href='https://kbroman.org/qtl2/assets/vignettes/user_guide.html'>User Guide</a>"
   ]
  },
  {
   "cell_type": "code",
   "execution_count": null,
   "metadata": {},
   "outputs": [],
   "source": [
    "library(\"qtl2\")\n",
    "library(\"tidyverse\")\n",
    "library(\"dplyr\")\n",
    "library(\"data.table\")\n",
    "library(\"ggplot2\")\n",
    "library(\"reshape2\")\n",
    "library(\"tibble\")"
   ]
  },
  {
   "cell_type": "code",
   "execution_count": 22,
   "metadata": {},
   "outputs": [],
   "source": [
    "# Set wkdir to whatever your working directory is\n",
    "wkdir='~/Documents/PBGG/MAGIC/qtl2'\n",
    "setwd(wkdir)"
   ]
  },
  {
   "cell_type": "markdown",
   "metadata": {
    "collapsed": true
   },
   "source": [
    "<a href='section_1'></a>"
   ]
  },
  {
   "cell_type": "markdown",
   "metadata": {},
   "source": [
    "### 1. Setting up control files"
   ]
  },
  {
   "cell_type": "markdown",
   "metadata": {},
   "source": [
    "R/qtl2 requires input files to be set up in a very particular way (See User Guide for more info). The files needed for getting genotype probabilities are:\n",
    "- A genotype file of the individuals you want to impute\n",
    "- A founder genotype file of the parents\n",
    "- A cross information file on how the lines were developed\n",
    "- A genetic map for the markers in the genotype file\n",
    "- A physical map for the markers in the genotype file\n",
    "- A json control file linking all these files together\n",
    "\n",
    "To start, we'll need vcf files with the genotype information of the founders and the lines to be imputed, as well as a genetic map (Ogut, 2015).\n",
    "\n",
    "For this, we will need bcftools installed (Version 1.2 was used here).\n"
   ]
  },
  {
   "cell_type": "code",
   "execution_count": 11,
   "metadata": {},
   "outputs": [
    {
     "name": "stdout",
     "output_type": "stream",
     "text": [
      " [1] \"usage: genofile2.py [-h] infile outfile\"                                    \n",
      " [2] \"\"                                                                           \n",
      " [3] \"Program description: Takes a vcf file and converts it to a csv format with\" \n",
      " [4] \"markers as columns and samples as rows with nucleotide information in IUPAC\"\n",
      " [5] \"format. This csv file is formatted for use with R/qtl2\"                     \n",
      " [6] \"\"                                                                           \n",
      " [7] \"positional arguments:\"                                                      \n",
      " [8] \"  infile      The input vcf file\"                                           \n",
      " [9] \"  outfile     The output csv filename\"                                      \n",
      "[10] \"\"                                                                           \n",
      "[11] \"optional arguments:\"                                                        \n",
      "[12] \"  -h, --help  show this help message and exit\"                              \n"
     ]
    }
   ],
   "source": [
    "#The python script genofile2.py creates the genotype data from the vcf and converts it into a csv\n",
    "print(system('python genofile2.py -h',intern=T))"
   ]
  },
  {
   "cell_type": "code",
   "execution_count": null,
   "metadata": {
    "collapsed": true
   },
   "outputs": [],
   "source": [
    "genos='MAGICSim_062018/MAGICSim_BiogemmaFull_062018.vcf.gz'\n",
    "genofile='MAGICSim_062018/chr10/MAGICSim_geno.csv'\n",
    "system(sprintf(\"python genofile2.py %s %s\",genos,genofile)) #Create the genotype file"
   ]
  },
  {
   "cell_type": "markdown",
   "metadata": {},
   "source": [
    "For the founder lines, the vcf file is converted into a temporary csv, which is then used to create another, properly formatted csv files for the founder genotype file and the physical map. The header variable should be a string like 'id,chr,pos,sample1,sample2, ...'"
   ]
  },
  {
   "cell_type": "code",
   "execution_count": 12,
   "metadata": {},
   "outputs": [],
   "source": [
    "foundergenos='biogemma/BiogemmaFounders_600K_Genotypes.vcf.gz'\n",
    "fgenofile='MAGICSim_062018/chr10/MAGICSim_foundergeno_c10.csv'\n",
    "tmp='bigemma/founders_tmp.csv'\n",
    "header=\"id,chr,pos,A632_usa,B73_inra,CO255_inra,FV252_inra,OH43_inra,A654_inra,FV2_inra,C103_inra,EP1_inra,D105_inra,W117_inra,B96,DK63,F492,ND245,VA85\""
   ]
  },
  {
   "cell_type": "code",
   "execution_count": null,
   "metadata": {},
   "outputs": [],
   "source": [
    "system(sprintf('echo $%s > %s',header,tmp))\n",
    "system(sprintf(\"bcftools query -f '%%ID,%%CHROM,%%PIS[,%%GT]\\n' %s >> %s\",foundergenos,tmp))"
   ]
  },
  {
   "cell_type": "code",
   "execution_count": 21,
   "metadata": {},
   "outputs": [
    {
     "name": "stdout",
     "output_type": "stream",
     "text": [
      " [1] \"usage: foundergeno.py [-h] infile outfile\"                                  \n",
      " [2] \"\"                                                                           \n",
      " [3] \"Program description: Takes a vcf file and converts it to a csv format with\" \n",
      " [4] \"founder rows and marker genotypes as columns. Genotypes are assumed\"        \n",
      " [5] \"homozygous, with reference allele as A and alternate alleles as B. This csv\"\n",
      " [6] \"file is formatted for use with R/qtl2\"                                      \n",
      " [7] \"\"                                                                           \n",
      " [8] \"positional arguments:\"                                                      \n",
      " [9] \"  infile      The input vcf file\"                                           \n",
      "[10] \"  outfile     The output csv filename\"                                      \n",
      "[11] \"\"                                                                           \n",
      "[12] \"optional arguments:\"                                                        \n",
      "[13] \"  -h, --help  show this help message and exit\"                              \n"
     ]
    }
   ],
   "source": [
    "print(system(sprintf('python foundergeno.py -h'),intern=T))"
   ]
  },
  {
   "cell_type": "code",
   "execution_count": null,
   "metadata": {},
   "outputs": [],
   "source": [
    "system(sprintf('python foundergeno.py %s %s',tmp,fgenofile)"
   ]
  },
  {
   "cell_type": "markdown",
   "metadata": {},
   "source": [
    "Now we should have properly formated genotype files for both the founder lines and the simulated MAGIC lines. To get the physical map for the genetic markers in the genotype files, simply pull some columns from the tmp file."
   ]
  },
  {
   "cell_type": "code",
   "execution_count": 33,
   "metadata": {},
   "outputs": [
    {
     "name": "stdout",
     "output_type": "stream",
     "text": [
      " [1] \"usage: pmap.py [-h] infile outfile\"                                        \n",
      " [2] \"\"                                                                          \n",
      " [3] \"Program description: Generates a physical map file in csv format. This csv\"\n",
      " [4] \"file is formatted for use with R/qtl2\"                                     \n",
      " [5] \"\"                                                                          \n",
      " [6] \"positional arguments:\"                                                     \n",
      " [7] \"  infile      The input intermediate csv file generated by bcftools query\" \n",
      " [8] \"  outfile     The output csv filename\"                                     \n",
      " [9] \"\"                                                                          \n",
      "[10] \"optional arguments:\"                                                       \n",
      "[11] \"  -h, --help  show this help message and exit\"                             \n"
     ]
    }
   ],
   "source": [
    "pmapfile='MAGICSim_062018/chr10/MAGICSim_pmap_c10.csv'\n",
    "print(system(sprintf('python pmap.py -h'),intern=T))"
   ]
  },
  {
   "cell_type": "code",
   "execution_count": null,
   "metadata": {},
   "outputs": [],
   "source": [
    "system(sprintf('python pmap.py %s %s',tmp,pmapfile )"
   ]
  },
  {
   "cell_type": "code",
   "execution_count": 27,
   "metadata": {},
   "outputs": [
    {
     "data": {
      "text/html": [
       "<table>\n",
       "<thead><tr><th scope=col>marker</th><th scope=col>chr</th><th scope=col>pos</th></tr></thead>\n",
       "<tbody>\n",
       "\t<tr><td>AX-91807321</td><td>10         </td><td>0.275461   </td></tr>\n",
       "\t<tr><td>AX-91157290</td><td>10         </td><td>0.276497   </td></tr>\n",
       "\t<tr><td>AX-91807318</td><td>10         </td><td>0.276688   </td></tr>\n",
       "\t<tr><td>AX-91157288</td><td>10         </td><td>0.279348   </td></tr>\n",
       "\t<tr><td>AX-91157305</td><td>10         </td><td>0.301249   </td></tr>\n",
       "\t<tr><td>AX-90617680</td><td>10         </td><td>0.301380   </td></tr>\n",
       "</tbody>\n",
       "</table>\n"
      ],
      "text/latex": [
       "\\begin{tabular}{r|lll}\n",
       " marker & chr & pos\\\\\n",
       "\\hline\n",
       "\t AX-91807321 & 10          & 0.275461   \\\\\n",
       "\t AX-91157290 & 10          & 0.276497   \\\\\n",
       "\t AX-91807318 & 10          & 0.276688   \\\\\n",
       "\t AX-91157288 & 10          & 0.279348   \\\\\n",
       "\t AX-91157305 & 10          & 0.301249   \\\\\n",
       "\t AX-90617680 & 10          & 0.301380   \\\\\n",
       "\\end{tabular}\n"
      ],
      "text/markdown": [
       "\n",
       "marker | chr | pos | \n",
       "|---|---|---|---|---|---|\n",
       "| AX-91807321 | 10          | 0.275461    | \n",
       "| AX-91157290 | 10          | 0.276497    | \n",
       "| AX-91807318 | 10          | 0.276688    | \n",
       "| AX-91157288 | 10          | 0.279348    | \n",
       "| AX-91157305 | 10          | 0.301249    | \n",
       "| AX-90617680 | 10          | 0.301380    | \n",
       "\n",
       "\n"
      ],
      "text/plain": [
       "  marker      chr pos     \n",
       "1 AX-91807321 10  0.275461\n",
       "2 AX-91157290 10  0.276497\n",
       "3 AX-91807318 10  0.276688\n",
       "4 AX-91157288 10  0.279348\n",
       "5 AX-91157305 10  0.301249\n",
       "6 AX-90617680 10  0.301380"
      ]
     },
     "metadata": {},
     "output_type": "display_data"
    }
   ],
   "source": [
    "pmap=fread('MAGICSim_062018/chr10/MAGICSim_pmap_c10.csv',data.table=F)\n",
    "head(pmap)"
   ]
  },
  {
   "cell_type": "markdown",
   "metadata": {},
   "source": [
    "The generate the genetic map from the physical map, we will load the genetic map from Ogut,2015, and extrapolate the genetic positions of the markers from this."
   ]
  },
  {
   "cell_type": "markdown",
   "metadata": {},
   "source": [
    "ogutmap<-fread('ogut_map.csv',data.table=F)\n",
    "ogutmap$SNP_ID = as.character(ogutmap$SNP_ID)\n",
    "str(ogutmap)"
   ]
  },
  {
   "cell_type": "code",
   "execution_count": 36,
   "metadata": {},
   "outputs": [
    {
     "data": {
      "text/html": [
       "<table>\n",
       "<thead><tr><th scope=col>marker</th><th scope=col>chr</th><th scope=col>pos</th></tr></thead>\n",
       "<tbody>\n",
       "\t<tr><td>AX-91807321</td><td>10         </td><td>-7         </td></tr>\n",
       "\t<tr><td>AX-91157290</td><td>10         </td><td>-7         </td></tr>\n",
       "\t<tr><td>AX-91807318</td><td>10         </td><td>-7         </td></tr>\n",
       "\t<tr><td>AX-91157288</td><td>10         </td><td>-7         </td></tr>\n",
       "\t<tr><td>AX-91157305</td><td>10         </td><td>-7         </td></tr>\n",
       "\t<tr><td>AX-90617680</td><td>10         </td><td>-7         </td></tr>\n",
       "</tbody>\n",
       "</table>\n"
      ],
      "text/latex": [
       "\\begin{tabular}{r|lll}\n",
       " marker & chr & pos\\\\\n",
       "\\hline\n",
       "\t AX-91807321 & 10          & -7         \\\\\n",
       "\t AX-91157290 & 10          & -7         \\\\\n",
       "\t AX-91807318 & 10          & -7         \\\\\n",
       "\t AX-91157288 & 10          & -7         \\\\\n",
       "\t AX-91157305 & 10          & -7         \\\\\n",
       "\t AX-90617680 & 10          & -7         \\\\\n",
       "\\end{tabular}\n"
      ],
      "text/markdown": [
       "\n",
       "marker | chr | pos | \n",
       "|---|---|---|---|---|---|\n",
       "| AX-91807321 | 10          | -7          | \n",
       "| AX-91157290 | 10          | -7          | \n",
       "| AX-91807318 | 10          | -7          | \n",
       "| AX-91157288 | 10          | -7          | \n",
       "| AX-91157305 | 10          | -7          | \n",
       "| AX-90617680 | 10          | -7          | \n",
       "\n",
       "\n"
      ],
      "text/plain": [
       "  marker      chr pos\n",
       "1 AX-91807321 10  -7 \n",
       "2 AX-91157290 10  -7 \n",
       "3 AX-91807318 10  -7 \n",
       "4 AX-91157288 10  -7 \n",
       "5 AX-91157305 10  -7 \n",
       "6 AX-90617680 10  -7 "
      ]
     },
     "metadata": {},
     "output_type": "display_data"
    }
   ],
   "source": [
    "#Create approxfun \n",
    "get_cM<-approxfun(x=ogutmap$pos,y=ogutmap$cM,method=\"linear\",yleft=-7,yright=107) \n",
    "#yleft and yright were set as arbitrary boundaries for markers that extend beyond the range of the\n",
    "#ogut map\n",
    "\n",
    "#apply to pmap\n",
    "pmap$cM = get_cM(pmap$pos)\n",
    "gmap<-pmap[,c('marker','chr','cM')]\n",
    "names(gmap)<-c('marker','chr','pos')\n",
    "head(gmap)"
   ]
  },
  {
   "cell_type": "code",
   "execution_count": null,
   "metadata": {},
   "outputs": [],
   "source": [
    "#Write out to file\n",
    "gmapfile=\"MAGICSim_062018/chr10/MAGICSim_gmap_c10.csv\"\n",
    "write.csv(gmap10,file=gmapfile,row.names = FALSE,quote = FALSE)"
   ]
  },
  {
   "cell_type": "markdown",
   "metadata": {},
   "source": [
    "The cross info file is structured with the founder lines as columns and individuals as rows. \n",
    "The values are numbers for the order of the crosses. For example:\n",
    "\n",
    "A cross order of (A x B) x (C x D) for 3 lines would be structured as\n",
    "\n",
    "\n",
    "ind,A,B,C,D\n",
    "\n",
    "i1,1,2,3,4\n",
    "\n",
    "i2,1,2,3,4\n",
    "\n",
    "i3,1,2,3,4\n",
    "\n",
    "Finally, the json control file needs to be set up. See the User Guide for more help with this.\n",
    "Below is what mine ended up looking like:"
   ]
  },
  {
   "cell_type": "code",
   "execution_count": 42,
   "metadata": {},
   "outputs": [
    {
     "name": "stdout",
     "output_type": "stream",
     "text": [
      " [1] \"{\"                                                                                                                                                                                                                       \n",
      " [2] \"    \\\"description\\\":  \\\"10 Simulated MAGIC lines from 16 Biogemma founders\\\",\"                                                                                                                                           \n",
      " [3] \"    \\\"crosstype\\\": \\\"riself16\\\",\"                                                                                                                                                                                        \n",
      " [4] \"    \\\"sep\\\": \\\",\\\",\"                                                                                                                                                                                                     \n",
      " [5] \"    \\\"na.strings\\\": \\\"NA\\\",\"                                                                                                                                                                                             \n",
      " [6] \"    \\\"comment.char\\\": \\\"#\\\",\"                                                                                                                                                                                            \n",
      " [7] \"    \\\"geno\\\": \\\"MAGICSim_geno.csv\\\",\"                                                                                                                                                                                    \n",
      " [8] \"    \\\"genotypes\\\": {\"                                                                                                                                                                                                    \n",
      " [9] \"\\t\\\"A\\\": 1,\"                                                                                                                                                                                                             \n",
      "[10] \"\\t\\\"B\\\": 3\"                                                                                                                                                                                                              \n",
      "[11] \"    },\"                                                                                                                                                                                                                  \n",
      "[12] \"    \\\"founder_geno\\\": \\\"MAGICSim_foundergeno_c10.csv\\\",\"                                                                                                                                                                 \n",
      "[13] \"    \\\"pmap\\\": \\\"MAGICSim_pmap_c10.csv\\\",\"                                                                                                                                                                                \n",
      "[14] \"    \\\"gmap\\\": \\\"MAGICSim_gmap_c10.csv\\\",\"                                                                                                                                                                                \n",
      "[15] \"    \\\"alleles\\\": [\\\"A632_usa\\\",\\\"B73_inra\\\",\\\"CO255_inra\\\",\\\"FV252_inra\\\",\\\"OH43_inra\\\",\\\"A654_inra\\\",\\\"FV2_inra\\\",\\\"C103_inra\\\",\\\"EP1_inra\\\",\\\"D105_inra\\\",\\\"W117_inra\\\",\\\"B96\\\",\\\"DK63\\\",\\\"F492\\\",\\\"ND245\\\",\\\"VA85\\\"],\"\n",
      "[16] \"    \\\"founder_geno_transposed\\\": false,\"                                                                                                                                                                                 \n",
      "[17] \"    \\\"cross_info\\\": {\"                                                                                                                                                                                                   \n",
      "[18] \"    \\t\\\"file\\\": \\\"MAGICSim_cross_info.csv\\\",\"                                                                                                                                                                            \n",
      "[19] \"        \\\"covar\\\":\\\"ngen\\\"\"                                                                                                                                                                                              \n",
      "[20] \"    }\"                                                                                                                                                                                                                   \n",
      "[21] \"}\"                                                                                                                                                                                                                       \n"
     ]
    }
   ],
   "source": [
    "print(system('cat MAGICSim_062018/chr10/MAGICSim.json',intern=T))"
   ]
  },
  {
   "cell_type": "markdown",
   "metadata": {},
   "source": [
    "<a href='section_2'></a>"
   ]
  },
  {
   "cell_type": "markdown",
   "metadata": {},
   "source": [
    "### 2. Running qtl2\n",
    "\n",
    "Now that we have the files set up, we can run qtl2. The calculation of genotype probabilities \n",
    "is computationally intensive. The use of multiple cores is recommended."
   ]
  },
  {
   "cell_type": "code",
   "execution_count": null,
   "metadata": {},
   "outputs": [],
   "source": []
  },
  {
   "cell_type": "code",
   "execution_count": 43,
   "metadata": {},
   "outputs": [],
   "source": [
    "magic<-read_cross2('MAGICSim_062018/chr10/MAGICSim.json')"
   ]
  },
  {
   "cell_type": "code",
   "execution_count": null,
   "metadata": {},
   "outputs": [],
   "source": [
    "pr<-calc_genoprob(magic,error_prob=0.002,cores=0) #calculate genotype probabilities\n",
    "apr<-genoprob_to_alleleprob(pr,cores=0) #get allele probabilities"
   ]
  },
  {
   "cell_type": "code",
   "execution_count": null,
   "metadata": {},
   "outputs": [],
   "source": [
    "saveRDS(pr,\"geno_probs.rds\")\n",
    "saveRDS(apr,\"allele_probs.rds\")"
   ]
  },
  {
   "cell_type": "markdown",
   "metadata": {},
   "source": [
    "<a href='section_3'></a>"
   ]
  },
  {
   "cell_type": "markdown",
   "metadata": {},
   "source": [
    "### 3. Analyzing genotype probabilities"
   ]
  },
  {
   "cell_type": "markdown",
   "metadata": {},
   "source": [
    "Now that we have genotype probabilities, it's time to visualize them and compare them to the known probabilities.\n"
   ]
  },
  {
   "cell_type": "code",
   "execution_count": 45,
   "metadata": {},
   "outputs": [],
   "source": [
    "pr = readRDS('MAGICSim_062018/geno_probs.rds')\n",
    "apr = readRDS('MAGICSim_062018/allele_probs.rds')\n",
    "pmap10 = read.csv('MAGICSim_062018/chr10/MAGICSim_pmap_c10.csv')"
   ]
  },
  {
   "cell_type": "code",
   "execution_count": 46,
   "metadata": {},
   "outputs": [],
   "source": [
    "hex_colors=c(\"#f42896\",\"#84ef7c\",\"#a8bc44\",\"#8ed1d6\",\"#702349\",\"#f2875b\",\"#28ad26\",\"#afd3ef\",\"#937266\",\n",
    "\"#56cc59\",\"#663dd3\",\"#478959\",\"#47145b\",\"#7c2126\",\"#ad147a\",\"#afb735\")\n",
    "founders=c(\"A632_usa\",\"B73_inra\",\"CO255_inra\",\"FV252_inra\",\"OH43_inra\",\"A654_inra\",\n",
    "           \"FV2_inra\",\"C103_inra\",\"EP1_inra\",\"D105_inra\",\"W117_inra\",\"B96\",\"DK63\",\"F492\",\"ND245\",\"VA85\")\n"
   ]
  },
  {
   "cell_type": "code",
   "execution_count": 47,
   "metadata": {},
   "outputs": [],
   "source": [
    "pr_c <- clean_genoprob(pr,value_threshold = 0.0001) #Set very low values to zero (1e-4)"
   ]
  },
  {
   "cell_type": "code",
   "execution_count": 60,
   "metadata": {},
   "outputs": [],
   "source": [
    "all_pr=c()\n",
    "for (m in 1:10){\n",
    "  md <- pr_c[[1]][m,,]\n",
    "  tm <- t(md)\n",
    "  mdf <- as.data.frame(tm,row.names = rownames(tm))\n",
    "  mdf<-rownames_to_column(mdf,\"marker\")\n",
    "  names(mdf)=c(\"marker\",founders)\n",
    "  mdf <- merge(mdf,pmap10,by.x='marker',by.y='marker')\n",
    "  mdf <- mdf[,c(2:17,19)]\n",
    "  mlong<-melt(mdf,id=\"pos\")\n",
    "  mlong$sample=rep(sprintf(\"M%s\",m),dim(mlong)[1])\n",
    "  all_pr=rbind(all_pr,mlong)\n",
    "}"
   ]
  },
  {
   "cell_type": "code",
   "execution_count": null,
   "metadata": {},
   "outputs": [],
   "source": [
    "ggplot(data=all_pr,aes(x=pos,y=value,color=variable)) + facet_grid(sample ~ .) +scale_color_manual(values=hex_colors) + scale_fill_manual(values=hex_colors)+ geom_area(aes(fill=variable),alpha=5/10) + geom_line() + ggtitle(\"Genotype Probability for Sample M1\") + xlab(\"Position (Mb)\") + ylab(\"Probability\") + guides(color=FALSE)"
   ]
  },
  {
   "cell_type": "markdown",
   "metadata": {},
   "source": [
    "![image](../data_files/Biogemma_qtl2_genoprob.png)"
   ]
  },
  {
   "cell_type": "code",
   "execution_count": 62,
   "metadata": {},
   "outputs": [],
   "source": [
    "options(warn=-1)\n",
    "all_breaks=c()\n",
    "for (m in 1:10){\n",
    "  md <- pr_c[[1]][m,,] #pull out the probs for one individual\n",
    "  tm <- t(md) #transpose matrix\n",
    "  mdf <- as.data.frame(tm,row.names = rownames(tm))\n",
    "  mdf<-rownames_to_column(mdf,\"marker\")\n",
    "  names(mdf)=c(\"marker\",founders)\n",
    "  mdf <- merge(mdf,pmap10,by.x='marker',by.y='marker') #get the physical marker positions\n",
    "  mdf <- mdf[,c(2:17,19)]\n",
    "  mlong<-melt(mdf,id=\"pos\") #melt the dataframe\n",
    "  \n",
    "  max_prob<-mlong %>% group_by(pos) %>% top_n(1,value) #grab the highest probability parent for each position\n",
    "  max_prob<-as.data.frame(max_prob)\n",
    "  max_prob<-max_prob[order(max_prob$pos),] #sort in ascending order\n",
    "  rownames(max_prob)=seq(1:nrow(max_prob))\n",
    "  \n",
    "  break_start=max_prob[1,'pos']*1e6 #convert from Mb to bp\n",
    "  break_donor=as.character(max_prob[1,'variable'])\n",
    "  break_end=c()\n",
    "  #Find locations where the most probable donor changes\n",
    "  last_pos=max_prob[1,'pos']\n",
    "  last_donor=as.character(max_prob[1,'variable'])\n",
    "  for(row in 1:nrow(max_prob)){\n",
    "    current_start=max_prob[row,'pos']\n",
    "    current_donor=as.character(max_prob[row,'variable'])\n",
    "    if(current_donor != last_donor){\n",
    "      break_start=rbind(break_start,current_start*1e6)\n",
    "      break_donor=rbind(break_donor,current_donor)\n",
    "      break_end=rbind(break_end,(last_pos*1e6))\n",
    "    }\n",
    "    last_pos=max_prob[row,'pos']\n",
    "    last_donor=as.character(max_prob[row,'variable'])\n",
    "  }\n",
    "  break_end=rbind(break_end,max(max_prob$pos)*1e6)\n",
    "  line=rep(sprintf('M%s',m),dim(break_donor)[1])\n",
    "  chr=rep(10,dim(break_donor)[1])\n",
    "  #convert into dataframe and append to all_breaks\n",
    "  breaks<-data.frame('sample'=line,'chr'=chr,'start'=break_start,'end'=break_end,'donor1'=break_donor,'donor2'=break_donor)\n",
    "  all_breaks=rbind(all_breaks,breaks)\n",
    "}\n",
    "options(warn=0)"
   ]
  },
  {
   "cell_type": "code",
   "execution_count": 54,
   "metadata": {},
   "outputs": [
    {
     "data": {
      "text/html": [
       "<table>\n",
       "<thead><tr><th scope=col>sample</th><th scope=col>chr</th><th scope=col>start</th><th scope=col>end</th><th scope=col>donor1</th><th scope=col>donor2</th></tr></thead>\n",
       "<tbody>\n",
       "\t<tr><td>M1       </td><td>10       </td><td>   275461</td><td> 17969501</td><td>VA85     </td><td>VA85     </td></tr>\n",
       "\t<tr><td>M1       </td><td>10       </td><td> 18007502</td><td>133905897</td><td>DK63     </td><td>DK63     </td></tr>\n",
       "\t<tr><td>M1       </td><td>10       </td><td>133905966</td><td>145003452</td><td>F492     </td><td>F492     </td></tr>\n",
       "\t<tr><td>M1       </td><td>10       </td><td>145004071</td><td>146974993</td><td>D105_inra</td><td>D105_inra</td></tr>\n",
       "\t<tr><td>M1       </td><td>10       </td><td>147005255</td><td>149602124</td><td>B73_inra </td><td>B73_inra </td></tr>\n",
       "\t<tr><td>M2       </td><td>10       </td><td>   275461</td><td> 10889066</td><td>W117_inra</td><td>W117_inra</td></tr>\n",
       "</tbody>\n",
       "</table>\n"
      ],
      "text/latex": [
       "\\begin{tabular}{r|llllll}\n",
       " sample & chr & start & end & donor1 & donor2\\\\\n",
       "\\hline\n",
       "\t M1        & 10        &    275461 &  17969501 & VA85      & VA85     \\\\\n",
       "\t M1        & 10        &  18007502 & 133905897 & DK63      & DK63     \\\\\n",
       "\t M1        & 10        & 133905966 & 145003452 & F492      & F492     \\\\\n",
       "\t M1          & 10          & 145004071   & 146974993   & D105\\_inra & D105\\_inra\\\\\n",
       "\t M1          & 10          & 147005255   & 149602124   & B73\\_inra  & B73\\_inra \\\\\n",
       "\t M2          & 10          &    275461   &  10889066   & W117\\_inra & W117\\_inra\\\\\n",
       "\\end{tabular}\n"
      ],
      "text/markdown": [
       "\n",
       "sample | chr | start | end | donor1 | donor2 | \n",
       "|---|---|---|---|---|---|\n",
       "| M1        | 10        |    275461 |  17969501 | VA85      | VA85      | \n",
       "| M1        | 10        |  18007502 | 133905897 | DK63      | DK63      | \n",
       "| M1        | 10        | 133905966 | 145003452 | F492      | F492      | \n",
       "| M1        | 10        | 145004071 | 146974993 | D105_inra | D105_inra | \n",
       "| M1        | 10        | 147005255 | 149602124 | B73_inra  | B73_inra  | \n",
       "| M2        | 10        |    275461 |  10889066 | W117_inra | W117_inra | \n",
       "\n",
       "\n"
      ],
      "text/plain": [
       "  sample chr start     end       donor1    donor2   \n",
       "1 M1     10     275461  17969501 VA85      VA85     \n",
       "2 M1     10   18007502 133905897 DK63      DK63     \n",
       "3 M1     10  133905966 145003452 F492      F492     \n",
       "4 M1     10  145004071 146974993 D105_inra D105_inra\n",
       "5 M1     10  147005255 149602124 B73_inra  B73_inra \n",
       "6 M2     10     275461  10889066 W117_inra W117_inra"
      ]
     },
     "metadata": {},
     "output_type": "display_data"
    }
   ],
   "source": [
    "head(all_breaks)"
   ]
  },
  {
   "cell_type": "code",
   "execution_count": null,
   "metadata": {},
   "outputs": [],
   "source": [
    "write.table(all_breaks,file='MAGICSim_062018/Predicted_BiogemmaMAGIC_qtl2.txt',sep='\\t',row.names = FALSE,quote = FALSE)"
   ]
  },
  {
   "cell_type": "code",
   "execution_count": 69,
   "metadata": {},
   "outputs": [],
   "source": [
    "colors=cbind(founders,hex_colors)\n",
    "write.table(colors,file='Founder_colorcodes.txt',col.names=FALSE,row.names=FALSE,quote=FALSE,sep='\\t')"
   ]
  },
  {
   "cell_type": "code",
   "execution_count": 70,
   "metadata": {},
   "outputs": [],
   "source": [
    "system(\"python ../impute/pscripts/ideogram.py --colors Founder_colorcodes.txt  --title 'qtl2 Predicted Genotypes' Predicted_BiogemmaMAGIC_qtl2.txt qtl2_image.png\")"
   ]
  },
  {
   "cell_type": "markdown",
   "metadata": {},
   "source": [
    "And here is a plot of the genotype probabilities predicted by qtl2\n",
    "\n",
    "Actual | Predicted\n",
    "- | - \n",
    "![alt](../data_files/ActualBiogemmaMAGICImage062018.png) | ![alt](../data_files/qtl2_image.png)"
   ]
  },
  {
   "cell_type": "code",
   "execution_count": 74,
   "metadata": {},
   "outputs": [
    {
     "name": "stdout",
     "output_type": "stream",
     "text": [
      "  [1] \"None\"                                                                          \n",
      "  [2] \"None\"                                                                          \n",
      "  [3] \"None\"                                                                          \n",
      "  [4] \"None\"                                                                          \n",
      "  [5] \"None\"                                                                          \n",
      "  [6] \"Parent W117_inra not shared between actual and predicted in sample M1 chr 10\"  \n",
      "  [7] \"\"                                                                              \n",
      "  [8] \"Parent A632_usa not shared between actual and predicted in sample M1 chr 10\"   \n",
      "  [9] \"\"                                                                              \n",
      " [10] \"Parent ND245 not shared between actual and predicted in sample M1 chr 10\"      \n",
      " [11] \"\"                                                                              \n",
      " [12] \"Parent B96 not shared between actual and predicted in sample M1 chr 10\"        \n",
      " [13] \"\"                                                                              \n",
      " [14] \"Parent EP1_inra not shared between actual and predicted in sample M1 chr 10\"   \n",
      " [15] \"\"                                                                              \n",
      " [16] \"Parent OH43_inra not shared between actual and predicted in sample M1 chr 10\"  \n",
      " [17] \"\"                                                                              \n",
      " [18] \"Parent A654_inra not shared between actual and predicted in sample M1 chr 10\"  \n",
      " [19] \"\"                                                                              \n",
      " [20] \"Parent FV252_inra not shared between actual and predicted in sample M1 chr 10\" \n",
      " [21] \"\"                                                                              \n",
      " [22] \"Parent C103_inra not shared between actual and predicted in sample M1 chr 10\"  \n",
      " [23] \"\"                                                                              \n",
      " [24] \"Parent FV2_inra not shared between actual and predicted in sample M1 chr 10\"   \n",
      " [25] \"\"                                                                              \n",
      " [26] \"Parent CO255_inra not shared between actual and predicted in sample M1 chr 10\" \n",
      " [27] \"\"                                                                              \n",
      " [28] \"Parent VA85 not shared between actual and predicted in sample M2 chr 10\"       \n",
      " [29] \"\"                                                                              \n",
      " [30] \"None\"                                                                          \n",
      " [31] \"None\"                                                                          \n",
      " [32] \"None\"                                                                          \n",
      " [33] \"Parent B73_inra not shared between actual and predicted in sample M2 chr 10\"   \n",
      " [34] \"\"                                                                              \n",
      " [35] \"None\"                                                                          \n",
      " [36] \"None\"                                                                          \n",
      " [37] \"None\"                                                                          \n",
      " [38] \"Parent B96 not shared between actual and predicted in sample M2 chr 10\"        \n",
      " [39] \"\"                                                                              \n",
      " [40] \"Parent EP1_inra not shared between actual and predicted in sample M2 chr 10\"   \n",
      " [41] \"\"                                                                              \n",
      " [42] \"Parent OH43_inra not shared between actual and predicted in sample M2 chr 10\"  \n",
      " [43] \"\"                                                                              \n",
      " [44] \"Parent A654_inra not shared between actual and predicted in sample M2 chr 10\"  \n",
      " [45] \"\"                                                                              \n",
      " [46] \"Parent FV252_inra not shared between actual and predicted in sample M2 chr 10\" \n",
      " [47] \"\"                                                                              \n",
      " [48] \"Parent C103_inra not shared between actual and predicted in sample M2 chr 10\"  \n",
      " [49] \"\"                                                                              \n",
      " [50] \"Parent FV2_inra not shared between actual and predicted in sample M2 chr 10\"   \n",
      " [51] \"\"                                                                              \n",
      " [52] \"Parent CO255_inra not shared between actual and predicted in sample M2 chr 10\" \n",
      " [53] \"\"                                                                              \n",
      " [54] \"None\"                                                                          \n",
      " [55] \"None\"                                                                          \n",
      " [56] \"None\"                                                                          \n",
      " [57] \"None\"                                                                          \n",
      " [58] \"None\"                                                                          \n",
      " [59] \"None\"                                                                          \n",
      " [60] \"Parent A632_usa not shared between actual and predicted in sample M3 chr 10\"   \n",
      " [61] \"\"                                                                              \n",
      " [62] \"Parent ND245 not shared between actual and predicted in sample M3 chr 10\"      \n",
      " [63] \"\"                                                                              \n",
      " [64] \"None\"                                                                          \n",
      " [65] \"Parent EP1_inra not shared between actual and predicted in sample M3 chr 10\"   \n",
      " [66] \"\"                                                                              \n",
      " [67] \"Parent OH43_inra not shared between actual and predicted in sample M3 chr 10\"  \n",
      " [68] \"\"                                                                              \n",
      " [69] \"Parent A654_inra not shared between actual and predicted in sample M3 chr 10\"  \n",
      " [70] \"\"                                                                              \n",
      " [71] \"Parent FV252_inra not shared between actual and predicted in sample M3 chr 10\" \n",
      " [72] \"\"                                                                              \n",
      " [73] \"Parent C103_inra not shared between actual and predicted in sample M3 chr 10\"  \n",
      " [74] \"\"                                                                              \n",
      " [75] \"Parent FV2_inra not shared between actual and predicted in sample M3 chr 10\"   \n",
      " [76] \"\"                                                                              \n",
      " [77] \"Parent CO255_inra not shared between actual and predicted in sample M3 chr 10\" \n",
      " [78] \"\"                                                                              \n",
      " [79] \"Parent VA85 not shared between actual and predicted in sample M4 chr 10\"       \n",
      " [80] \"\"                                                                              \n",
      " [81] \"Parent DK63 not shared between actual and predicted in sample M4 chr 10\"       \n",
      " [82] \"\"                                                                              \n",
      " [83] \"Parent F492 not shared between actual and predicted in sample M4 chr 10\"       \n",
      " [84] \"\"                                                                              \n",
      " [85] \"Parent D105_inra not shared between actual and predicted in sample M4 chr 10\"  \n",
      " [86] \"\"                                                                              \n",
      " [87] \"Parent B73_inra not shared between actual and predicted in sample M4 chr 10\"   \n",
      " [88] \"\"                                                                              \n",
      " [89] \"None\"                                                                          \n",
      " [90] \"None\"                                                                          \n",
      " [91] \"Parent ND245 not shared between actual and predicted in sample M4 chr 10\"      \n",
      " [92] \"\"                                                                              \n",
      " [93] \"None\"                                                                          \n",
      " [94] \"None\"                                                                          \n",
      " [95] \"None\"                                                                          \n",
      " [96] \"None\"                                                                          \n",
      " [97] \"None\"                                                                          \n",
      " [98] \"Parent C103_inra not shared between actual and predicted in sample M4 chr 10\"  \n",
      " [99] \"\"                                                                              \n",
      "[100] \"Parent FV2_inra not shared between actual and predicted in sample M4 chr 10\"   \n",
      "[101] \"\"                                                                              \n",
      "[102] \"Parent CO255_inra not shared between actual and predicted in sample M4 chr 10\" \n",
      "[103] \"\"                                                                              \n",
      "[104] \"None\"                                                                          \n",
      "[105] \"Parent DK63 not shared between actual and predicted in sample M5 chr 10\"       \n",
      "[106] \"\"                                                                              \n",
      "[107] \"Parent F492 not shared between actual and predicted in sample M5 chr 10\"       \n",
      "[108] \"\"                                                                              \n",
      "[109] \"None\"                                                                          \n",
      "[110] \"Parent B73_inra not shared between actual and predicted in sample M5 chr 10\"   \n",
      "[111] \"\"                                                                              \n",
      "[112] \"None\"                                                                          \n",
      "[113] \"Parent A632_usa not shared between actual and predicted in sample M5 chr 10\"   \n",
      "[114] \"\"                                                                              \n",
      "[115] \"Parent ND245 not shared between actual and predicted in sample M5 chr 10\"      \n",
      "[116] \"\"                                                                              \n",
      "[117] \"Parent B96 not shared between actual and predicted in sample M5 chr 10\"        \n",
      "[118] \"\"                                                                              \n",
      "[119] \"None\"                                                                          \n",
      "[120] \"Parent OH43_inra not shared between actual and predicted in sample M5 chr 10\"  \n",
      "[121] \"\"                                                                              \n",
      "[122] \"None\"                                                                          \n",
      "[123] \"None\"                                                                          \n",
      "[124] \"None\"                                                                          \n",
      "[125] \"Parent FV2_inra not shared between actual and predicted in sample M5 chr 10\"   \n",
      "[126] \"\"                                                                              \n",
      "[127] \"Parent CO255_inra not shared between actual and predicted in sample M5 chr 10\" \n",
      "[128] \"\"                                                                              \n",
      "[129] \"None\"                                                                          \n",
      "[130] \"Parent DK63 not shared between actual and predicted in sample M6 chr 10\"       \n",
      "[131] \"\"                                                                              \n",
      "[132] \"None\"                                                                          \n",
      "[133] \"Parent D105_inra not shared between actual and predicted in sample M6 chr 10\"  \n",
      "[134] \"\"                                                                              \n",
      "[135] \"None\"                                                                          \n",
      "[136] \"None\"                                                                          \n",
      "[137] \"Parent A632_usa not shared between actual and predicted in sample M6 chr 10\"   \n",
      "[138] \"\"                                                                              \n",
      "[139] \"Parent ND245 not shared between actual and predicted in sample M6 chr 10\"      \n",
      "[140] \"\"                                                                              \n",
      "[141] \"Parent B96 not shared between actual and predicted in sample M6 chr 10\"        \n",
      "[142] \"\"                                                                              \n",
      "[143] \"None\"                                                                          \n",
      "[144] \"None\"                                                                          \n",
      "[145] \"Parent A654_inra not shared between actual and predicted in sample M6 chr 10\"  \n",
      "[146] \"\"                                                                              \n",
      "[147] \"Parent FV252_inra not shared between actual and predicted in sample M6 chr 10\" \n",
      "[148] \"\"                                                                              \n",
      "[149] \"None\"                                                                          \n",
      "[150] \"None\"                                                                          \n",
      "[151] \"Parent CO255_inra not shared between actual and predicted in sample M6 chr 10\" \n",
      "[152] \"\"                                                                              \n",
      "[153] \"Parent VA85 not shared between actual and predicted in sample M7 chr 10\"       \n",
      "[154] \"\"                                                                              \n",
      "[155] \"Parent DK63 not shared between actual and predicted in sample M7 chr 10\"       \n",
      "[156] \"\"                                                                              \n",
      "[157] \"Parent F492 not shared between actual and predicted in sample M7 chr 10\"       \n",
      "[158] \"\"                                                                              \n",
      "[159] \"Parent D105_inra not shared between actual and predicted in sample M7 chr 10\"  \n",
      "[160] \"\"                                                                              \n",
      "[161] \"Parent B73_inra not shared between actual and predicted in sample M7 chr 10\"   \n",
      "[162] \"\"                                                                              \n",
      "[163] \"Parent W117_inra not shared between actual and predicted in sample M7 chr 10\"  \n",
      "[164] \"\"                                                                              \n",
      "[165] \"Parent A632_usa not shared between actual and predicted in sample M7 chr 10\"   \n",
      "[166] \"\"                                                                              \n",
      "[167] \"None\"                                                                          \n",
      "[168] \"None\"                                                                          \n",
      "[169] \"Parent EP1_inra not shared between actual and predicted in sample M7 chr 10\"   \n",
      "[170] \"\"                                                                              \n",
      "[171] \"None\"                                                                          \n",
      "[172] \"Parent A654_inra not shared between actual and predicted in sample M7 chr 10\"  \n",
      "[173] \"\"                                                                              \n",
      "[174] \"Parent FV252_inra not shared between actual and predicted in sample M7 chr 10\" \n",
      "[175] \"\"                                                                              \n",
      "[176] \"Parent C103_inra not shared between actual and predicted in sample M7 chr 10\"  \n",
      "[177] \"\"                                                                              \n",
      "[178] \"None\"                                                                          \n",
      "[179] \"Parent CO255_inra not shared between actual and predicted in sample M7 chr 10\" \n",
      "[180] \"\"                                                                              \n",
      "[181] \"None\"                                                                          \n",
      "[182] \"Parent DK63 not shared between actual and predicted in sample M8 chr 10\"       \n",
      "[183] \"\"                                                                              \n",
      "[184] \"None\"                                                                          \n",
      "[185] \"Parent D105_inra not shared between actual and predicted in sample M8 chr 10\"  \n",
      "[186] \"\"                                                                              \n",
      "[187] \"None\"                                                                          \n",
      "[188] \"None\"                                                                          \n",
      "[189] \"None\"                                                                          \n",
      "[190] \"None\"                                                                          \n",
      "[191] \"Parent B96 not shared between actual and predicted in sample M8 chr 10\"        \n",
      "[192] \"\"                                                                              \n",
      "[193] \"Parent EP1_inra not shared between actual and predicted in sample M8 chr 10\"   \n",
      "[194] \"\"                                                                              \n",
      "[195] \"None\"                                                                          \n",
      "[196] \"None\"                                                                          \n",
      "[197] \"Parent FV252_inra not shared between actual and predicted in sample M8 chr 10\" \n",
      "[198] \"\"                                                                              \n",
      "[199] \"Parent C103_inra not shared between actual and predicted in sample M8 chr 10\"  \n",
      "[200] \"\"                                                                              \n",
      "[201] \"None\"                                                                          \n",
      "[202] \"None\"                                                                          \n",
      "[203] \"None\"                                                                          \n",
      "[204] \"Parent DK63 not shared between actual and predicted in sample M9 chr 10\"       \n",
      "[205] \"\"                                                                              \n",
      "[206] \"Parent F492 not shared between actual and predicted in sample M9 chr 10\"       \n",
      "[207] \"\"                                                                              \n",
      "[208] \"Parent D105_inra not shared between actual and predicted in sample M9 chr 10\"  \n",
      "[209] \"\"                                                                              \n",
      "[210] \"Parent B73_inra not shared between actual and predicted in sample M9 chr 10\"   \n",
      "[211] \"\"                                                                              \n",
      "[212] \"Parent W117_inra not shared between actual and predicted in sample M9 chr 10\"  \n",
      "[213] \"\"                                                                              \n",
      "[214] \"None\"                                                                          \n",
      "[215] \"None\"                                                                          \n",
      "[216] \"Parent B96 not shared between actual and predicted in sample M9 chr 10\"        \n",
      "[217] \"\"                                                                              \n",
      "[218] \"Parent EP1_inra not shared between actual and predicted in sample M9 chr 10\"   \n",
      "[219] \"\"                                                                              \n",
      "[220] \"None\"                                                                          \n",
      "[221] \"Parent A654_inra not shared between actual and predicted in sample M9 chr 10\"  \n",
      "[222] \"\"                                                                              \n",
      "[223] \"Parent FV252_inra not shared between actual and predicted in sample M9 chr 10\" \n",
      "[224] \"\"                                                                              \n",
      "[225] \"None\"                                                                          \n",
      "[226] \"None\"                                                                          \n",
      "[227] \"None\"                                                                          \n",
      "[228] \"Parent VA85 not shared between actual and predicted in sample M10 chr 10\"      \n",
      "[229] \"\"                                                                              \n",
      "[230] \"Parent DK63 not shared between actual and predicted in sample M10 chr 10\"      \n",
      "[231] \"\"                                                                              \n",
      "[232] \"Parent F492 not shared between actual and predicted in sample M10 chr 10\"      \n",
      "[233] \"\"                                                                              \n",
      "[234] \"Parent D105_inra not shared between actual and predicted in sample M10 chr 10\" \n",
      "[235] \"\"                                                                              \n",
      "[236] \"Parent B73_inra not shared between actual and predicted in sample M10 chr 10\"  \n",
      "[237] \"\"                                                                              \n",
      "[238] \"Parent W117_inra not shared between actual and predicted in sample M10 chr 10\" \n",
      "[239] \"\"                                                                              \n",
      "[240] \"None\"                                                                          \n",
      "[241] \"None\"                                                                          \n",
      "[242] \"None\"                                                                          \n",
      "[243] \"Parent EP1_inra not shared between actual and predicted in sample M10 chr 10\"  \n",
      "[244] \"\"                                                                              \n",
      "[245] \"None\"                                                                          \n",
      "[246] \"Parent A654_inra not shared between actual and predicted in sample M10 chr 10\" \n",
      "[247] \"\"                                                                              \n",
      "[248] \"Parent FV252_inra not shared between actual and predicted in sample M10 chr 10\"\n",
      "[249] \"\"                                                                              \n",
      "[250] \"Parent C103_inra not shared between actual and predicted in sample M10 chr 10\" \n",
      "[251] \"\"                                                                              \n",
      "[252] \"Parent FV2_inra not shared between actual and predicted in sample M10 chr 10\"  \n",
      "[253] \"\"                                                                              \n",
      "[254] \"Parent CO255_inra not shared between actual and predicted in sample M10 chr 10\"\n",
      "[255] \"\"                                                                              \n"
     ]
    }
   ],
   "source": [
    "print(system('python ../impute/pscripts/intersect.py ../impute/sim_files/062018/Biogemma_MAGICSim.txt Predicted_BiogemmaMAGIC_qtl2.txt',intern=T))"
   ]
  },
  {
   "cell_type": "code",
   "execution_count": 80,
   "metadata": {},
   "outputs": [
    {
     "name": "stdout",
     "output_type": "stream",
     "text": [
      "[1] \"\"                                             \n",
      "[2] \"Total Percentage Correct: 0.998\"              \n",
      "[3] \"Percentage of Homozygous Calls Correct: 0.998\"\n",
      "[4] \"Percentage of Heterozygous Calls: 0.0\"        \n"
     ]
    }
   ],
   "source": [
    "print(system('cat intersect_output.txt | tail -4',intern=T))"
   ]
  },
  {
   "cell_type": "code",
   "execution_count": null,
   "metadata": {},
   "outputs": [],
   "source": []
  }
 ],
 "metadata": {
  "kernelspec": {
   "display_name": "R",
   "language": "R",
   "name": "ir"
  },
  "language_info": {
   "codemirror_mode": "r",
   "file_extension": ".r",
   "mimetype": "text/x-r-source",
   "name": "R",
   "pygments_lexer": "r",
   "version": "3.4.2"
  }
 },
 "nbformat": 4,
 "nbformat_minor": 2
}
