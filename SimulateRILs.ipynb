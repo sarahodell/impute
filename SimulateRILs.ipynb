{
 "cells": [
  {
   "cell_type": "markdown",
   "metadata": {},
   "source": [
    "# Creating simulated RILs\n",
    "\n",
    "\n",
    "Created by: Sarah Odell\n",
    "Date: 05/14/2108"
   ]
  },
  {
   "cell_type": "markdown",
   "metadata": {},
   "source": [
    "Generate recombinant inbred lines (RILs) based off of the NAM maize population (5 generations of selfing). Writes out into files for other building RIL vcf files or for visualization in the plots below.\n",
    "\n",
    "Code to visualize parent donors of RIL chromosomes in an ideogram. This is modified from code by Ryan Dale (https://gist.github.com/daler/c98fc410282d7570efc3)"
   ]
  },
  {
   "cell_type": "code",
   "execution_count": 1,
   "metadata": {},
   "outputs": [
    {
     "name": "stdout",
     "output_type": "stream",
     "text": [
      "Populating the interactive namespace from numpy and matplotlib\n"
     ]
    }
   ],
   "source": [
    "%pylab inline\n",
    "import pandas as pd"
   ]
  },
  {
   "cell_type": "code",
   "execution_count": 2,
   "metadata": {
    "collapsed": true
   },
   "outputs": [],
   "source": [
    "def chrom_info(chro_num):\n",
    "    \"\"\"chro_num: chromosome number (int)\n",
    "    Outputs:\n",
    "    prior: a probability distribution function for crossover events on\n",
    "    that chromosome based on chromosome length and centromere position \n",
    "    (list of floats)\n",
    "    end: (int) the approximate end of the chromosome, in Mb\n",
    "    \"\"\"\n",
    "    cent = pd.read_table('B73v4centromeres.txt',sep='\\t')\n",
    "    cdf = cent[cent['chr']==chro_num]\n",
    "    end = int(cdf['v3chr.end'].values[0])\n",
    "    centstart = int(cdf['v3start'].values[0])\n",
    "    centend= int(cdf['v3end'].values[0])\n",
    "    centlen = int(round(cdf['v3size'].values[0]))\n",
    "    if end-centend > centstart:\n",
    "        longarm = end-centend\n",
    "        shortarm = centstart\n",
    "    else:\n",
    "        longarm = centstart\n",
    "        shortarm = end-centend\n",
    "    diff = longarm-shortarm\n",
    "    a = [i**2 for i in list(reversed(range(0,centstart+1)))]\n",
    "    c = [0.0 for i in range(centlen)]\n",
    "    b = [i**2 for i in range(longarm)]\n",
    "    prior = a+c+b\n",
    "    if len(prior)>= end:\n",
    "        prior=prior[:end]\n",
    "    prior = [float(j)/sum(prior) for j in prior]\n",
    "    return prior,end"
   ]
  },
  {
   "cell_type": "code",
   "execution_count": 3,
   "metadata": {},
   "outputs": [
    {
     "data": {
      "text/plain": [
       "[<matplotlib.lines.Line2D at 0x1189d7090>]"
      ]
     },
     "execution_count": 3,
     "metadata": {},
     "output_type": "execute_result"
    },
    {
     "data": {
      "image/png": "[encoded data removed]",
      "text/plain": [
       "<matplotlib.figure.Figure at 0x1130bf8d0>"
      ]
     },
     "metadata": {},
     "output_type": "display_data"
    }
   ],
   "source": [
    "prior,end = chrom_info(10)\n",
    "plot(prior)"
   ]
  },
  {
   "cell_type": "code",
   "execution_count": 4,
   "metadata": {
    "collapsed": true
   },
   "outputs": [],
   "source": [
    "def make_rils(n=10,parents=['B73','Oh43'],xo=6,c=10,breaks=1):\n",
    "    \"\"\"Simulates a RIL population chromosome\n",
    "        n: number of RILS\n",
    "        parents: list of length 2, names of RIL parents\n",
    "        xo: Mean number of crossovers expected per individual chromosome\n",
    "        (default: 6)\n",
    "        c: chromosome number (int in range 1..10)\n",
    "        breaks: size of possible break intervals in Mb (default: 1)\n",
    "    Output: A dictionary of individual RILS. keys are integers ranging 0..n\n",
    "    and values are lists, where each index is parent donor identity for that\n",
    "    chromosome interval\n",
    "    \n",
    "    Currently, the xo number is a set integer. In the future, will change\n",
    "    so that the xo number is drawn from a suitable distribution.\n",
    "    \"\"\"\n",
    "    prior,chrlen = chrom_info(c)\n",
    "    site = [i for i in range(chrlen)]\n",
    "    rils = {}\n",
    "    for j in range(n):\n",
    "        f1=[]\n",
    "        #randomly choose a parent to start with\n",
    "        if numpy.random.random_sample() >= 0.5:\n",
    "            donor = parents[0]\n",
    "        else:\n",
    "            donor = parents[1]\n",
    "        site = range(chrlen)\n",
    "        size = numpy.random\n",
    "        draw = numpy.random.choice(site,size=xo,p=prior)\n",
    "        for i in range(0,chrlen+1,breaks):\n",
    "            if i in draw:\n",
    "                if donor==parents[0]:\n",
    "                    donor=parents[1]\n",
    "                elif donor==parents[1]:\n",
    "                    donor=parents[0]\n",
    "            f1.append([i,donor])\n",
    "        rils['R{0}'.format(j+1)]=f1\n",
    "    return rils"
   ]
  },
  {
   "cell_type": "code",
   "execution_count": 5,
   "metadata": {
    "collapsed": true
   },
   "outputs": [],
   "source": [
    "def co_count(f1):\n",
    "    \"\"\"\n",
    "    Returns the number of crossovers in an individual ril chromosome (int)\n",
    "    Input:\n",
    "        f1: one chromosome from the output dictionary of make_rils().\n",
    "        Example: rils[1]\"\"\"\n",
    "    breakpoints=0\n",
    "    last = f1[0][1]\n",
    "    for i in f1:\n",
    "        if i[1] != last:\n",
    "            breakpoints += 1\n",
    "        last = i[1]\n",
    "    return breakpoints"
   ]
  },
  {
   "cell_type": "markdown",
   "metadata": {},
   "source": [
    "Simulates all 10 chromosomes for 10 RIL individuals (R1 through R10). "
   ]
  },
  {
   "cell_type": "code",
   "execution_count": 17,
   "metadata": {
    "collapsed": true
   },
   "outputs": [],
   "source": [
    "rils={}\n",
    "for j in range(1,11):\n",
    "    ril={}\n",
    "    for c in range(1,11):\n",
    "        chrom = make_rils(n=1,parents=['B73','Oh43'],c=c)\n",
    "        ril[c]=chrom[0]\n",
    "    rils['R{0}'.format(j)] = ril"
   ]
  },
  {
   "cell_type": "code",
   "execution_count": 18,
   "metadata": {},
   "outputs": [
    {
     "data": {
      "text/plain": [
       "[[0, 'Oh43'],\n",
       " [1, 'Oh43'],\n",
       " [2, 'B73'],\n",
       " [3, 'B73'],\n",
       " [4, 'B73'],\n",
       " [5, 'B73'],\n",
       " [6, 'B73'],\n",
       " [7, 'B73'],\n",
       " [8, 'B73'],\n",
       " [9, 'B73']]"
      ]
     },
     "execution_count": 18,
     "metadata": {},
     "output_type": "execute_result"
    }
   ],
   "source": [
    "rils['R1'][10][:10]"
   ]
  },
  {
   "cell_type": "markdown",
   "metadata": {},
   "source": [
    "Simulates only chromosome 10 for 10 RIL individuals.\n",
    "This will be used to generate RIL VCF files later."
   ]
  },
  {
   "cell_type": "code",
   "execution_count": null,
   "metadata": {
    "collapsed": true
   },
   "outputs": [],
   "source": [
    "chr10 = make_rils(n=10,parents=['B73','Oh43'],c=10)"
   ]
  },
  {
   "cell_type": "code",
   "execution_count": 19,
   "metadata": {
    "collapsed": true
   },
   "outputs": [],
   "source": [
    "chr10 = make_rils(n=1000,parents=['B73','Oh43'],c=10)"
   ]
  },
  {
   "cell_type": "code",
   "execution_count": 60,
   "metadata": {},
   "outputs": [
    {
     "data": {
      "text/plain": [
       "[[0, 'B73'],\n",
       " [1, 'B73'],\n",
       " [2, 'B73'],\n",
       " [3, 'B73'],\n",
       " [4, 'B73'],\n",
       " [5, 'B73'],\n",
       " [6, 'B73'],\n",
       " [7, 'B73'],\n",
       " [8, 'B73'],\n",
       " [9, 'B73'],\n",
       " [10, 'B73'],\n",
       " [11, 'B73'],\n",
       " [12, 'B73'],\n",
       " [13, 'B73'],\n",
       " [14, 'B73'],\n",
       " [15, 'B73'],\n",
       " [16, 'B73'],\n",
       " [17, 'B73'],\n",
       " [18, 'B73'],\n",
       " [19, 'B73'],\n",
       " [20, 'B73'],\n",
       " [21, 'B73'],\n",
       " [22, 'B73'],\n",
       " [23, 'B73'],\n",
       " [24, 'B73'],\n",
       " [25, 'B73'],\n",
       " [26, 'B73'],\n",
       " [27, 'B73'],\n",
       " [28, 'B73'],\n",
       " [29, 'B73'],\n",
       " [30, 'B73'],\n",
       " [31, 'B73'],\n",
       " [32, 'B73'],\n",
       " [33, 'B73'],\n",
       " [34, 'B73'],\n",
       " [35, 'B73'],\n",
       " [36, 'B73'],\n",
       " [37, 'B73'],\n",
       " [38, 'B73'],\n",
       " [39, 'B73'],\n",
       " [40, 'B73'],\n",
       " [41, 'B73'],\n",
       " [42, 'B73'],\n",
       " [43, 'B73'],\n",
       " [44, 'B73'],\n",
       " [45, 'B73'],\n",
       " [46, 'B73'],\n",
       " [47, 'B73'],\n",
       " [48, 'B73'],\n",
       " [49, 'B73'],\n",
       " [50, 'B73'],\n",
       " [51, 'B73'],\n",
       " [52, 'B73'],\n",
       " [53, 'B73'],\n",
       " [54, 'B73'],\n",
       " [55, 'B73'],\n",
       " [56, 'B73'],\n",
       " [57, 'B73'],\n",
       " [58, 'B73'],\n",
       " [59, 'B73'],\n",
       " [60, 'B73'],\n",
       " [61, 'B73'],\n",
       " [62, 'B73'],\n",
       " [63, 'B73'],\n",
       " [64, 'B73'],\n",
       " [65, 'B73'],\n",
       " [66, 'B73'],\n",
       " [67, 'B73'],\n",
       " [68, 'B73'],\n",
       " [69, 'B73'],\n",
       " [70, 'B73'],\n",
       " [71, 'B73'],\n",
       " [72, 'B73'],\n",
       " [73, 'B73'],\n",
       " [74, 'B73'],\n",
       " [75, 'B73'],\n",
       " [76, 'B73'],\n",
       " [77, 'B73'],\n",
       " [78, 'B73'],\n",
       " [79, 'B73'],\n",
       " [80, 'B73'],\n",
       " [81, 'B73'],\n",
       " [82, 'B73'],\n",
       " [83, 'B73'],\n",
       " [84, 'B73'],\n",
       " [85, 'B73'],\n",
       " [86, 'B73'],\n",
       " [87, 'B73'],\n",
       " [88, 'B73'],\n",
       " [89, 'B73'],\n",
       " [90, 'B73'],\n",
       " [91, 'B73'],\n",
       " [92, 'B73'],\n",
       " [93, 'B73'],\n",
       " [94, 'B73'],\n",
       " [95, 'B73'],\n",
       " [96, 'B73'],\n",
       " [97, 'B73'],\n",
       " [98, 'B73'],\n",
       " [99, 'B73'],\n",
       " [100, 'B73'],\n",
       " [101, 'B73'],\n",
       " [102, 'B73'],\n",
       " [103, 'B73'],\n",
       " [104, 'B73'],\n",
       " [105, 'B73'],\n",
       " [106, 'B73'],\n",
       " [107, 'B73'],\n",
       " [108, 'B73'],\n",
       " [109, 'Oh43'],\n",
       " [110, 'Oh43'],\n",
       " [111, 'Oh43'],\n",
       " [112, 'Oh43'],\n",
       " [113, 'Oh43'],\n",
       " [114, 'Oh43'],\n",
       " [115, 'Oh43'],\n",
       " [116, 'B73'],\n",
       " [117, 'B73'],\n",
       " [118, 'B73'],\n",
       " [119, 'Oh43'],\n",
       " [120, 'Oh43'],\n",
       " [121, 'Oh43'],\n",
       " [122, 'Oh43'],\n",
       " [123, 'Oh43'],\n",
       " [124, 'Oh43'],\n",
       " [125, 'Oh43'],\n",
       " [126, 'Oh43'],\n",
       " [127, 'Oh43'],\n",
       " [128, 'Oh43'],\n",
       " [129, 'Oh43'],\n",
       " [130, 'Oh43'],\n",
       " [131, 'Oh43'],\n",
       " [132, 'Oh43'],\n",
       " [133, 'Oh43'],\n",
       " [134, 'Oh43'],\n",
       " [135, 'Oh43'],\n",
       " [136, 'Oh43'],\n",
       " [137, 'Oh43'],\n",
       " [138, 'Oh43'],\n",
       " [139, 'B73'],\n",
       " [140, 'B73'],\n",
       " [141, 'Oh43'],\n",
       " [142, 'B73'],\n",
       " [143, 'B73'],\n",
       " [144, 'B73'],\n",
       " [145, 'B73'],\n",
       " [146, 'B73'],\n",
       " [147, 'B73'],\n",
       " [148, 'B73'],\n",
       " [149, 'B73']]"
      ]
     },
     "execution_count": 60,
     "metadata": {},
     "output_type": "execute_result"
    }
   ],
   "source": [
    "chr10['R552']"
   ]
  },
  {
   "cell_type": "code",
   "execution_count": 38,
   "metadata": {
    "collapsed": true
   },
   "outputs": [],
   "source": [
    "def write_rils(ril,out,c=10,cnum=10):\n",
    "    \"\"\"Writes out dictionary output of make_rils() to a file with format:\n",
    "        chr   start   end     sample1   sample2   ...\n",
    "        10    0       999999  Oh43      B73\n",
    "        10    1000000 1999999 Oh43      B73\n",
    "        10    2000000 2999999 Oh43      Oh43\n",
    "        10    3000000 3999999 Oh43      Oh43\n",
    "    out: (str) name of output file    \n",
    "    \"\"\"\n",
    "    p1 = 'B73'\n",
    "    p2 = 'Oh43'\n",
    "    txt = 'chr\\tstart\\tend\\t'\n",
    "    for k in ril.keys():\n",
    "        txt+='{0}\\t'.format(k)\n",
    "    txt+='\\n'\n",
    "    if cnum==1:\n",
    "        breaks = len(ril['R1'])\n",
    "        for n in range(breaks):\n",
    "            start = int(ril['R1'][n][0]*1e6)\n",
    "            end = int((ril['R1'][n][0]+1)*1e6)-1\n",
    "            txt+='{0}\\t{1}\\t{2}'.format(c,start,end)\n",
    "            for m in ril.keys():\n",
    "                txt+='\\t{0}'.format(ril[m][n][1])\n",
    "            txt+='\\n'      \n",
    "    else:\n",
    "        for i in range(0,cnum+1):\n",
    "            breaks = len(ril['R1'][i])\n",
    "            for n in range(breaks):\n",
    "                start = int(ril['R1'][i][n][0]*1e6)\n",
    "                end = int((ril['R1'][i][n][0]+1)*1e6)-1\n",
    "                txt+='{0}\\t{1}\\t{2}'.format(i,start,end)\n",
    "                for m in ril.keys():\n",
    "                    txt+='\\t{0}'.format(ril[m][i][n][1])\n",
    "                txt+='\\n'           \n",
    "    with open(out,'w') as outfile:\n",
    "        outfile.write(txt)"
   ]
  },
  {
   "cell_type": "code",
   "execution_count": 39,
   "metadata": {
    "collapsed": true
   },
   "outputs": [],
   "source": [
    "write_rils(chr10,'1000_RILS.txt',cnum=1)"
   ]
  },
  {
   "cell_type": "code",
   "execution_count": 6,
   "metadata": {
    "collapsed": true
   },
   "outputs": [],
   "source": [
    "def co_loc(f1,c=10):\n",
    "    \"\"\"\n",
    "    Returns regions of a chromosome received from particular parents\n",
    "    in an individual ril chromosome (int)\n",
    "    Input:\n",
    "        f1: one chromosome from the output dictionary of make_rils().\n",
    "        Example: rils[1]\"\"\"\n",
    "    locs=[]\n",
    "    last = f1[1]\n",
    "    counter = f1[0][0]\n",
    "    for i in f1:\n",
    "        if i[1] != last[1]:\n",
    "            start = int(i[0]*1e6)-1\n",
    "            end = int((i[0])*1e6)\n",
    "            locs.append([c,counter,start,last[1]])\n",
    "            counter=end\n",
    "        last = i\n",
    "    locs.append([c,counter,int((f1[-1][0]+1)*1e6)-1,last[1]])\n",
    "    return locs"
   ]
  },
  {
   "cell_type": "code",
   "execution_count": 11,
   "metadata": {},
   "outputs": [
    {
     "data": {
      "text/html": [
       "<div>\n",
       "<style>\n",
       "    .dataframe thead tr:only-child th {\n",
       "        text-align: right;\n",
       "    }\n",
       "\n",
       "    .dataframe thead th {\n",
       "        text-align: left;\n",
       "    }\n",
       "\n",
       "    .dataframe tbody tr th {\n",
       "        vertical-align: top;\n",
       "    }\n",
       "</style>\n",
       "<table border=\"1\" class=\"dataframe\">\n",
       "  <thead>\n",
       "    <tr style=\"text-align: right;\">\n",
       "      <th></th>\n",
       "      <th>chr</th>\n",
       "      <th>start</th>\n",
       "      <th>end</th>\n",
       "      <th>donor</th>\n",
       "    </tr>\n",
       "  </thead>\n",
       "  <tbody>\n",
       "    <tr>\n",
       "      <th>0</th>\n",
       "      <td>4</td>\n",
       "      <td>0.0</td>\n",
       "      <td>1.0</td>\n",
       "      <td>Oh43</td>\n",
       "    </tr>\n",
       "    <tr>\n",
       "      <th>1</th>\n",
       "      <td>4</td>\n",
       "      <td>1.0</td>\n",
       "      <td>2.0</td>\n",
       "      <td>Oh43</td>\n",
       "    </tr>\n",
       "    <tr>\n",
       "      <th>2</th>\n",
       "      <td>4</td>\n",
       "      <td>2.0</td>\n",
       "      <td>3.0</td>\n",
       "      <td>Oh43</td>\n",
       "    </tr>\n",
       "    <tr>\n",
       "      <th>3</th>\n",
       "      <td>4</td>\n",
       "      <td>3.0</td>\n",
       "      <td>4.0</td>\n",
       "      <td>Oh43</td>\n",
       "    </tr>\n",
       "    <tr>\n",
       "      <th>4</th>\n",
       "      <td>4</td>\n",
       "      <td>4.0</td>\n",
       "      <td>5.0</td>\n",
       "      <td>Oh43</td>\n",
       "    </tr>\n",
       "  </tbody>\n",
       "</table>\n",
       "</div>"
      ],
      "text/plain": [
       "   chr  start  end donor\n",
       "0    4    0.0  1.0  Oh43\n",
       "1    4    1.0  2.0  Oh43\n",
       "2    4    2.0  3.0  Oh43\n",
       "3    4    3.0  4.0  Oh43\n",
       "4    4    4.0  5.0  Oh43"
      ]
     },
     "execution_count": 11,
     "metadata": {},
     "output_type": "execute_result"
    }
   ],
   "source": [
    "rilsim = pd.read_table('../RILSim_ideo.txt',sep='\\t')\n",
    "rilsim.head()"
   ]
  },
  {
   "cell_type": "code",
   "execution_count": 81,
   "metadata": {},
   "outputs": [
    {
     "data": {
      "text/plain": [
       "[[10, 0, 111999999, 'Oh43'],\n",
       " [10, 112000000, 115999999, 'B73'],\n",
       " [10, 116000000, 134999999, 'Oh43'],\n",
       " [10, 135000000, 137999999, 'B73'],\n",
       " [10, 138000000, 141999999, 'Oh43'],\n",
       " [10, 142000000, 145999999, 'B73'],\n",
       " [10, 146000000, 149999999, 'Oh43']]"
      ]
     },
     "execution_count": 81,
     "metadata": {},
     "output_type": "execute_result"
    }
   ],
   "source": [
    "co_loc(chr10['R1'])"
   ]
  },
  {
   "cell_type": "code",
   "execution_count": 79,
   "metadata": {},
   "outputs": [
    {
     "data": {
      "text/plain": [
       "149999999.0"
      ]
     },
     "execution_count": 79,
     "metadata": {},
     "output_type": "execute_result"
    }
   ],
   "source": [
    "(chr10['R1'][-1][0]+1)*1e6 - 1"
   ]
  },
  {
   "cell_type": "code",
   "execution_count": 66,
   "metadata": {
    "collapsed": true
   },
   "outputs": [],
   "source": [
    "def write_co(f1,out,c):\n",
    "    locs = co_loc(f1,c)\n",
    "    txt='chr\\tstart\\tend\\tdonor\\n'\n",
    "    for i in locs:\n",
    "        txt+='{0}\\t{1}\\t{2}\\t{3}\\n'.format(i[0],i[1],i[2],i[3])\n",
    "    with open(out,'w') as outfile:\n",
    "        outfile.write(txt)"
   ]
  },
  {
   "cell_type": "code",
   "execution_count": null,
   "metadata": {
    "collapsed": true
   },
   "outputs": [],
   "source": []
  },
  {
   "cell_type": "markdown",
   "metadata": {},
   "source": [
    "## Visualizing RILs "
   ]
  },
  {
   "cell_type": "markdown",
   "metadata": {},
   "source": [
    "Now that we've created the RIL population, we may want to see how crossovers have been distributed, and which parents have donated to which regions of the chromosomes. Below, I make a ideogram showing the parental contributions for all ten chromosomes of one RIL. This can be modified to show only one chromosome for all the RILs, etc."
   ]
  },
  {
   "cell_type": "code",
   "execution_count": 69,
   "metadata": {
    "collapsed": true
   },
   "outputs": [],
   "source": [
    "def make_ideotable(ril,out):\n",
    "    \"\"\" Writes out file in format for drawing ideogram plots\n",
    "    ril: \n",
    "    out: name of outfile (str)\n",
    "    \"\"\"\n",
    "    txt = 'chr\\tstart\\tend\\tdonor\\n'\n",
    "    for j in ril:\n",
    "        for i in ril[j]:\n",
    "            txt+='{0}\\t{1}\\t{2}\\t{3}\\n'.format(j,i[0],i[0]+100,i[1])\n",
    "    with open(out,'w') as outfile:\n",
    "        outfile.write(txt)"
   ]
  },
  {
   "cell_type": "code",
   "execution_count": 70,
   "metadata": {
    "collapsed": true
   },
   "outputs": [],
   "source": [
    "subset = rils['R1']\n",
    "make_ideotable(subset,'R1.txt')"
   ]
  },
  {
   "cell_type": "code",
   "execution_count": 29,
   "metadata": {
    "collapsed": true
   },
   "outputs": [],
   "source": [
    "ril_count=10"
   ]
  },
  {
   "cell_type": "markdown",
   "metadata": {},
   "source": [
    "***This code is modified from Ryan Dale. Link to their github is at top.***"
   ]
  },
  {
   "cell_type": "code",
   "execution_count": 30,
   "metadata": {
    "collapsed": true
   },
   "outputs": [],
   "source": [
    "\"\"\"\n",
    "Demonstrates plotting chromosome ideograms and genes (or any features, really)\n",
    "using matplotlib.\n",
    "1) Assumes a file from UCSC's Table Browser from the \"cytoBandIdeo\" table,\n",
    "saved as \"ideogram.txt\". Lines look like this::\n",
    "    #chrom  chromStart  chromEnd  name    gieStain\n",
    "    chr1    0           2300000   p36.33  gneg\n",
    "    chr1    2300000     5300000   p36.32  gpos25\n",
    "    chr1    5300000     7100000   p36.31  gneg\n",
    "2) Assumes another file, \"ucsc_genes.txt\", which is a BED format file\n",
    "   downloaded from UCSC's Table Browser. This script will work with any\n",
    "   BED-format file.\n",
    "\"\"\"\n",
    "from matplotlib import pyplot as plt\n",
    "from matplotlib.collections import BrokenBarHCollection\n",
    "\n",
    "\n",
    "# Here's the function that we'll call for each dataframe (once for chromosome\n",
    "# ideograms, once for genes).  The rest of this script will be prepping data\n",
    "# for input to this function\n",
    "#\n",
    "\n",
    "def chromosome_collections(df, y_positions, height,  **kwargs):\n",
    "    \"\"\"\n",
    "    Yields BrokenBarHCollection of features that can be added to an Axes\n",
    "    object.\n",
    "    Parameters\n",
    "    ----------\n",
    "    df : pandas.DataFrame\n",
    "        Must at least have columns ['chrom', 'start', 'end', 'color']. If no\n",
    "        column 'width', it will be calculated from start/end.\n",
    "    y_positions : dict\n",
    "        Keys are chromosomes, values are y-value at which to anchor the\n",
    "        BrokenBarHCollection\n",
    "    height : float\n",
    "        Height of each BrokenBarHCollection\n",
    "    Additional kwargs are passed to BrokenBarHCollection\n",
    "    \"\"\"\n",
    "    del_width = False\n",
    "    if 'width' not in df.columns:\n",
    "        del_width = True\n",
    "        df['width'] = df['end'] - df['start']\n",
    "    for chrom, group in df.groupby('chrom'):\n",
    "        print chrom\n",
    "        yrange = (y_positions[chrom], height)\n",
    "        xranges = group[['start', 'width']].values\n",
    "        yield BrokenBarHCollection(\n",
    "            xranges, yrange, facecolors=group['colors'], **kwargs)\n",
    "    if del_width:\n",
    "        del df['width']\n",
    "        \n",
    "# Height of each ideogram\n",
    "chrom_height = 1\n",
    "\n",
    "# Spacing between consecutive ideograms\n",
    "chrom_spacing = 1\n",
    "\n",
    "# Height of the gene track. Should be smaller than `chrom_spacing` in order to\n",
    "# fit correctly\n",
    "gene_height = 0.4\n",
    "\n",
    "# Padding between the top of a gene track and its corresponding ideogram\n",
    "gene_padding = 0.1\n",
    "\n",
    "# Width, height (in inches)\n",
    "figsize = (6, 8)\n",
    "\n",
    "# Decide which chromosomes to use ***### EDIT HERE for no. of RILS ###***\n",
    "chromosome_list = [i for i in range(1, ril_count+1)]\n",
    "\n",
    "# Keep track of the y positions for ideograms and genes for each chromosome,\n",
    "# and the center of each ideogram (which is where we'll put the ytick labels)\n",
    "ybase = 0\n",
    "chrom_ybase = {}\n",
    "gene_ybase = {}\n",
    "chrom_centers = {}\n",
    "\n",
    "for chrom in chromosome_list[::-1]:\n",
    "    chrom_ybase[chrom] = ybase\n",
    "    chrom_centers[chrom] = ybase + chrom_height / 2.\n",
    "    gene_ybase[chrom] = ybase - gene_height - gene_padding\n",
    "    ybase += chrom_height + chrom_spacing"
   ]
  },
  {
   "cell_type": "code",
   "execution_count": 71,
   "metadata": {
    "collapsed": true
   },
   "outputs": [],
   "source": [
    "# Read in file from output of make_ideogram()\n",
    "ideo = pd.read_table(\n",
    "    'R1.txt',\n",
    "    skiprows=1,\n",
    "    names=['chrom', 'start', 'end', 'donor']\n",
    ")\n",
    "\n",
    "# Filter out chromosomes not in our list\n",
    "ideo = ideo[ideo.chrom.apply(lambda x: x in chromosome_list)]\n",
    "ideo['end'] = pd.to_numeric(ideo['end'])\n",
    "ideo['start']=pd.to_numeric(ideo['start'])\n",
    "# Add a new column for width\n",
    "ideo['width'] = ideo.end - ideo.start"
   ]
  },
  {
   "cell_type": "markdown",
   "metadata": {},
   "source": [
    "Here I wanted to generate different colors for different parents. This is using the founders of the NAM population, but other parent names can be substituted."
   ]
  },
  {
   "cell_type": "code",
   "execution_count": 1,
   "metadata": {
    "collapsed": true
   },
   "outputs": [],
   "source": [
    "nam_parents={'Z001':'B97',\n",
    " 'Z002': 'CML103',\n",
    " 'Z003':'CML228',\n",
    " 'Z004': 'CML247',\n",
    " 'Z005':'CML277',\n",
    " 'Z006':'CML322',\n",
    " 'Z007':'CML333',\n",
    " 'Z008':'CML52',\n",
    " 'Z009':'CML69',\n",
    " 'Z010':'Hp301',\n",
    " 'Z011':'Il14H',\n",
    " 'Z012':'Ki11',\n",
    " 'Z013':'Ki3',\n",
    " 'Z014':'Ky21',\n",
    " 'Z015':'M162W',\n",
    " 'Z016':'M37W',\n",
    " 'Z018':'Mo18W',\n",
    " 'Z019':'MS71',\n",
    " 'Z020':'NC350',\n",
    " 'Z021':'NC358',\n",
    " 'Z022':'Oh43',\n",
    " 'Z023':'Oh7B',\n",
    " 'Z024':'P39',\n",
    " 'Z025':'Tx303',\n",
    " 'Z026':'Tzi8'}"
   ]
  },
  {
   "cell_type": "code",
   "execution_count": 4,
   "metadata": {},
   "outputs": [
    {
     "data": {
      "text/plain": [
       "['CML322',\n",
       " 'CML333',\n",
       " 'Oh43',\n",
       " 'Oh7B',\n",
       " 'CML52',\n",
       " 'CML69',\n",
       " 'CML103',\n",
       " 'CML228',\n",
       " 'Tzi8',\n",
       " 'B97',\n",
       " 'NC350',\n",
       " 'NC358',\n",
       " 'CML247',\n",
       " 'CML277',\n",
       " 'M162W',\n",
       " 'Ky21',\n",
       " 'M37W',\n",
       " 'Il14H',\n",
       " 'Hp301',\n",
       " 'Ki3',\n",
       " 'Ki11',\n",
       " 'MS71',\n",
       " 'Mo18W',\n",
       " 'P39',\n",
       " 'Tx303']"
      ]
     },
     "execution_count": 4,
     "metadata": {},
     "output_type": "execute_result"
    }
   ],
   "source": [
    "nam_parents.values()"
   ]
  },
  {
   "cell_type": "code",
   "execution_count": 18,
   "metadata": {
    "collapsed": true
   },
   "outputs": [],
   "source": [
    "def make_rgb():\n",
    "    \"\"\"Randomly generates rgb colors for each NAM parent for plotting \n",
    "    ideograms. Output is a dictionary with parent names as keys and \n",
    "    rgb lists as values\"\"\"\n",
    "    color_lookup = {'Cent': (0.0, 0.0, 0.0),'B73': (.4, .4, .4),}\n",
    "    for i in nam_parents.values():\n",
    "        rgb = numpy.random.random_sample(3)\n",
    "        rgb = [round(j,2) for j in rgb]\n",
    "        #rgb=tuple(round(numpy.random.random_sample(3),2))\n",
    "        color_lookup[i]=rgb\n",
    "    return color_lookup"
   ]
  },
  {
   "cell_type": "code",
   "execution_count": 35,
   "metadata": {
    "collapsed": true
   },
   "outputs": [],
   "source": [
    "color_lookup = {'Cent': [0.0, 0.0, 0.0],\n",
    " 'B73': [0.4, 0.4, 0.4],\n",
    " 'B97': [0.47, 0.53, 0.98],\n",
    " 'CML103': [0.58, 0.52, 0.2],\n",
    " 'CML228': [0.13, 0.7, 0.43],\n",
    " 'CML247': [0.38, 0.1, 0.56],\n",
    " 'CML277': [0.68, 0.78, 0.87],\n",
    " 'CML322': [0.45, 0.09, 0.07],\n",
    " 'CML333': [0.41, 0.55, 0.37],\n",
    " 'CML52': [0.72, 0.69, 0.3],\n",
    " 'CML69': [0.71, 0.24, 0.01],\n",
    " 'Hp301': [0.42, 0.86, 0.76],\n",
    " 'Il14H': [0.66, 0.43, 0.64],\n",
    " 'Ki11': [0.82, 0.63, 0.12],\n",
    " 'Ki3': [0.89, 0.69, 0.79],\n",
    " 'Ky21': [0.74, 0.19, 0.9],\n",
    " 'M162W': [0.77, 0.71, 0.79],\n",
    " 'M37W': [0.27, 1.0, 0.89],\n",
    " 'MS71': [0.74, 0.88, 0.13],\n",
    " 'Mo18W': [0.4, 0.96, 0.25],\n",
    " 'NC350': [0.92, 0.76, 0.09],\n",
    " 'NC358': [0.22, 0.98, 0.98],\n",
    " 'Oh43': [0.58, 0.96, 0.87],\n",
    " 'Oh7B': [0.23, 0.22, 0.86],\n",
    " 'P39': [0.28, 0.21, 0.97],\n",
    " 'Tx303': [0.12, 0.68, 0.75],\n",
    " 'Tzi8': [0.83, 0.48, 0.87]}"
   ]
  },
  {
   "cell_type": "code",
   "execution_count": 75,
   "metadata": {
    "scrolled": true
   },
   "outputs": [
    {
     "name": "stdout",
     "output_type": "stream",
     "text": [
      "1\n",
      "2\n",
      "3\n",
      "4\n",
      "5\n",
      "6\n",
      "7\n",
      "8\n",
      "9\n",
      "10\n"
     ]
    },
    {
     "data": {
      "image/png": "[encoded data removed]",
      "text/plain": [
       "<matplotlib.figure.Figure at 0x11f807710>"
      ]
     },
     "metadata": {},
     "output_type": "display_data"
    }
   ],
   "source": [
    "# Add a new column for colors\n",
    "ideo['colors'] = ideo['donor'].apply(lambda x: color_lookup[x])\n",
    "\n",
    "fig = plt.figure(figsize=figsize)\n",
    "ax = fig.add_subplot(111)\n",
    "\n",
    "# Now all we have to do is call our function for the ideogram data...\n",
    "#print(\"adding ideograms...\")\n",
    "for collection in chromosome_collections(ideo, chrom_ybase, chrom_height):\n",
    "    ax.add_collection(collection)\n",
    "\n",
    "# Axes tweaking\n",
    "ax.set_yticks([chrom_centers[i] for i in chromosome_list])\n",
    "ax.set_yticklabels(chromosome_list)\n",
    "ax.axis('tight')\n",
    "ax.set_xlabel('Position (Mb)')\n",
    "ax.set_ylabel('Chromosome')\n",
    "ax.set_title('Simulated RIL Individual (B73 x Oh43)')\n",
    "legend(ideo['colors'],loc='lower right')\n",
    "\n",
    "legend_elements = [Line2D([0], [0], color=(0.4, 0.4, 0.4), lw=4,label='B73'),\n",
    "                Line2D([0], [0], color=(0.58, 0.96, 0.87), lw=4,label='Oh43')]\n",
    "ax.legend(handles=legend_elements,loc='lower right')\n",
    "\n",
    "plt.show()"
   ]
  },
  {
   "cell_type": "markdown",
   "metadata": {
    "collapsed": true
   },
   "source": [
    "This is a work in progress. I'd like to also add bars showing centromere locations, and improve the crossover generation to make it more biologically realistic."
   ]
  },
  {
   "cell_type": "markdown",
   "metadata": {},
   "source": [
    "The write_rils() output file can be used to generate pseudosequences or combine vcf files (I will post code for this second one soon), to deal more with sequences instead of just breakpoint locations!"
   ]
  },
  {
   "cell_type": "code",
   "execution_count": null,
   "metadata": {
    "collapsed": true
   },
   "outputs": [],
   "source": []
  },
  {
   "cell_type": "code",
   "execution_count": null,
   "metadata": {
    "collapsed": true
   },
   "outputs": [],
   "source": []
  }
 ],
 "metadata": {
  "kernelspec": {
   "display_name": "Python 2",
   "language": "python",
   "name": "python2"
  },
  "language_info": {
   "codemirror_mode": {
    "name": "ipython",
    "version": 2
   },
   "file_extension": ".py",
   "mimetype": "text/x-python",
   "name": "python",
   "nbconvert_exporter": "python",
   "pygments_lexer": "ipython2",
   "version": "2.7.13"
  }
 },
 "nbformat": 4,
 "nbformat_minor": 2
}
