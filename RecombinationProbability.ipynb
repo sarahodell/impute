{
 "cells": [
  {
   "cell_type": "markdown",
   "metadata": {},
   "source": [
    "# Estimating Recombination Probabilities\n",
    "\n",
    "Made by: Sarah Odell\n",
    "\n",
    "github: https://github.com/sarahodell\n",
    "\n",
    "Using the maize genetic map (<a href='https://www.nature.com/articles/hdy2014123'>Ogut et al. 2015</a>), approximate recombination probabilities for evenly distributed regions across the chromosome (using chromosome 10 in this example). These recombination probabilities will be used as a probability distribution to to simulate crossovers\n"
   ]
  },
  {
   "cell_type": "code",
   "execution_count": 6,
   "metadata": {},
   "outputs": [
    {
     "name": "stdout",
     "output_type": "stream",
     "text": [
      "Populating the interactive namespace from numpy and matplotlib\n",
      "Last updated: 19/06/2018\n",
      "('Created using Python', '2.7.13')\n"
     ]
    }
   ],
   "source": [
    "%pylab inline\n",
    "import pandas as pd\n",
    "\n",
    "import  time\n",
    "import  platform\n",
    "print('Last updated: %s' %time.strftime('%d/%m/%Y'))\n",
    "print('Created using Python', platform.python_version())"
   ]
  },
  {
   "cell_type": "markdown",
   "metadata": {},
   "source": [
    "Read in the the raw genetic map 'ogut_fifthcM_map_agpv3.txt' and pull out chromosome 10. We also want to edit the marker names so they match with the format of the marker names in our vcf files."
   ]
  },
  {
   "cell_type": "code",
   "execution_count": null,
   "metadata": {
    "collapsed": true
   },
   "outputs": [],
   "source": [
    "gmap = pd.read_table('ogut_fifthcM_map_agpv3.txt',sep='\\t',header=None,\n",
    "                     names=['SNP_ID','SNP_newID','chr','pos','cM'],\n",
    "                     dtype={'SNP_ID':str,'SNP_newID':str,'chr':str,'pos':str,'cM':float})\n",
    "c10gmap = gmap[gmap['chr']=='10']\n",
    "c10gmap=c10gmap.reset_index()\n",
    "c10gmap.head()"
   ]
  },
  {
   "cell_type": "code",
   "execution_count": null,
   "metadata": {
    "collapsed": true
   },
   "outputs": [],
   "source": [
    "snps=[]\n",
    "for index,row in c10gmap.iterrows():\n",
    "    new_row = 'S10_'+row['SNP_ID'].split('_')[1]\n",
    "    snps.append(new_row)\n",
    "c10gmap['SNP_ID']=snps\n",
    "\n",
    "ogut = c10gmap[['SNP_ID','chr','pos','cM']]\n",
    "ogut=ogut.dropna(axis=0)\n",
    "ogut.to_csv('ogut_map.csv',sep=',',index=False)"
   ]
  },
  {
   "cell_type": "markdown",
   "metadata": {},
   "source": [
    "Now that we have our genetic map formatted in the way we want it, let's calculate recombination probabilities. I'm going to do this first by scaling the genetic positions so they start at zero. Then I calculate the genetic and physical distance between each marker and set the crossover probability for the region between a marker and its next neighbor as genetic distance/physical distance.\n",
    "\n",
    "Next, for each adjacent marker pair, I make a linear model regressing crossover probability on physical distance. For a set number of equally spaced physical positions between the two markers, I use the model to predict crossover probability. Then, I set all these predicted values so that they sum to one and voila! a quasi-biologically accurate probability distribution of recombination on chromosome 10. "
   ]
  },
  {
   "cell_type": "code",
   "execution_count": 8,
   "metadata": {},
   "outputs": [
    {
     "data": {
      "text/html": [
       "<div>\n",
       "<style>\n",
       "    .dataframe thead tr:only-child th {\n",
       "        text-align: right;\n",
       "    }\n",
       "\n",
       "    .dataframe thead th {\n",
       "        text-align: left;\n",
       "    }\n",
       "\n",
       "    .dataframe tbody tr th {\n",
       "        vertical-align: top;\n",
       "    }\n",
       "</style>\n",
       "<table border=\"1\" class=\"dataframe\">\n",
       "  <thead>\n",
       "    <tr style=\"text-align: right;\">\n",
       "      <th></th>\n",
       "      <th>SNP_ID</th>\n",
       "      <th>chr</th>\n",
       "      <th>pos</th>\n",
       "      <th>cM</th>\n",
       "    </tr>\n",
       "  </thead>\n",
       "  <tbody>\n",
       "    <tr>\n",
       "      <th>0</th>\n",
       "      <td>S10_620779</td>\n",
       "      <td>10</td>\n",
       "      <td>620679</td>\n",
       "      <td>-6.4</td>\n",
       "    </tr>\n",
       "    <tr>\n",
       "      <th>1</th>\n",
       "      <td>S10_679925</td>\n",
       "      <td>10</td>\n",
       "      <td>679825</td>\n",
       "      <td>-6.2</td>\n",
       "    </tr>\n",
       "    <tr>\n",
       "      <th>2</th>\n",
       "      <td>S10_739071</td>\n",
       "      <td>10</td>\n",
       "      <td>738971</td>\n",
       "      <td>-6.0</td>\n",
       "    </tr>\n",
       "    <tr>\n",
       "      <th>3</th>\n",
       "      <td>S10_798217</td>\n",
       "      <td>10</td>\n",
       "      <td>798117</td>\n",
       "      <td>-5.8</td>\n",
       "    </tr>\n",
       "    <tr>\n",
       "      <th>4</th>\n",
       "      <td>S10_857362</td>\n",
       "      <td>10</td>\n",
       "      <td>857262</td>\n",
       "      <td>-5.6</td>\n",
       "    </tr>\n",
       "  </tbody>\n",
       "</table>\n",
       "</div>"
      ],
      "text/plain": [
       "       SNP_ID  chr     pos   cM\n",
       "0  S10_620779   10  620679 -6.4\n",
       "1  S10_679925   10  679825 -6.2\n",
       "2  S10_739071   10  738971 -6.0\n",
       "3  S10_798217   10  798117 -5.8\n",
       "4  S10_857362   10  857262 -5.6"
      ]
     },
     "execution_count": 8,
     "metadata": {},
     "output_type": "execute_result"
    }
   ],
   "source": [
    "ogutmap=pd.read_table('ogut_map.csv',sep=',')\n",
    "ogutmap['cM']=pd.to_numeric(ogutmap['cM'])\n",
    "ogutmap.head()"
   ]
  },
  {
   "cell_type": "code",
   "execution_count": 9,
   "metadata": {
    "collapsed": true
   },
   "outputs": [],
   "source": [
    "#Set the genetic map to start at 0 \n",
    "ogutmap['cM_scaled1']=(ogutmap['cM']+6.4)\n",
    "plast = 0\n",
    "clast = 0\n",
    "pdists=[]\n",
    "cdists=[]\n",
    "# Calculated the genetic distance between markers\n",
    "for index,row in ogutmap.iterrows():\n",
    "    pdist = row['pos']-plast\n",
    "    cdist=row['cM_scaled1']-clast\n",
    "    pdists.append(pdist)\n",
    "    cdists.append(cdist)\n",
    "    plast=row['pos']\n",
    "    clast=row['cM_scaled1']\n",
    "ogutmap['pdists']=pdists\n",
    "ogutmap['cdists']=cdists\n",
    "#Make them sum to one\n",
    "ogutmap['xo_prob']=ogutmap['cdists']/ogutmap['pdists']"
   ]
  },
  {
   "cell_type": "code",
   "execution_count": 10,
   "metadata": {},
   "outputs": [
    {
     "data": {
      "text/html": [
       "<div>\n",
       "<style>\n",
       "    .dataframe thead tr:only-child th {\n",
       "        text-align: right;\n",
       "    }\n",
       "\n",
       "    .dataframe thead th {\n",
       "        text-align: left;\n",
       "    }\n",
       "\n",
       "    .dataframe tbody tr th {\n",
       "        vertical-align: top;\n",
       "    }\n",
       "</style>\n",
       "<table border=\"1\" class=\"dataframe\">\n",
       "  <thead>\n",
       "    <tr style=\"text-align: right;\">\n",
       "      <th></th>\n",
       "      <th>SNP_ID</th>\n",
       "      <th>chr</th>\n",
       "      <th>pos</th>\n",
       "      <th>cM</th>\n",
       "      <th>cM_scaled1</th>\n",
       "      <th>pdists</th>\n",
       "      <th>cdists</th>\n",
       "      <th>xo_prob</th>\n",
       "    </tr>\n",
       "  </thead>\n",
       "  <tbody>\n",
       "    <tr>\n",
       "      <th>0</th>\n",
       "      <td>S10_620779</td>\n",
       "      <td>10</td>\n",
       "      <td>620679</td>\n",
       "      <td>-6.4</td>\n",
       "      <td>0.0</td>\n",
       "      <td>620679</td>\n",
       "      <td>0.0</td>\n",
       "      <td>0.000000</td>\n",
       "    </tr>\n",
       "    <tr>\n",
       "      <th>1</th>\n",
       "      <td>S10_679925</td>\n",
       "      <td>10</td>\n",
       "      <td>679825</td>\n",
       "      <td>-6.2</td>\n",
       "      <td>0.2</td>\n",
       "      <td>59146</td>\n",
       "      <td>0.2</td>\n",
       "      <td>0.000003</td>\n",
       "    </tr>\n",
       "    <tr>\n",
       "      <th>2</th>\n",
       "      <td>S10_739071</td>\n",
       "      <td>10</td>\n",
       "      <td>738971</td>\n",
       "      <td>-6.0</td>\n",
       "      <td>0.4</td>\n",
       "      <td>59146</td>\n",
       "      <td>0.2</td>\n",
       "      <td>0.000003</td>\n",
       "    </tr>\n",
       "    <tr>\n",
       "      <th>3</th>\n",
       "      <td>S10_798217</td>\n",
       "      <td>10</td>\n",
       "      <td>798117</td>\n",
       "      <td>-5.8</td>\n",
       "      <td>0.6</td>\n",
       "      <td>59146</td>\n",
       "      <td>0.2</td>\n",
       "      <td>0.000003</td>\n",
       "    </tr>\n",
       "    <tr>\n",
       "      <th>4</th>\n",
       "      <td>S10_857362</td>\n",
       "      <td>10</td>\n",
       "      <td>857262</td>\n",
       "      <td>-5.6</td>\n",
       "      <td>0.8</td>\n",
       "      <td>59145</td>\n",
       "      <td>0.2</td>\n",
       "      <td>0.000003</td>\n",
       "    </tr>\n",
       "  </tbody>\n",
       "</table>\n",
       "</div>"
      ],
      "text/plain": [
       "       SNP_ID  chr     pos   cM  cM_scaled1  pdists  cdists   xo_prob\n",
       "0  S10_620779   10  620679 -6.4         0.0  620679     0.0  0.000000\n",
       "1  S10_679925   10  679825 -6.2         0.2   59146     0.2  0.000003\n",
       "2  S10_739071   10  738971 -6.0         0.4   59146     0.2  0.000003\n",
       "3  S10_798217   10  798117 -5.8         0.6   59146     0.2  0.000003\n",
       "4  S10_857362   10  857262 -5.6         0.8   59145     0.2  0.000003"
      ]
     },
     "execution_count": 10,
     "metadata": {},
     "output_type": "execute_result"
    }
   ],
   "source": [
    "ogutmap.head()"
   ]
  },
  {
   "cell_type": "code",
   "execution_count": 5,
   "metadata": {
    "collapsed": true
   },
   "outputs": [],
   "source": [
    "from scipy import stats"
   ]
  },
  {
   "cell_type": "code",
   "execution_count": 31,
   "metadata": {},
   "outputs": [],
   "source": [
    "x = []\n",
    "y = []\n",
    "start = 0 \n",
    "end = 150000000\n",
    "mi = min(ogutmap['pos'])\n",
    "mx = max(ogutmap['pos'])\n",
    "for index,row in ogutmap.iterrows():\n",
    "    if row['pos'] == mi:\n",
    "        xpoints=[start,row['pos']]\n",
    "        ypoints=[0.000003,row['xo_prob']]\n",
    "    elif row['pos'] == mx:\n",
    "        xpoints=[row['pos'],end]\n",
    "        ypoints=[row['xo_prob'],0.000003]\n",
    "    else:\n",
    "        xpoints=[last['pos'],row['pos']]\n",
    "        ypoints=[last['xo_prob'],row['xo_prob']]\n",
    "    slope,intercept,r_value,p_value,stderr = stats.linregress(xpoints,ypoints)\n",
    "    for i in range(xpoints[0],xpoints[1],10000):\n",
    "        x.append(i)\n",
    "        y.append(round(abs(slope*i + intercept),9))\n",
    "    last=row"
   ]
  },
  {
   "cell_type": "code",
   "execution_count": null,
   "metadata": {},
   "outputs": [],
   "source": []
  },
  {
   "cell_type": "code",
   "execution_count": null,
   "metadata": {},
   "outputs": [],
   "source": []
  },
  {
   "cell_type": "code",
   "execution_count": 13,
   "metadata": {},
   "outputs": [
    {
     "data": {
      "text/plain": [
       "[<matplotlib.lines.Line2D at 0x117896350>]"
      ]
     },
     "execution_count": 13,
     "metadata": {},
     "output_type": "execute_result"
    },
    {
     "data": {
      "image/png": "[encoded data removed]",
      "text/plain": [
       "<matplotlib.figure.Figure at 0x117101610>"
      ]
     },
     "metadata": {},
     "output_type": "display_data"
    }
   ],
   "source": [
    "plot(x,ydelta)"
   ]
  },
  {
   "cell_type": "markdown",
   "metadata": {},
   "source": [
    "Now let's write this out to a file so we can use it later"
   ]
  },
  {
   "cell_type": "code",
   "execution_count": 32,
   "metadata": {},
   "outputs": [
    {
     "data": {
      "text/html": [
       "<div>\n",
       "<style>\n",
       "    .dataframe thead tr:only-child th {\n",
       "        text-align: right;\n",
       "    }\n",
       "\n",
       "    .dataframe thead th {\n",
       "        text-align: left;\n",
       "    }\n",
       "\n",
       "    .dataframe tbody tr th {\n",
       "        vertical-align: top;\n",
       "    }\n",
       "</style>\n",
       "<table border=\"1\" class=\"dataframe\">\n",
       "  <thead>\n",
       "    <tr style=\"text-align: right;\">\n",
       "      <th></th>\n",
       "      <th>pos</th>\n",
       "      <th>xo</th>\n",
       "      <th>xo_prob</th>\n",
       "    </tr>\n",
       "  </thead>\n",
       "  <tbody>\n",
       "    <tr>\n",
       "      <th>0</th>\n",
       "      <td>0</td>\n",
       "      <td>0.000003</td>\n",
       "      <td>0.000238</td>\n",
       "    </tr>\n",
       "    <tr>\n",
       "      <th>1</th>\n",
       "      <td>10000</td>\n",
       "      <td>0.000003</td>\n",
       "      <td>0.000234</td>\n",
       "    </tr>\n",
       "    <tr>\n",
       "      <th>2</th>\n",
       "      <td>20000</td>\n",
       "      <td>0.000003</td>\n",
       "      <td>0.000230</td>\n",
       "    </tr>\n",
       "    <tr>\n",
       "      <th>3</th>\n",
       "      <td>30000</td>\n",
       "      <td>0.000003</td>\n",
       "      <td>0.000227</td>\n",
       "    </tr>\n",
       "    <tr>\n",
       "      <th>4</th>\n",
       "      <td>40000</td>\n",
       "      <td>0.000003</td>\n",
       "      <td>0.000223</td>\n",
       "    </tr>\n",
       "  </tbody>\n",
       "</table>\n",
       "</div>"
      ],
      "text/plain": [
       "     pos        xo   xo_prob\n",
       "0      0  0.000003  0.000238\n",
       "1  10000  0.000003  0.000234\n",
       "2  20000  0.000003  0.000230\n",
       "3  30000  0.000003  0.000227\n",
       "4  40000  0.000003  0.000223"
      ]
     },
     "execution_count": 32,
     "metadata": {},
     "output_type": "execute_result"
    }
   ],
   "source": [
    "xy = {\"pos\":x,\"xo\":y}\n",
    "recomb = pd.DataFrame(xy)\n",
    "recomb['xo_prob'] = recomb['xo']/sum(recomb['xo'])\n",
    "recomb.head()"
   ]
  },
  {
   "cell_type": "code",
   "execution_count": 33,
   "metadata": {},
   "outputs": [
    {
     "data": {
      "text/plain": [
       "0.99999999999998"
      ]
     },
     "execution_count": 33,
     "metadata": {},
     "output_type": "execute_result"
    }
   ],
   "source": [
    "sum(recomb['xo_prob'])"
   ]
  },
  {
   "cell_type": "code",
   "execution_count": null,
   "metadata": {
    "collapsed": true
   },
   "outputs": [],
   "source": [
    "recomb.to_csv('recomb_prob_est.csv',index=False,sep='\\t')"
   ]
  }
 ],
 "metadata": {
  "kernelspec": {
   "display_name": "Python 2",
   "language": "python",
   "name": "python2"
  },
  "language_info": {
   "codemirror_mode": {
    "name": "ipython",
    "version": 2
   },
   "file_extension": ".py",
   "mimetype": "text/x-python",
   "name": "python",
   "nbconvert_exporter": "python",
   "pygments_lexer": "ipython2",
   "version": "2.7.13"
  }
 },
 "nbformat": 4,
 "nbformat_minor": 2
}
