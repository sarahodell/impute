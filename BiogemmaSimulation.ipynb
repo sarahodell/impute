{
 "cells": [
  {
   "cell_type": "markdown",
   "metadata": {},
   "source": [
    "# Simulation with Biogemma founders\n",
    "\n",
    "Made by: Sarah Odell\n",
    "github: https://github.com/sarahodell\n",
    "\n",
    "Summary: Using the method for simulating MAGIC lines from [ValidateFILLINPipeline](ValidateFILLINPipeline.ipynb), I will created simulated MAGIC DH lines using the 600K genotype data from the 16 founders.\n",
    "\n",
    "Table of Contents:\n",
    "1. <a href=#section1>Simulating MAGIC lines</a>\n",
    "2. <a href=#section2>Building Genotype Files</a>\n",
    "3. <a href=#section3>Assess FILLIN Projection Alignment</a>"
   ]
  },
  {
   "cell_type": "code",
   "execution_count": 1,
   "metadata": {},
   "outputs": [
    {
     "name": "stdout",
     "output_type": "stream",
     "text": [
      "Populating the interactive namespace from numpy and matplotlib\n",
      "Last updated: 02/07/2018\n",
      "('Created using Python', '2.7.13')\n"
     ]
    }
   ],
   "source": [
    "import  time\n",
    "import  platform\n",
    "%pylab inline\n",
    "print('Last updated: %s' %time.strftime('%d/%m/%Y'))\n",
    "print('Created using Python', platform.python_version())"
   ]
  },
  {
   "cell_type": "markdown",
   "metadata": {},
   "source": [
    "<a id=section1></a>\n",
    "### 1. Simulating MAGIC lines"
   ]
  },
  {
   "cell_type": "code",
   "execution_count": 2,
   "metadata": {
    "collapsed": true
   },
   "outputs": [],
   "source": [
    "import full_sim"
   ]
  },
  {
   "cell_type": "code",
   "execution_count": 3,
   "metadata": {},
   "outputs": [
    {
     "data": {
      "text/plain": [
       "16"
      ]
     },
     "execution_count": 3,
     "metadata": {},
     "output_type": "execute_result"
    }
   ],
   "source": [
    "#list of founders\n",
    "founders=[\"A632_usa\", \"B73_inra\", \"CO255_inra\", \"FV252_inra\", \"OH43_inra\", \"A654_inra\", \"FV2_inra\", \"C103_inra\", \"EP1_inra\", \"D105_inra\", \"W117_inra\", \"B96\", \"DK63\", \"F492\", \"ND245\",\"VA85\"]\n",
    "len(founders)"
   ]
  },
  {
   "cell_type": "code",
   "execution_count": 9,
   "metadata": {
    "collapsed": true
   },
   "outputs": [],
   "source": [
    "pop = full_sim.chrom_sim(founders,16)\n",
    "lines = [full_sim.make_magic(pop) for i in range(10)] "
   ]
  },
  {
   "cell_type": "code",
   "execution_count": 10,
   "metadata": {},
   "outputs": [
    {
     "data": {
      "text/plain": [
       "['VA85',\n",
       " 'VA85',\n",
       " 'VA85',\n",
       " 'VA85',\n",
       " 'VA85',\n",
       " 'VA85',\n",
       " 'VA85',\n",
       " 'VA85',\n",
       " 'VA85',\n",
       " 'VA85',\n",
       " 'VA85',\n",
       " 'VA85',\n",
       " 'VA85',\n",
       " 'VA85',\n",
       " 'VA85',\n",
       " 'VA85',\n",
       " 'VA85',\n",
       " 'VA85',\n",
       " 'DK63',\n",
       " 'DK63',\n",
       " 'DK63',\n",
       " 'DK63',\n",
       " 'DK63',\n",
       " 'DK63',\n",
       " 'DK63',\n",
       " 'DK63',\n",
       " 'DK63',\n",
       " 'DK63',\n",
       " 'DK63',\n",
       " 'DK63',\n",
       " 'DK63',\n",
       " 'DK63',\n",
       " 'DK63',\n",
       " 'DK63',\n",
       " 'DK63',\n",
       " 'DK63',\n",
       " 'DK63',\n",
       " 'DK63',\n",
       " 'DK63',\n",
       " 'DK63',\n",
       " 'DK63',\n",
       " 'DK63',\n",
       " 'DK63',\n",
       " 'DK63',\n",
       " 'DK63',\n",
       " 'DK63',\n",
       " 'DK63',\n",
       " 'DK63',\n",
       " 'DK63',\n",
       " 'DK63',\n",
       " 'DK63',\n",
       " 'DK63',\n",
       " 'DK63',\n",
       " 'DK63',\n",
       " 'DK63',\n",
       " 'DK63',\n",
       " 'DK63',\n",
       " 'DK63',\n",
       " 'DK63',\n",
       " 'DK63',\n",
       " 'DK63',\n",
       " 'DK63',\n",
       " 'DK63',\n",
       " 'DK63',\n",
       " 'DK63',\n",
       " 'DK63',\n",
       " 'DK63',\n",
       " 'DK63',\n",
       " 'DK63',\n",
       " 'DK63',\n",
       " 'DK63',\n",
       " 'DK63',\n",
       " 'DK63',\n",
       " 'DK63',\n",
       " 'DK63',\n",
       " 'DK63',\n",
       " 'DK63',\n",
       " 'DK63',\n",
       " 'DK63',\n",
       " 'DK63',\n",
       " 'DK63',\n",
       " 'DK63',\n",
       " 'DK63',\n",
       " 'DK63',\n",
       " 'DK63',\n",
       " 'DK63',\n",
       " 'DK63',\n",
       " 'DK63',\n",
       " 'DK63',\n",
       " 'DK63',\n",
       " 'DK63',\n",
       " 'DK63',\n",
       " 'DK63',\n",
       " 'DK63',\n",
       " 'DK63',\n",
       " 'DK63',\n",
       " 'DK63',\n",
       " 'DK63',\n",
       " 'DK63',\n",
       " 'DK63',\n",
       " 'DK63',\n",
       " 'DK63',\n",
       " 'DK63',\n",
       " 'DK63',\n",
       " 'DK63',\n",
       " 'DK63',\n",
       " 'DK63',\n",
       " 'DK63',\n",
       " 'DK63',\n",
       " 'DK63',\n",
       " 'DK63',\n",
       " 'DK63',\n",
       " 'DK63',\n",
       " 'DK63',\n",
       " 'DK63',\n",
       " 'DK63',\n",
       " 'DK63',\n",
       " 'DK63',\n",
       " 'DK63',\n",
       " 'DK63',\n",
       " 'DK63',\n",
       " 'DK63',\n",
       " 'DK63',\n",
       " 'DK63',\n",
       " 'DK63',\n",
       " 'DK63',\n",
       " 'DK63',\n",
       " 'DK63',\n",
       " 'DK63',\n",
       " 'DK63',\n",
       " 'DK63',\n",
       " 'DK63',\n",
       " 'DK63',\n",
       " 'DK63',\n",
       " 'F492',\n",
       " 'F492',\n",
       " 'F492',\n",
       " 'F492',\n",
       " 'F492',\n",
       " 'F492',\n",
       " 'F492',\n",
       " 'F492',\n",
       " 'F492',\n",
       " 'F492',\n",
       " 'F492',\n",
       " 'D105_inra',\n",
       " 'D105_inra',\n",
       " 'B73_inra',\n",
       " 'B73_inra',\n",
       " 'B73_inra']"
      ]
     },
     "execution_count": 10,
     "metadata": {},
     "output_type": "execute_result"
    }
   ],
   "source": [
    "lines[0]"
   ]
  },
  {
   "cell_type": "code",
   "execution_count": 13,
   "metadata": {
    "collapsed": true
   },
   "outputs": [],
   "source": [
    "full_sim.make_outfile(lines,'sim_files/062018/Biogemma_MAGICSim.txt')"
   ]
  },
  {
   "cell_type": "markdown",
   "metadata": {},
   "source": [
    "<a id=section2></a>\n",
    "### 2. Building Genotype Files"
   ]
  },
  {
   "cell_type": "code",
   "execution_count": 2,
   "metadata": {
    "collapsed": true
   },
   "outputs": [],
   "source": [
    "import re"
   ]
  },
  {
   "cell_type": "code",
   "execution_count": 16,
   "metadata": {
    "collapsed": true
   },
   "outputs": [],
   "source": [
    "txt = ('\\n').join(founders)\n",
    "with open('data_files/biogemma_founders.txt','w') as outfile:\n",
    "    outfile.write(txt)"
   ]
  },
  {
   "cell_type": "code",
   "execution_count": 23,
   "metadata": {
    "collapsed": true
   },
   "outputs": [],
   "source": [
    "axiom = {}\n",
    "with open('../biogemma/Axiom600KSNPs.txt','r') as infile:\n",
    "    count=1\n",
    "    for line in infile:\n",
    "        if re.search('^#', line)==None and re.search('^ID',line)==None:\n",
    "            rs = line.split()[3]\n",
    "            ax = line.split()[0]\n",
    "            axiom[rs]=[count,3]\n",
    "            axiom[ax]=[count,0]\n",
    "        count+=1"
   ]
  },
  {
   "cell_type": "code",
   "execution_count": 29,
   "metadata": {},
   "outputs": [
    {
     "name": "stdout",
     "output_type": "stream",
     "text": [
      "[18, 3]\n"
     ]
    }
   ],
   "source": [
    "print(axiom['PHM1506.18'])"
   ]
  },
  {
   "cell_type": "code",
   "execution_count": 135,
   "metadata": {
    "collapsed": true
   },
   "outputs": [],
   "source": [
    "biogemma = {}\n",
    "with open('../data_files/founder_genos.txt','r') as infile:\n",
    "    count=1\n",
    "    for line in infile:\n",
    "        if re.search('^BGA_ID', line)==None:\n",
    "            rs = line.split()[0]\n",
    "            biogemma[rs]=count\n",
    "        else:\n",
    "            header=('\\t').join(line.split('\\t')[1:])\n",
    "        count+=1"
   ]
  },
  {
   "cell_type": "code",
   "execution_count": 136,
   "metadata": {},
   "outputs": [
    {
     "data": {
      "text/plain": [
       "'A632_usa\\tA654_inra\\tB73_inra\\tB96\\tC103_inra\\tCO255_inra\\tD105_inra\\tDK63\\tEP1_inra\\tF492\\tFV2_inra\\tFV252_inra\\tND245\\tOH43_inra\\tVA85\\tW117_inra\\n'"
      ]
     },
     "execution_count": 136,
     "metadata": {},
     "output_type": "execute_result"
    }
   ],
   "source": [
    "header"
   ]
  },
  {
   "cell_type": "code",
   "execution_count": 115,
   "metadata": {
    "collapsed": true
   },
   "outputs": [],
   "source": [
    "index_list=[]\n",
    "for b in biogemma:\n",
    "    if b in axiom:\n",
    "        index_list.append([biogemma[b],axiom[b]])"
   ]
  },
  {
   "cell_type": "code",
   "execution_count": null,
   "metadata": {
    "collapsed": true
   },
   "outputs": [],
   "source": []
  },
  {
   "cell_type": "code",
   "execution_count": 116,
   "metadata": {},
   "outputs": [
    {
     "data": {
      "text/plain": [
       "[341974, [419180, 0]]"
      ]
     },
     "execution_count": 116,
     "metadata": {},
     "output_type": "execute_result"
    }
   ],
   "source": [
    "index_list[0]"
   ]
  },
  {
   "cell_type": "code",
   "execution_count": 121,
   "metadata": {},
   "outputs": [
    {
     "data": {
      "text/plain": [
       "[\"['AX-90928720\", 'AX-90928720', 'Affx-90175313', 'ZmSYNBREED_45891_115']"
      ]
     },
     "execution_count": 121,
     "metadata": {},
     "output_type": "execute_result"
    }
   ],
   "source": [
    "q = '{0}p'.format(419180)\n",
    "t = !sed -n \"$q\" '../biogemma/Axiom600KSNPs.txt'\n",
    "rs=!echo t | cut -d ' ' -f1\n",
    "str(t).split('\\\\t')[0:4]"
   ]
  },
  {
   "cell_type": "code",
   "execution_count": 123,
   "metadata": {},
   "outputs": [
    {
     "data": {
      "text/plain": [
       "\"['AX-90928720\""
      ]
     },
     "execution_count": 123,
     "metadata": {},
     "output_type": "execute_result"
    }
   ],
   "source": [
    "q = '{0}p'.format(341974)\n",
    "t = !sed -n \"$q\" '../data_files/founder_genos.txt'\n",
    "rs=!echo t | cut -d ' ' -f1\n",
    "str(t).split('\\\\t')[0]"
   ]
  },
  {
   "cell_type": "code",
   "execution_count": 124,
   "metadata": {
    "collapsed": true
   },
   "outputs": [],
   "source": [
    "from subprocess import Popen,PIPE"
   ]
  },
  {
   "cell_type": "code",
   "execution_count": 133,
   "metadata": {
    "collapsed": true
   },
   "outputs": [],
   "source": [
    "b_process = Popen(['sed','-n','341974p','../data_files/founder_genos.txt'],stdout=PIPE,stderr=PIPE)\n",
    "stdout,stderr=b_process.communicate()"
   ]
  },
  {
   "cell_type": "code",
   "execution_count": 134,
   "metadata": {},
   "outputs": [
    {
     "data": {
      "text/plain": [
       "'G\\tA\\tA\\tA\\tG\\tA\\tG\\tG\\tA\\tA\\tA\\tA\\tA\\tA\\tA\\tG\\n'"
      ]
     },
     "execution_count": 134,
     "metadata": {},
     "output_type": "execute_result"
    }
   ],
   "source": [
    "bline =stdout.split('\\t')\n",
    "('\\t').join(bline[1:])"
   ]
  },
  {
   "cell_type": "code",
   "execution_count": 117,
   "metadata": {},
   "outputs": [
    {
     "name": "stdout",
     "output_type": "stream",
     "text": [
      "^C\n",
      "^C\n"
     ]
    },
    {
     "ename": "IndexError",
     "evalue": "list index out of range",
     "output_type": "error",
     "traceback": [
      "\u001b[0;31m---------------------------------------------------------------------------\u001b[0m",
      "\u001b[0;31mIndexError\u001b[0m                                Traceback (most recent call last)",
      "\u001b[0;32m<ipython-input-117-91bcedd5bbab>\u001b[0m in \u001b[0;36m<module>\u001b[0;34m()\u001b[0m\n\u001b[1;32m     13\u001b[0m     \u001b[0mrs\u001b[0m\u001b[0;34m=\u001b[0m\u001b[0mstr\u001b[0m\u001b[0;34m(\u001b[0m\u001b[0mbline\u001b[0m\u001b[0;34m)\u001b[0m\u001b[0;34m.\u001b[0m\u001b[0msplit\u001b[0m\u001b[0;34m(\u001b[0m\u001b[0;34m'\\\\t'\u001b[0m\u001b[0;34m)\u001b[0m\u001b[0;34m[\u001b[0m\u001b[0;36m0\u001b[0m\u001b[0;34m]\u001b[0m\u001b[0;34m[\u001b[0m\u001b[0;36m2\u001b[0m\u001b[0;34m:\u001b[0m\u001b[0;34m]\u001b[0m\u001b[0;34m\u001b[0m\u001b[0m\n\u001b[1;32m     14\u001b[0m     \u001b[0msnps\u001b[0m\u001b[0;34m=\u001b[0m\u001b[0;34m(\u001b[0m\u001b[0;34m'\\t'\u001b[0m\u001b[0;34m)\u001b[0m\u001b[0;34m.\u001b[0m\u001b[0mjoin\u001b[0m\u001b[0;34m(\u001b[0m\u001b[0mstr\u001b[0m\u001b[0;34m(\u001b[0m\u001b[0mbline\u001b[0m\u001b[0;34m)\u001b[0m\u001b[0;34m.\u001b[0m\u001b[0msplit\u001b[0m\u001b[0;34m(\u001b[0m\u001b[0;34m'\\\\t'\u001b[0m\u001b[0;34m)\u001b[0m\u001b[0;34m[\u001b[0m\u001b[0;36m1\u001b[0m\u001b[0;34m:\u001b[0m\u001b[0;34m]\u001b[0m\u001b[0;34m)\u001b[0m\u001b[0;34m\u001b[0m\u001b[0m\n\u001b[0;32m---> 15\u001b[0;31m     \u001b[0mstrand\u001b[0m\u001b[0;34m=\u001b[0m\u001b[0;34m[\u001b[0m\u001b[0;34m'+'\u001b[0m \u001b[0;32mif\u001b[0m \u001b[0mainfo\u001b[0m\u001b[0;34m[\u001b[0m\u001b[0;36m8\u001b[0m\u001b[0;34m]\u001b[0m\u001b[0;34m==\u001b[0m\u001b[0;34m'f'\u001b[0m \u001b[0;32melse\u001b[0m \u001b[0;34m'-'\u001b[0m \u001b[0;32mif\u001b[0m \u001b[0mainfo\u001b[0m\u001b[0;34m[\u001b[0m\u001b[0;36m8\u001b[0m\u001b[0;34m]\u001b[0m\u001b[0;34m==\u001b[0m\u001b[0;34m'r'\u001b[0m \u001b[0;32melse\u001b[0m \u001b[0;34m'.'\u001b[0m\u001b[0;34m]\u001b[0m\u001b[0;34m[\u001b[0m\u001b[0;36m0\u001b[0m\u001b[0;34m]\u001b[0m\u001b[0;34m\u001b[0m\u001b[0m\n\u001b[0m\u001b[1;32m     16\u001b[0m     \u001b[0mrest\u001b[0m \u001b[0;34m=\u001b[0m \u001b[0;34m'.\\t.\\t.\\t.\\t.\\t.\\t'\u001b[0m\u001b[0;34m\u001b[0m\u001b[0m\n\u001b[1;32m     17\u001b[0m     \u001b[0mtxt\u001b[0m\u001b[0;34m+=\u001b[0m\u001b[0;34m'{0}\\t{1}\\t{2}\\t{3}\\t{4}\\t{5}\\t{6}\\n'\u001b[0m\u001b[0;34m.\u001b[0m\u001b[0mformat\u001b[0m\u001b[0;34m(\u001b[0m\u001b[0mrs\u001b[0m\u001b[0;34m,\u001b[0m\u001b[0mainfo\u001b[0m\u001b[0;34m[\u001b[0m\u001b[0;36m9\u001b[0m\u001b[0;34m]\u001b[0m\u001b[0;34m,\u001b[0m\u001b[0mainfo\u001b[0m\u001b[0;34m[\u001b[0m\u001b[0;36m5\u001b[0m\u001b[0;34m]\u001b[0m\u001b[0;34m,\u001b[0m\u001b[0mainfo\u001b[0m\u001b[0;34m[\u001b[0m\u001b[0;36m6\u001b[0m\u001b[0;34m]\u001b[0m\u001b[0;34m,\u001b[0m\u001b[0mstrand\u001b[0m\u001b[0;34m,\u001b[0m\u001b[0mrest\u001b[0m\u001b[0;34m,\u001b[0m\u001b[0msnps\u001b[0m\u001b[0;34m)\u001b[0m\u001b[0;34m\u001b[0m\u001b[0m\n",
      "\u001b[0;31mIndexError\u001b[0m: list index out of range"
     ]
    }
   ],
   "source": [
    "txt='rs#\\talleles\\tchrom\\tpos\\tstrand\\tassembly#\\tcenter\\tprotLSID\\tassayLSID\\tpanelLSID\\tQCcode\\t'\n",
    "head=!head -n1 '../founder_genos.txt' | cut -f2-\n",
    "txt+=head[0]+'\\n'\n",
    "for i in index_list:\n",
    "    bnum=i[0]\n",
    "    anum=i[1][0]\n",
    "    acol=i[1][1]\n",
    "    q = '{0}p'.format(bnum)\n",
    "    p = '{0}p'.format(anum)\n",
    "    bline = !sed -n \"$q\" '../data_files/founder_genos.txt'\n",
    "    aline = !sed -n \"$p\" '../data_files/Axiom600KSNPs.txt'\n",
    "    ainfo= str(aline).split('\\\\t')\n",
    "    rs=str(bline).split('\\\\t')[0][2:]\n",
    "    snps=('\\t').join(str(bline).split('\\\\t')[1:])\n",
    "    strand=['+' if ainfo[8]=='f' else '-' if ainfo[8]=='r' else '.'][0]\n",
    "    rest = '.\\t.\\t.\\t.\\t.\\t.\\t'\n",
    "    txt+='{0}\\t{1}\\t{2}\\t{3}\\t{4}\\t{5}\\t{6}\\n'.format(rs,ainfo[9],ainfo[5],ainfo[6],strand,rest,snps)\n",
    "with open('test.hmp.txt','w') as outfile:\n",
    "    outfile.write(txt)   "
   ]
  },
  {
   "cell_type": "markdown",
   "metadata": {
    "collapsed": true
   },
   "source": [
    "# 3. Assess FILLIN Projection Alignment Accuracy"
   ]
  },
  {
   "cell_type": "code",
   "execution_count": 2,
   "metadata": {
    "collapsed": true
   },
   "outputs": [],
   "source": [
    "from subprocess import Popen, PIPE\n",
    "import os\n",
    "import pandas as pd"
   ]
  },
  {
   "cell_type": "code",
   "execution_count": 4,
   "metadata": {
    "collapsed": true
   },
   "outputs": [],
   "source": [
    "projaout = 'sim_files/062018/MAGICSim_Biogemma_062018_Imputed.pa.txt'"
   ]
  },
  {
   "cell_type": "code",
   "execution_count": 5,
   "metadata": {
    "collapsed": true
   },
   "outputs": [],
   "source": [
    "process = Popen(['awk','/#Donor Haplotypes/{flag=1;next}/#Taxa Breakpoints/{flag=0}flag',projaout],stdout=PIPE,stderr=PIPE)\n",
    "stdout,sterr=process.communicate()"
   ]
  },
  {
   "cell_type": "code",
   "execution_count": 6,
   "metadata": {
    "collapsed": true
   },
   "outputs": [],
   "source": [
    "#The ProjA file uses number codes for the donors\n",
    "#Make a dictionary of all the donors and their associated keys\n",
    "donors={}\n",
    "for i in stdout.split('\\n')[:-1]:\n",
    "    line = i.split('\\t')\n",
    "    donors[line[0]]=line[1]"
   ]
  },
  {
   "cell_type": "code",
   "execution_count": 7,
   "metadata": {},
   "outputs": [
    {
     "data": {
      "text/plain": [
       "{'0': 'A632_usa',\n",
       " '1': 'B73_inra',\n",
       " '10': 'W117_inra',\n",
       " '11': 'B96',\n",
       " '12': 'DK63',\n",
       " '13': 'F492',\n",
       " '14': 'ND245',\n",
       " '15': 'VA85',\n",
       " '2': 'CO255_inra',\n",
       " '3': 'FV252_inra',\n",
       " '4': 'OH43_inra',\n",
       " '5': 'A654_inra',\n",
       " '6': 'FV2_inra',\n",
       " '7': 'C103_inra',\n",
       " '8': 'EP1_inra',\n",
       " '9': 'D105_inra'}"
      ]
     },
     "execution_count": 7,
     "metadata": {},
     "output_type": "execute_result"
    }
   ],
   "source": [
    "donors"
   ]
  },
  {
   "cell_type": "code",
   "execution_count": 8,
   "metadata": {
    "collapsed": true
   },
   "outputs": [],
   "source": [
    "#Now parse out the assignment blocks\n",
    "process = Popen(['awk','/#Block are defined chr:startPos:endPos:donor1:donor2/{flag=1;next}/,0/{flag=0}flag',projaout],stdout=PIPE,stderr=PIPE)\n",
    "stdout,sterr=process.communicate()"
   ]
  },
  {
   "cell_type": "code",
   "execution_count": 26,
   "metadata": {
    "collapsed": true
   },
   "outputs": [],
   "source": [
    "breakpoints = []\n",
    "for i in stdout.split('\\n')[:-1]:\n",
    "    line = i.split('\\t')\n",
    "    brks = {}\n",
    "    sample=line[0]\n",
    "    for j in line[1:-1]:\n",
    "        info=j.split(':')\n",
    "        chrom=info[0]\n",
    "        start=info[1]\n",
    "        end=info[2]\n",
    "        donor1=info[3]\n",
    "        donor2=info[4]\n",
    "        brks = {'sample':sample, 'chr':chrom, 'start':start, 'end':end, 'donor1': donors[donor1], 'donor2':donors[donor2]}\n",
    "        breakpoints.append(brks)"
   ]
  },
  {
   "cell_type": "code",
   "execution_count": null,
   "metadata": {
    "collapsed": true
   },
   "outputs": [],
   "source": []
  },
  {
   "cell_type": "code",
   "execution_count": 27,
   "metadata": {},
   "outputs": [],
   "source": [
    "#turn the dictionary into a pandas dataframe\n",
    "df = pd.DataFrame(breakpoints)\n",
    "proja = df[['sample','chr','start','end','donor1','donor2']]"
   ]
  },
  {
   "cell_type": "code",
   "execution_count": 28,
   "metadata": {},
   "outputs": [
    {
     "data": {
      "text/html": [
       "<div>\n",
       "<style>\n",
       "    .dataframe thead tr:only-child th {\n",
       "        text-align: right;\n",
       "    }\n",
       "\n",
       "    .dataframe thead th {\n",
       "        text-align: left;\n",
       "    }\n",
       "\n",
       "    .dataframe tbody tr th {\n",
       "        vertical-align: top;\n",
       "    }\n",
       "</style>\n",
       "<table border=\"1\" class=\"dataframe\">\n",
       "  <thead>\n",
       "    <tr style=\"text-align: right;\">\n",
       "      <th></th>\n",
       "      <th>sample</th>\n",
       "      <th>chr</th>\n",
       "      <th>start</th>\n",
       "      <th>end</th>\n",
       "      <th>donor1</th>\n",
       "      <th>donor2</th>\n",
       "    </tr>\n",
       "  </thead>\n",
       "  <tbody>\n",
       "    <tr>\n",
       "      <th>0</th>\n",
       "      <td>M6</td>\n",
       "      <td>10</td>\n",
       "      <td>275461</td>\n",
       "      <td>1287330</td>\n",
       "      <td>VA85</td>\n",
       "      <td>VA85</td>\n",
       "    </tr>\n",
       "    <tr>\n",
       "      <th>1</th>\n",
       "      <td>M6</td>\n",
       "      <td>10</td>\n",
       "      <td>1288077</td>\n",
       "      <td>1498351</td>\n",
       "      <td>A632_usa</td>\n",
       "      <td>A654_inra</td>\n",
       "    </tr>\n",
       "    <tr>\n",
       "      <th>2</th>\n",
       "      <td>M6</td>\n",
       "      <td>10</td>\n",
       "      <td>1498470</td>\n",
       "      <td>1680374</td>\n",
       "      <td>A632_usa</td>\n",
       "      <td>B73_inra</td>\n",
       "    </tr>\n",
       "    <tr>\n",
       "      <th>3</th>\n",
       "      <td>M6</td>\n",
       "      <td>10</td>\n",
       "      <td>1680639</td>\n",
       "      <td>2016941</td>\n",
       "      <td>A632_usa</td>\n",
       "      <td>VA85</td>\n",
       "    </tr>\n",
       "    <tr>\n",
       "      <th>4</th>\n",
       "      <td>M6</td>\n",
       "      <td>10</td>\n",
       "      <td>2016972</td>\n",
       "      <td>2254417</td>\n",
       "      <td>A632_usa</td>\n",
       "      <td>OH43_inra</td>\n",
       "    </tr>\n",
       "  </tbody>\n",
       "</table>\n",
       "</div>"
      ],
      "text/plain": [
       "  sample chr    start      end    donor1     donor2\n",
       "0     M6  10   275461  1287330      VA85       VA85\n",
       "1     M6  10  1288077  1498351  A632_usa  A654_inra\n",
       "2     M6  10  1498470  1680374  A632_usa   B73_inra\n",
       "3     M6  10  1680639  2016941  A632_usa       VA85\n",
       "4     M6  10  2016972  2254417  A632_usa  OH43_inra"
      ]
     },
     "execution_count": 28,
     "metadata": {},
     "output_type": "execute_result"
    }
   ],
   "source": [
    "proja.head()"
   ]
  },
  {
   "cell_type": "code",
   "execution_count": 29,
   "metadata": {
    "collapsed": true
   },
   "outputs": [],
   "source": [
    "proja.to_csv('sim_files/062018/Predicted_BiogemmaMAGIC_062018.txt',sep='\\t',index=False)"
   ]
  },
  {
   "cell_type": "code",
   "execution_count": 30,
   "metadata": {
    "collapsed": true
   },
   "outputs": [],
   "source": [
    "actual = pd.read_table('sim_files/062018/Biogemma_MAGICSim.txt')\n",
    "proja = pd.read_table('sim_files/062018/Predicted_BiogemmaMAGIC_062018.txt')"
   ]
  },
  {
   "cell_type": "code",
   "execution_count": 31,
   "metadata": {},
   "outputs": [
    {
     "data": {
      "text/html": [
       "<div>\n",
       "<style>\n",
       "    .dataframe thead tr:only-child th {\n",
       "        text-align: right;\n",
       "    }\n",
       "\n",
       "    .dataframe thead th {\n",
       "        text-align: left;\n",
       "    }\n",
       "\n",
       "    .dataframe tbody tr th {\n",
       "        vertical-align: top;\n",
       "    }\n",
       "</style>\n",
       "<table border=\"1\" class=\"dataframe\">\n",
       "  <thead>\n",
       "    <tr style=\"text-align: right;\">\n",
       "      <th></th>\n",
       "      <th>sample</th>\n",
       "      <th>chr</th>\n",
       "      <th>start</th>\n",
       "      <th>end</th>\n",
       "      <th>donor1</th>\n",
       "      <th>donor2</th>\n",
       "    </tr>\n",
       "  </thead>\n",
       "  <tbody>\n",
       "    <tr>\n",
       "      <th>0</th>\n",
       "      <td>M1</td>\n",
       "      <td>10</td>\n",
       "      <td>0</td>\n",
       "      <td>17999999</td>\n",
       "      <td>VA85</td>\n",
       "      <td>VA85</td>\n",
       "    </tr>\n",
       "    <tr>\n",
       "      <th>1</th>\n",
       "      <td>M1</td>\n",
       "      <td>10</td>\n",
       "      <td>18000000</td>\n",
       "      <td>133999999</td>\n",
       "      <td>DK63</td>\n",
       "      <td>DK63</td>\n",
       "    </tr>\n",
       "    <tr>\n",
       "      <th>2</th>\n",
       "      <td>M1</td>\n",
       "      <td>10</td>\n",
       "      <td>134000000</td>\n",
       "      <td>144999999</td>\n",
       "      <td>F492</td>\n",
       "      <td>F492</td>\n",
       "    </tr>\n",
       "    <tr>\n",
       "      <th>3</th>\n",
       "      <td>M1</td>\n",
       "      <td>10</td>\n",
       "      <td>145000000</td>\n",
       "      <td>146999999</td>\n",
       "      <td>D105_inra</td>\n",
       "      <td>D105_inra</td>\n",
       "    </tr>\n",
       "    <tr>\n",
       "      <th>4</th>\n",
       "      <td>M1</td>\n",
       "      <td>10</td>\n",
       "      <td>147000000</td>\n",
       "      <td>150000000</td>\n",
       "      <td>B73_inra</td>\n",
       "      <td>B73_inra</td>\n",
       "    </tr>\n",
       "  </tbody>\n",
       "</table>\n",
       "</div>"
      ],
      "text/plain": [
       "  sample  chr      start        end     donor1     donor2\n",
       "0     M1   10          0   17999999       VA85       VA85\n",
       "1     M1   10   18000000  133999999       DK63       DK63\n",
       "2     M1   10  134000000  144999999       F492       F492\n",
       "3     M1   10  145000000  146999999  D105_inra  D105_inra\n",
       "4     M1   10  147000000  150000000   B73_inra   B73_inra"
      ]
     },
     "execution_count": 31,
     "metadata": {},
     "output_type": "execute_result"
    }
   ],
   "source": [
    "actual.head()"
   ]
  },
  {
   "cell_type": "code",
   "execution_count": 90,
   "metadata": {},
   "outputs": [
    {
     "name": "stderr",
     "output_type": "stream",
     "text": [
      "/Users/sodell1090/anaconda2/lib/python2.7/site-packages/ipykernel_launcher.py:2: SettingWithCopyWarning: \n",
      "A value is trying to be set on a copy of a slice from a DataFrame.\n",
      "Try using .loc[row_indexer,col_indexer] = value instead\n",
      "\n",
      "See the caveats in the documentation: http://pandas.pydata.org/pandas-docs/stable/indexing.html#indexing-view-versus-copy\n",
      "  \n"
     ]
    }
   ],
   "source": [
    "homozygous = proja[proja['donor1']==proja['donor2']]\n",
    "homozygous['line']=[i[1:] for i in list(homozygous['sample'])]\n",
    "projaideo=homozygous[['line','start','end','donor1','donor2']]\n",
    "projaideo.to_csv('Predicted_BiogemmaMAGIC_NoHetero_ideo.txt',sep='\\t',index=False)\n"
   ]
  },
  {
   "cell_type": "code",
   "execution_count": 82,
   "metadata": {
    "collapsed": true
   },
   "outputs": [],
   "source": [
    "proja['line']=[i[1:] for i in list(proja['sample'])]\n",
    "projaideo=proja[['line','start','end','donor1','donor2']]"
   ]
  },
  {
   "cell_type": "code",
   "execution_count": 83,
   "metadata": {
    "collapsed": true
   },
   "outputs": [],
   "source": [
    "projaideo.to_csv('Predicted_BiogemmaMAGIC_ideo2.txt',sep='\\t',index=False)"
   ]
  },
  {
   "cell_type": "code",
   "execution_count": 84,
   "metadata": {
    "collapsed": true
   },
   "outputs": [],
   "source": [
    "actual['line']=[i[1:] for i in list(actual['sample'])]\n",
    "actualideo=actual[['line','start','end','donor1','donor2']]\n",
    "actualideo.to_csv('Actual_BiogemmaMAGIC_ideo.txt',sep='\\t',index=False)"
   ]
  },
  {
   "cell_type": "code",
   "execution_count": 36,
   "metadata": {
    "collapsed": true
   },
   "outputs": [],
   "source": [
    "def make_rgb(parents):\n",
    "    \"\"\"Randomly generates rgb colors for each NAM parent for plotting \n",
    "    ideograms. Output is a dictionary with parent names as keys and \n",
    "    rgb lists as values\"\"\"\n",
    "    color_lookup = {'Cent': (0.0, 0.0, 0.0)}\n",
    "    for i in parents:\n",
    "        rgb = numpy.random.random_sample(3)\n",
    "        rgb = [round(j,2) for j in rgb]\n",
    "        #rgb=tuple(round(numpy.random.random_sample(3),2))\n",
    "        color_lookup[i]=rgb\n",
    "    return color_lookup"
   ]
  },
  {
   "cell_type": "code",
   "execution_count": 38,
   "metadata": {},
   "outputs": [
    {
     "data": {
      "text/plain": [
       "{'A632_usa': [0.96, 0.16, 0.59],\n",
       " 'A654_inra': [0.95, 0.53, 0.36],\n",
       " 'B73_inra': [0.52, 0.94, 0.49],\n",
       " 'B96': [0.28, 0.54, 0.35],\n",
       " 'C103_inra': [0.69, 0.83, 0.94],\n",
       " 'CO255_inra': [0.66, 0.74, 0.27],\n",
       " 'Cent': (0.0, 0.0, 0.0),\n",
       " 'D105_inra': [0.34, 0.8, 0.35],\n",
       " 'DK63': [0.28, 0.08, 0.36],\n",
       " 'EP1_inra': [0.58, 0.45, 0.4],\n",
       " 'F492': [0.49, 0.13, 0.15],\n",
       " 'FV252_inra': [0.56, 0.82, 0.84],\n",
       " 'FV2_inra': [0.16, 0.68, 0.15],\n",
       " 'ND245': [0.68, 0.08, 0.48],\n",
       " 'OH43_inra': [0.44, 0.14, 0.29],\n",
       " 'VA85': [0.69, 0.72, 0.21],\n",
       " 'W117_inra': [0.4, 0.24, 0.83]}"
      ]
     },
     "execution_count": 38,
     "metadata": {},
     "output_type": "execute_result"
    }
   ],
   "source": [
    "color_lookup=make_rgb(founders)\n",
    "color_lookup"
   ]
  },
  {
   "cell_type": "code",
   "execution_count": 77,
   "metadata": {
    "collapsed": true
   },
   "outputs": [],
   "source": [
    "color_lookup={'A632_usa': [0.96, 0.16, 0.59],\n",
    " 'A654_inra': [0.95, 0.53, 0.36],\n",
    " 'B73_inra': [0.52, 0.94, 0.49],\n",
    " 'B96': [0.28, 0.54, 0.35],\n",
    " 'C103_inra': [0.69, 0.83, 0.94],\n",
    " 'CO255_inra': [0.66, 0.74, 0.27],\n",
    " 'Cent': (0.0, 0.0, 0.0),\n",
    " 'D105_inra': [0.34, 0.8, 0.35],\n",
    " 'DK63': [0.28, 0.08, 0.36],\n",
    " 'EP1_inra': [0.58, 0.45, 0.4],\n",
    " 'F492': [0.49, 0.13, 0.15],\n",
    " 'FV252_inra': [0.56, 0.82, 0.84],\n",
    " 'FV2_inra': [0.16, 0.68, 0.15],\n",
    " 'ND245': [0.68, 0.08, 0.48],\n",
    " 'OH43_inra': [0.44, 0.14, 0.29],\n",
    " 'VA85': [0.69, 0.72, 0.21],\n",
    " 'W117_inra': [0.4, 0.24, 0.83]}"
   ]
  },
  {
   "cell_type": "code",
   "execution_count": 93,
   "metadata": {
    "collapsed": true
   },
   "outputs": [],
   "source": [
    "sample_count=10\n",
    "\"\"\"\n",
    "Demonstrates plotting chromosome ideograms and genes (or any features, really)\n",
    "using matplotlib.\n",
    "1) Assumes a file from UCSC's Table Browser from the \"cytoBandIdeo\" table,\n",
    "saved as \"ideogram.txt\". Lines look like this::\n",
    "    #chrom  chromStart  chromEnd  name    gieStain\n",
    "    chr1    0           2300000   p36.33  gneg\n",
    "    chr1    2300000     5300000   p36.32  gpos25\n",
    "    chr1    5300000     7100000   p36.31  gneg\n",
    "2) Assumes another file, \"ucsc_genes.txt\", which is a BED format file\n",
    "   downloaded from UCSC's Table Browser. This script will work with any\n",
    "   BED-format file.\n",
    "\"\"\"\n",
    "from matplotlib import pyplot as plt\n",
    "from matplotlib.collections import BrokenBarHCollection\n",
    "\n",
    "\n",
    "# Here's the function that we'll call for each dataframe (once for chromosome\n",
    "# ideograms, once for genes).  The rest of this script will be prepping data\n",
    "# for input to this function\n",
    "#\n",
    "\n",
    "def chromosome_collections(df, y_positions, height,  **kwargs):\n",
    "    \"\"\"\n",
    "    Yields BrokenBarHCollection of features that can be added to an Axes\n",
    "    object.\n",
    "    Parameters\n",
    "    ----------\n",
    "    df : pandas.DataFrame\n",
    "        Must at least have columns ['chrom', 'start', 'end', 'color']. If no\n",
    "        column 'width', it will be calculated from start/end.\n",
    "    y_positions : dict\n",
    "        Keys are chromosomes, values are y-value at which to anchor the\n",
    "        BrokenBarHCollection\n",
    "    height : float\n",
    "        Height of each BrokenBarHCollection\n",
    "    Additional kwargs are passed to BrokenBarHCollection\n",
    "    \"\"\"\n",
    "    del_width = False\n",
    "    if 'width' not in df.columns:\n",
    "        del_width = True\n",
    "        df['width'] = df['end'] - df['start']\n",
    "    for chrom, group in df.groupby('chrom'):\n",
    "        print chrom\n",
    "        yrange = (y_positions[chrom], height)\n",
    "        xranges = group[['start', 'width']].values\n",
    "        yield BrokenBarHCollection(\n",
    "            xranges, yrange, facecolors=group['colors1'], **kwargs)\n",
    "        yrange=(y_positions[chrom]-0.4,height)\n",
    "        yield BrokenBarHCollection(\n",
    "            xranges, yrange, facecolors=group['colors2'], **kwargs)\n",
    "            \n",
    "    if del_width:\n",
    "        del df['width']\n",
    "        \n",
    "# Height of each ideogram\n",
    "chrom_height = 0.4\n",
    "\n",
    "# Spacing between consecutive ideograms\n",
    "chrom_spacing = 1\n",
    "\n",
    "# Height of the gene track. Should be smaller than `chrom_spacing` in order to\n",
    "# fit correctly\n",
    "gene_height = 0.2\n",
    "\n",
    "# Padding between the top of a gene track and its corresponding ideogram\n",
    "gene_padding = 0.1\n",
    "\n",
    "# Width, height (in inches)\n",
    "figsize = (10, 10)\n",
    "\n",
    "# Decide which chromosomes to use ***### EDIT HERE for no. of RILS ###***\n",
    "chromosome_list = [i for i in range(1, sample_count+1)]\n",
    "\n",
    "# Keep track of the y positions for ideograms and genes for each chromosome,\n",
    "# and the center of each ideogram (which is where we'll put the ytick labels)\n",
    "ybase = 0\n",
    "chrom_ybase = {}\n",
    "gene_ybase = {}\n",
    "chrom_centers = {}\n",
    "\n",
    "for chrom in chromosome_list[::-1]:\n",
    "    chrom_ybase[chrom] = ybase\n",
    "    chrom_centers[chrom] = ybase + chrom_height / 2.\n",
    "    gene_ybase[chrom] = ybase - gene_height - gene_padding\n",
    "    ybase += chrom_height + chrom_spacing\n",
    "    \n",
    "    \n",
    "# Read in file from output of make_ideogram()\n",
    "ideo = pd.read_table(\n",
    "    'Predicted_BiogemmaMAGIC_ideo2.txt',\n",
    "    skiprows=1,\n",
    "    names=['chrom', 'start', 'end', 'donor1','donor2']\n",
    ")\n",
    "\n",
    "# Filter out chromosomes not in our list\n",
    "ideo = ideo[ideo.chrom.apply(lambda x: x in chromosome_list)]\n",
    "ideo['end'] = pd.to_numeric(ideo['end'])\n",
    "ideo['start']=pd.to_numeric(ideo['start'])\n",
    "# Add a new column for width\n",
    "ideo['width'] = ideo.end - ideo.start"
   ]
  },
  {
   "cell_type": "code",
   "execution_count": 33,
   "metadata": {
    "collapsed": true
   },
   "outputs": [],
   "source": [
    "def make_legend(parents):\n",
    "    legend = []\n",
    "    for p in parents:\n",
    "        pcolor=color_lookup[p]\n",
    "        legend+=[Line2D([0],[0],color=pcolor,lw=4,label=p)]\n",
    "    legend+=[Line2D([0],[0],color=(0.0,0.0,0.0),lw=4,label='Cent')]\n",
    "    return legend"
   ]
  },
  {
   "cell_type": "code",
   "execution_count": 31,
   "metadata": {},
   "outputs": [
    {
     "data": {
      "text/html": [
       "<div>\n",
       "<style>\n",
       "    .dataframe thead tr:only-child th {\n",
       "        text-align: right;\n",
       "    }\n",
       "\n",
       "    .dataframe thead th {\n",
       "        text-align: left;\n",
       "    }\n",
       "\n",
       "    .dataframe tbody tr th {\n",
       "        vertical-align: top;\n",
       "    }\n",
       "</style>\n",
       "<table border=\"1\" class=\"dataframe\">\n",
       "  <thead>\n",
       "    <tr style=\"text-align: right;\">\n",
       "      <th></th>\n",
       "      <th>chrom</th>\n",
       "      <th>start</th>\n",
       "      <th>end</th>\n",
       "      <th>donor</th>\n",
       "      <th>width</th>\n",
       "      <th>colors</th>\n",
       "    </tr>\n",
       "  </thead>\n",
       "  <tbody>\n",
       "    <tr>\n",
       "      <th>0</th>\n",
       "      <td>6</td>\n",
       "      <td>275461</td>\n",
       "      <td>1287330</td>\n",
       "      <td>VA85</td>\n",
       "      <td>1011869</td>\n",
       "      <td>[0.69, 0.72, 0.21]</td>\n",
       "    </tr>\n",
       "    <tr>\n",
       "      <th>1</th>\n",
       "      <td>6</td>\n",
       "      <td>4688530</td>\n",
       "      <td>4904755</td>\n",
       "      <td>VA85</td>\n",
       "      <td>216225</td>\n",
       "      <td>[0.69, 0.72, 0.21]</td>\n",
       "    </tr>\n",
       "    <tr>\n",
       "      <th>2</th>\n",
       "      <td>6</td>\n",
       "      <td>5878329</td>\n",
       "      <td>6354859</td>\n",
       "      <td>VA85</td>\n",
       "      <td>476530</td>\n",
       "      <td>[0.69, 0.72, 0.21]</td>\n",
       "    </tr>\n",
       "    <tr>\n",
       "      <th>3</th>\n",
       "      <td>6</td>\n",
       "      <td>6355136</td>\n",
       "      <td>6597537</td>\n",
       "      <td>OH43_inra</td>\n",
       "      <td>242401</td>\n",
       "      <td>[0.44, 0.14, 0.29]</td>\n",
       "    </tr>\n",
       "    <tr>\n",
       "      <th>4</th>\n",
       "      <td>6</td>\n",
       "      <td>15037960</td>\n",
       "      <td>16507327</td>\n",
       "      <td>A632_usa</td>\n",
       "      <td>1469367</td>\n",
       "      <td>[0.96, 0.16, 0.59]</td>\n",
       "    </tr>\n",
       "  </tbody>\n",
       "</table>\n",
       "</div>"
      ],
      "text/plain": [
       "   chrom     start       end      donor    width              colors\n",
       "0      6    275461   1287330       VA85  1011869  [0.69, 0.72, 0.21]\n",
       "1      6   4688530   4904755       VA85   216225  [0.69, 0.72, 0.21]\n",
       "2      6   5878329   6354859       VA85   476530  [0.69, 0.72, 0.21]\n",
       "3      6   6355136   6597537  OH43_inra   242401  [0.44, 0.14, 0.29]\n",
       "4      6  15037960  16507327   A632_usa  1469367  [0.96, 0.16, 0.59]"
      ]
     },
     "execution_count": 31,
     "metadata": {},
     "output_type": "execute_result"
    }
   ],
   "source": [
    "ideo.head()"
   ]
  },
  {
   "cell_type": "code",
   "execution_count": 94,
   "metadata": {},
   "outputs": [
    {
     "name": "stdout",
     "output_type": "stream",
     "text": [
      "1\n",
      "2\n",
      "3\n",
      "4\n",
      "5\n",
      "6\n",
      "7\n",
      "8\n",
      "9\n",
      "10\n"
     ]
    },
    {
     "data": {
      "image/png": "[encoded data removed]",
      "text/plain": [
       "<matplotlib.figure.Figure at 0x118495f90>"
      ]
     },
     "metadata": {},
     "output_type": "display_data"
    }
   ],
   "source": [
    "# Add a new column for colors\n",
    "ideo['colors1'] = ideo['donor1'].apply(lambda x: color_lookup[x])\n",
    "ideo['colors2']=ideo['donor2'].apply(lambda x: color_lookup[x])\n",
    "\n",
    "fig = plt.figure(figsize=figsize)\n",
    "ax = fig.add_subplot(111)\n",
    "\n",
    "# Now all we have to do is call our function for the ideogram data...\n",
    "#print(\"adding ideograms...\")\n",
    "for collection in chromosome_collections(ideo, chrom_ybase, chrom_height):\n",
    "    ax.add_collection(collection)\n",
    "\n",
    "# Axes tweaking\n",
    "ax.set_yticks([chrom_centers[i] for i in chromosome_list])\n",
    "ax.set_yticklabels(chromosome_list)\n",
    "ax.axis('tight')\n",
    "ax.set_xlabel('Position')\n",
    "ax.set_ylabel('Line Number')\n",
    "ax.set_title('Simulated MAGIC Lines')\n",
    "#legend(ideo['colors'],loc='lower right')\n",
    "\n",
    "# Shrink current axis by 20%\n",
    "box = ax.get_position()\n",
    "ax.set_position([box.x0, box.y0, box.width * 0.8, box.height])\n",
    "\n",
    "# Put a legend to the right of the current axis\n",
    "\n",
    "legend_elements = make_legend(founders)\n",
    "\n",
    "#[Line2D([0], [0], color=(0.4, 0.4, 0.4), lw=4,label='B73'),\n",
    "#Line2D([0], [0], color=(0.58, 0.96, 0.87), lw=4,label='Oh43')]\n",
    "ax.legend(handles=legend_elements,loc='center left',bbox_to_anchor=(1,0.5))\n",
    "\n",
    "plt.show()"
   ]
  },
  {
   "cell_type": "code",
   "execution_count": 35,
   "metadata": {},
   "outputs": [
    {
     "name": "stdout",
     "output_type": "stream",
     "text": [
      "None\n",
      "None\n",
      "None\n",
      "None\n",
      "None\n",
      "Parent W117_inra not shared between actual and predicted in sample M1 chr 10\n",
      "\n",
      "Parent A632_usa not shared between actual and predicted in sample M1 chr 10\n",
      "\n",
      "Parent ND245 not shared between actual and predicted in sample M1 chr 10\n",
      "\n",
      "Parent B96 not shared between actual and predicted in sample M1 chr 10\n",
      "\n",
      "Parent EP1_inra not shared between actual and predicted in sample M1 chr 10\n",
      "\n",
      "Parent OH43_inra not shared between actual and predicted in sample M1 chr 10\n",
      "\n",
      "Parent A654_inra not shared between actual and predicted in sample M1 chr 10\n",
      "\n",
      "Parent FV252_inra not shared between actual and predicted in sample M1 chr 10\n",
      "\n",
      "Parent C103_inra not shared between actual and predicted in sample M1 chr 10\n",
      "\n",
      "Parent FV2_inra not shared between actual and predicted in sample M1 chr 10\n",
      "\n",
      "Parent CO255_inra not shared between actual and predicted in sample M1 chr 10\n",
      "\n",
      "Parent VA85 not shared between actual and predicted in sample M2 chr 10\n",
      "\n",
      "None\n",
      "None\n",
      "None\n",
      "Parent B73_inra not shared between actual and predicted in sample M2 chr 10\n",
      "\n",
      "None\n",
      "None\n",
      "None\n",
      "Parent B96 not shared between actual and predicted in sample M2 chr 10\n",
      "\n",
      "Parent EP1_inra not shared between actual and predicted in sample M2 chr 10\n",
      "\n",
      "Parent OH43_inra not shared between actual and predicted in sample M2 chr 10\n",
      "\n",
      "Parent A654_inra not shared between actual and predicted in sample M2 chr 10\n",
      "\n",
      "Parent FV252_inra not shared between actual and predicted in sample M2 chr 10\n",
      "\n",
      "Parent C103_inra not shared between actual and predicted in sample M2 chr 10\n",
      "\n",
      "Parent FV2_inra not shared between actual and predicted in sample M2 chr 10\n",
      "\n",
      "Parent CO255_inra not shared between actual and predicted in sample M2 chr 10\n",
      "\n",
      "None\n",
      "None\n",
      "None\n",
      "None\n",
      "None\n",
      "None\n",
      "Parent A632_usa not shared between actual and predicted in sample M3 chr 10\n",
      "\n",
      "Parent ND245 not shared between actual and predicted in sample M3 chr 10\n",
      "\n",
      "None\n",
      "Parent EP1_inra not shared between actual and predicted in sample M3 chr 10\n",
      "\n",
      "Parent OH43_inra not shared between actual and predicted in sample M3 chr 10\n",
      "\n",
      "Parent A654_inra not shared between actual and predicted in sample M3 chr 10\n",
      "\n",
      "Parent FV252_inra not shared between actual and predicted in sample M3 chr 10\n",
      "\n",
      "Parent C103_inra not shared between actual and predicted in sample M3 chr 10\n",
      "\n",
      "Parent FV2_inra not shared between actual and predicted in sample M3 chr 10\n",
      "\n",
      "Parent CO255_inra not shared between actual and predicted in sample M3 chr 10\n",
      "\n",
      "Parent VA85 not shared between actual and predicted in sample M4 chr 10\n",
      "\n",
      "Parent DK63 not shared between actual and predicted in sample M4 chr 10\n",
      "\n",
      "Parent F492 not shared between actual and predicted in sample M4 chr 10\n",
      "\n",
      "Parent D105_inra not shared between actual and predicted in sample M4 chr 10\n",
      "\n",
      "Parent B73_inra not shared between actual and predicted in sample M4 chr 10\n",
      "\n",
      "None\n",
      "None\n",
      "Parent ND245 not shared between actual and predicted in sample M4 chr 10\n",
      "\n",
      "None\n",
      "None\n",
      "None\n",
      "None\n",
      "None\n",
      "Parent C103_inra not shared between actual and predicted in sample M4 chr 10\n",
      "\n",
      "Parent FV2_inra not shared between actual and predicted in sample M4 chr 10\n",
      "\n",
      "Parent CO255_inra not shared between actual and predicted in sample M4 chr 10\n",
      "\n",
      "None\n",
      "Parent DK63 not shared between actual and predicted in sample M5 chr 10\n",
      "\n",
      "Parent F492 not shared between actual and predicted in sample M5 chr 10\n",
      "\n",
      "None\n",
      "Parent B73_inra not shared between actual and predicted in sample M5 chr 10\n",
      "\n",
      "None\n",
      "Parent A632_usa not shared between actual and predicted in sample M5 chr 10\n",
      "\n",
      "Parent ND245 not shared between actual and predicted in sample M5 chr 10\n",
      "\n",
      "Parent B96 not shared between actual and predicted in sample M5 chr 10\n",
      "\n",
      "None\n",
      "Parent OH43_inra not shared between actual and predicted in sample M5 chr 10\n",
      "\n",
      "None\n",
      "None\n",
      "None\n",
      "Parent FV2_inra not shared between actual and predicted in sample M5 chr 10\n",
      "\n",
      "Parent CO255_inra not shared between actual and predicted in sample M5 chr 10\n",
      "\n",
      "None\n",
      "Parent DK63 not shared between actual and predicted in sample M6 chr 10\n",
      "\n",
      "None\n",
      "Parent D105_inra not shared between actual and predicted in sample M6 chr 10\n",
      "\n",
      "None\n",
      "None\n",
      "Parent A632_usa not shared between actual and predicted in sample M6 chr 10\n",
      "\n",
      "Parent ND245 not shared between actual and predicted in sample M6 chr 10\n",
      "\n",
      "Parent B96 not shared between actual and predicted in sample M6 chr 10\n",
      "\n",
      "None\n",
      "None\n",
      "Parent A654_inra not shared between actual and predicted in sample M6 chr 10\n",
      "\n",
      "Parent FV252_inra not shared between actual and predicted in sample M6 chr 10\n",
      "\n",
      "None\n",
      "None\n",
      "Parent CO255_inra not shared between actual and predicted in sample M6 chr 10\n",
      "\n",
      "Parent VA85 not shared between actual and predicted in sample M7 chr 10\n",
      "\n",
      "Parent DK63 not shared between actual and predicted in sample M7 chr 10\n",
      "\n",
      "Parent F492 not shared between actual and predicted in sample M7 chr 10\n",
      "\n",
      "Parent D105_inra not shared between actual and predicted in sample M7 chr 10\n",
      "\n",
      "Parent B73_inra not shared between actual and predicted in sample M7 chr 10\n",
      "\n",
      "Parent W117_inra not shared between actual and predicted in sample M7 chr 10\n",
      "\n",
      "Parent A632_usa not shared between actual and predicted in sample M7 chr 10\n",
      "\n",
      "None\n",
      "None\n",
      "Parent EP1_inra not shared between actual and predicted in sample M7 chr 10\n",
      "\n",
      "None\n",
      "Parent A654_inra not shared between actual and predicted in sample M7 chr 10\n",
      "\n",
      "Parent FV252_inra not shared between actual and predicted in sample M7 chr 10\n",
      "\n",
      "Parent C103_inra not shared between actual and predicted in sample M7 chr 10\n",
      "\n",
      "None\n",
      "Parent CO255_inra not shared between actual and predicted in sample M7 chr 10\n",
      "\n",
      "None\n",
      "Parent DK63 not shared between actual and predicted in sample M8 chr 10\n",
      "\n",
      "None\n",
      "Parent D105_inra not shared between actual and predicted in sample M8 chr 10\n",
      "\n",
      "None\n",
      "None\n",
      "None\n",
      "None\n",
      "Parent B96 not shared between actual and predicted in sample M8 chr 10\n",
      "\n",
      "Parent EP1_inra not shared between actual and predicted in sample M8 chr 10\n",
      "\n",
      "None\n",
      "None\n",
      "Parent FV252_inra not shared between actual and predicted in sample M8 chr 10\n",
      "\n",
      "Parent C103_inra not shared between actual and predicted in sample M8 chr 10\n",
      "\n",
      "None\n",
      "None\n",
      "None\n",
      "Parent DK63 not shared between actual and predicted in sample M9 chr 10\n",
      "\n",
      "Parent F492 not shared between actual and predicted in sample M9 chr 10\n",
      "\n",
      "Parent D105_inra not shared between actual and predicted in sample M9 chr 10\n",
      "\n",
      "Parent B73_inra not shared between actual and predicted in sample M9 chr 10\n",
      "\n",
      "Parent W117_inra not shared between actual and predicted in sample M9 chr 10\n",
      "\n",
      "None\n",
      "None\n",
      "Parent B96 not shared between actual and predicted in sample M9 chr 10\n",
      "\n",
      "Parent EP1_inra not shared between actual and predicted in sample M9 chr 10\n",
      "\n",
      "None\n",
      "Parent A654_inra not shared between actual and predicted in sample M9 chr 10\n",
      "\n",
      "Parent FV252_inra not shared between actual and predicted in sample M9 chr 10\n",
      "\n",
      "None\n",
      "None\n",
      "None\n",
      "Parent VA85 not shared between actual and predicted in sample M10 chr 10\n",
      "\n",
      "Parent DK63 not shared between actual and predicted in sample M10 chr 10\n",
      "\n",
      "Parent F492 not shared between actual and predicted in sample M10 chr 10\n",
      "\n",
      "Parent D105_inra not shared between actual and predicted in sample M10 chr 10\n",
      "\n",
      "Parent B73_inra not shared between actual and predicted in sample M10 chr 10\n",
      "\n",
      "Parent W117_inra not shared between actual and predicted in sample M10 chr 10\n",
      "\n",
      "None\n",
      "None\n",
      "None\n",
      "Parent EP1_inra not shared between actual and predicted in sample M10 chr 10\n",
      "\n",
      "None\n",
      "Parent A654_inra not shared between actual and predicted in sample M10 chr 10\n",
      "\n",
      "Parent FV252_inra not shared between actual and predicted in sample M10 chr 10\n",
      "\n",
      "Parent C103_inra not shared between actual and predicted in sample M10 chr 10\n",
      "\n",
      "Parent FV2_inra not shared between actual and predicted in sample M10 chr 10\n",
      "\n",
      "Parent CO255_inra not shared between actual and predicted in sample M10 chr 10\n",
      "\n"
     ]
    }
   ],
   "source": [
    "%run pscripts/intersect.py 'sim_files/062018/Biogemma_MAGICSim.txt' 'sim_files/062018/Predicted_BiogemmaMAGIC_062018.txt'"
   ]
  },
  {
   "cell_type": "code",
   "execution_count": 36,
   "metadata": {},
   "outputs": [
    {
     "name": "stdout",
     "output_type": "stream",
     "text": [
      "Line\tTotal % Correct\tChrom\t% per Parent\r\n",
      "M1\t0.85\t10\tVA85:1.0\tDK63:0.997\tF492:0.988\tD105_inra:0.837\tB73_inra:0.917\tW117_inra:0\tA632_usa:0\tND245:0\tB96:0\tEP1_inra:0\tOH43_inra:0\tA654_inra:0\tFV252_inra:0\tC103_inra:0\tFV2_inra:0\tCO255_inra:0\r\n",
      "M2\t0.825\t10\tVA85:0\tDK63:0.699\tF492:0.995\tD105_inra:0.912\tB73_inra:0\tW117_inra:0.995\tA632_usa:0.8\tND245:0.954\tB96:0\tEP1_inra:0\tOH43_inra:0\tA654_inra:0\tFV252_inra:0\tC103_inra:0\tFV2_inra:0\tCO255_inra:0\r\n",
      "M3\t0.723\t10\tVA85:0.835\tDK63:0.966\tF492:0.988\tD105_inra:0.916\tB73_inra:0.973\tW117_inra:0.999\tA632_usa:0\tND245:0\tB96:1.0\tEP1_inra:0\tOH43_inra:0\tA654_inra:0\tFV252_inra:0\tC103_inra:0\tFV2_inra:0\tCO255_inra:0\r\n",
      "M4\t0.848\t10\tVA85:0\tDK63:0\tF492:0\tD105_inra:0\tB73_inra:0\tW117_inra:1.0\tA632_usa:0.087\tND245:0\tB96:0.995\tEP1_inra:0.998\tOH43_inra:1.0\tA654_inra:0.919\tFV252_inra:0.818\tC103_inra:0\tFV2_inra:0\tCO255_inra:0\r\n",
      "M5\t0.68\t10\tVA85:0.847\tDK63:0\tF492:0\tD105_inra:0.997\tB73_inra:0\tW117_inra:0.987\tA632_usa:0\tND245:0\tB96:0\tEP1_inra:0.977\tOH43_inra:0\tA654_inra:1.0\tFV252_inra:0.386\tC103_inra:0.952\tFV2_inra:0\tCO255_inra:0\r\n",
      "M6\t0.528\t10\tVA85:0.909\tDK63:0\tF492:0.97\tD105_inra:0\tB73_inra:0.943\tW117_inra:0.998\tA632_usa:0\tND245:0\tB96:0\tEP1_inra:1.0\tOH43_inra:0.65\tA654_inra:0\tFV252_inra:0\tC103_inra:1.0\tFV2_inra:0.782\tCO255_inra:0\r\n",
      "M7\t0.852\t10\tVA85:0\tDK63:0\tF492:0\tD105_inra:0\tB73_inra:0\tW117_inra:0\tA632_usa:0\tND245:0.999\tB96:0.997\tEP1_inra:0\tOH43_inra:0.968\tA654_inra:0\tFV252_inra:0\tC103_inra:0\tFV2_inra:0.962\tCO255_inra:0\r\n",
      "M8\t0.476\t10\tVA85:1.0\tDK63:0\tF492:0.886\tD105_inra:0\tB73_inra:1.0\tW117_inra:0.957\tA632_usa:0.042\tND245:0.991\tB96:0\tEP1_inra:0\tOH43_inra:0.79\tA654_inra:0.409\tFV252_inra:0\tC103_inra:0\tFV2_inra:0.928\tCO255_inra:0.805\r\n",
      "M9\t0.681\t10\tVA85:0.99\tDK63:0\tF492:0\tD105_inra:0\tB73_inra:0\tW117_inra:0\tA632_usa:0.036\tND245:1.0\tB96:0\tEP1_inra:0\tOH43_inra:0.882\tA654_inra:0\tFV252_inra:0\tC103_inra:0.955\tFV2_inra:0.912\tCO255_inra:0.882\r\n",
      "M10\t0.861\t10\tVA85:0\tDK63:0\tF492:0\tD105_inra:0\tB73_inra:0\tW117_inra:0\tA632_usa:0.842\tND245:0.863\tB96:0.991\tEP1_inra:0\tOH43_inra:0.986\tA654_inra:0\tFV252_inra:0\tC103_inra:0\tFV2_inra:0\tCO255_inra:0\r\n",
      "\r\n",
      "Total Percentage Correct: 0.919\r\n",
      "Percentage of Homozygous Calls Correct: 0.715\r\n",
      "Percentage of Heterozygous Calls: 0.284\r\n"
     ]
    }
   ],
   "source": [
    "!cat 'intersect_output.txt'"
   ]
  },
  {
   "cell_type": "code",
   "execution_count": 37,
   "metadata": {
    "collapsed": true
   },
   "outputs": [],
   "source": [
    "!rm -r tmp"
   ]
  },
  {
   "cell_type": "code",
   "execution_count": 80,
   "metadata": {},
   "outputs": [
    {
     "data": {
      "text/html": [
       "<div>\n",
       "<style>\n",
       "    .dataframe thead tr:only-child th {\n",
       "        text-align: right;\n",
       "    }\n",
       "\n",
       "    .dataframe thead th {\n",
       "        text-align: left;\n",
       "    }\n",
       "\n",
       "    .dataframe tbody tr th {\n",
       "        vertical-align: top;\n",
       "    }\n",
       "</style>\n",
       "<table border=\"1\" class=\"dataframe\">\n",
       "  <thead>\n",
       "    <tr style=\"text-align: right;\">\n",
       "      <th></th>\n",
       "      <th>sample</th>\n",
       "      <th>chr</th>\n",
       "      <th>start</th>\n",
       "      <th>end</th>\n",
       "      <th>donor1</th>\n",
       "      <th>donor2</th>\n",
       "      <th>line</th>\n",
       "    </tr>\n",
       "  </thead>\n",
       "  <tbody>\n",
       "    <tr>\n",
       "      <th>0</th>\n",
       "      <td>M1</td>\n",
       "      <td>10</td>\n",
       "      <td>0</td>\n",
       "      <td>17999999</td>\n",
       "      <td>VA85</td>\n",
       "      <td>VA85</td>\n",
       "      <td>1</td>\n",
       "    </tr>\n",
       "    <tr>\n",
       "      <th>1</th>\n",
       "      <td>M1</td>\n",
       "      <td>10</td>\n",
       "      <td>18000000</td>\n",
       "      <td>133999999</td>\n",
       "      <td>DK63</td>\n",
       "      <td>DK63</td>\n",
       "      <td>1</td>\n",
       "    </tr>\n",
       "    <tr>\n",
       "      <th>2</th>\n",
       "      <td>M1</td>\n",
       "      <td>10</td>\n",
       "      <td>134000000</td>\n",
       "      <td>144999999</td>\n",
       "      <td>F492</td>\n",
       "      <td>F492</td>\n",
       "      <td>1</td>\n",
       "    </tr>\n",
       "    <tr>\n",
       "      <th>3</th>\n",
       "      <td>M1</td>\n",
       "      <td>10</td>\n",
       "      <td>145000000</td>\n",
       "      <td>146999999</td>\n",
       "      <td>D105_inra</td>\n",
       "      <td>D105_inra</td>\n",
       "      <td>1</td>\n",
       "    </tr>\n",
       "    <tr>\n",
       "      <th>4</th>\n",
       "      <td>M1</td>\n",
       "      <td>10</td>\n",
       "      <td>147000000</td>\n",
       "      <td>150000000</td>\n",
       "      <td>B73_inra</td>\n",
       "      <td>B73_inra</td>\n",
       "      <td>1</td>\n",
       "    </tr>\n",
       "  </tbody>\n",
       "</table>\n",
       "</div>"
      ],
      "text/plain": [
       "  sample  chr      start        end     donor1     donor2 line\n",
       "0     M1   10          0   17999999       VA85       VA85    1\n",
       "1     M1   10   18000000  133999999       DK63       DK63    1\n",
       "2     M1   10  134000000  144999999       F492       F492    1\n",
       "3     M1   10  145000000  146999999  D105_inra  D105_inra    1\n",
       "4     M1   10  147000000  150000000   B73_inra   B73_inra    1"
      ]
     },
     "execution_count": 80,
     "metadata": {},
     "output_type": "execute_result"
    }
   ],
   "source": [
    "actual[actual['sample']=='M1']"
   ]
  },
  {
   "cell_type": "code",
   "execution_count": 98,
   "metadata": {},
   "outputs": [
    {
     "data": {
      "text/plain": [
       "358"
      ]
     },
     "execution_count": 98,
     "metadata": {},
     "output_type": "execute_result"
    }
   ],
   "source": [
    "hetero=proja[proja['donor1']!=proja['donor2']]\n",
    "sum((hetero['donor1']=='A632_usa') | (hetero['donor2']=='A632_usa'))"
   ]
  },
  {
   "cell_type": "code",
   "execution_count": 99,
   "metadata": {},
   "outputs": [
    {
     "data": {
      "text/plain": [
       "385"
      ]
     },
     "execution_count": 99,
     "metadata": {},
     "output_type": "execute_result"
    }
   ],
   "source": [
    "len(hetero)"
   ]
  },
  {
   "cell_type": "code",
   "execution_count": null,
   "metadata": {
    "collapsed": true
   },
   "outputs": [],
   "source": []
  }
 ],
 "metadata": {
  "kernelspec": {
   "display_name": "Python 2",
   "language": "python",
   "name": "python2"
  },
  "language_info": {
   "codemirror_mode": {
    "name": "ipython",
    "version": 2
   },
   "file_extension": ".py",
   "mimetype": "text/x-python",
   "name": "python",
   "nbconvert_exporter": "python",
   "pygments_lexer": "ipython2",
   "version": "2.7.13"
  }
 },
 "nbformat": 4,
 "nbformat_minor": 2
}
