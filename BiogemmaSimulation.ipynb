{
 "cells": [
  {
   "cell_type": "markdown",
   "metadata": {},
   "source": [
    "# Simulation with Biogemma founders\n",
    "\n",
    "Made by: Sarah Odell\n",
    "github: https://github.com/sarahodell\n",
    "\n",
    "Summary: Using the method for simulating MAGIC lines from [ValidateFILLINPipeline](ValidateFILLINPipeline.ipynb), I will created simulated MAGIC DH lines using the 600K genotype data from the 16 founders.\n",
    "\n",
    "Table of Contents:\n",
    "1. <a href=#section1>Simulating MAGIC lines</a>\n",
    "2. <a href=#section2>Building Genotype Files</a>\n",
    "3. "
   ]
  },
  {
   "cell_type": "code",
   "execution_count": 1,
   "metadata": {},
   "outputs": [
    {
     "name": "stdout",
     "output_type": "stream",
     "text": [
      "Last updated: 20/06/2018\n",
      "('Created using Python', '2.7.13')\n"
     ]
    }
   ],
   "source": [
    "import  time\n",
    "import  platform\n",
    "print('Last updated: %s' %time.strftime('%d/%m/%Y'))\n",
    "print('Created using Python', platform.python_version())"
   ]
  },
  {
   "cell_type": "markdown",
   "metadata": {},
   "source": [
    "<a id=section1></a>\n",
    "### 1. Simulating MAGIC lines"
   ]
  },
  {
   "cell_type": "code",
   "execution_count": 2,
   "metadata": {
    "collapsed": true
   },
   "outputs": [],
   "source": [
    "import full_sim"
   ]
  },
  {
   "cell_type": "code",
   "execution_count": 3,
   "metadata": {},
   "outputs": [
    {
     "data": {
      "text/plain": [
       "16"
      ]
     },
     "execution_count": 3,
     "metadata": {},
     "output_type": "execute_result"
    }
   ],
   "source": [
    "#list of founders\n",
    "founders=[\"A632_usa\", \"B73_inra\", \"CO255_inra\", \"FV252_inra\", \"OH43_inra\", \"A654_inra\", \"FV2_inra\", \"C103_inra\", \"EP1_inra\", \"D105_inra\", \"W117_inra\", \"B96\", \"DK63\", \"F492\", \"ND245\",\"VA85\"]\n",
    "len(founders)"
   ]
  },
  {
   "cell_type": "code",
   "execution_count": 9,
   "metadata": {},
   "outputs": [],
   "source": [
    "pop = full_sim.chrom_sim(founders,16)\n",
    "lines = [full_sim.make_magic(pop) for i in range(10)] "
   ]
  },
  {
   "cell_type": "code",
   "execution_count": 10,
   "metadata": {},
   "outputs": [
    {
     "data": {
      "text/plain": [
       "['VA85',\n",
       " 'VA85',\n",
       " 'VA85',\n",
       " 'VA85',\n",
       " 'VA85',\n",
       " 'VA85',\n",
       " 'VA85',\n",
       " 'VA85',\n",
       " 'VA85',\n",
       " 'VA85',\n",
       " 'VA85',\n",
       " 'VA85',\n",
       " 'VA85',\n",
       " 'VA85',\n",
       " 'VA85',\n",
       " 'VA85',\n",
       " 'VA85',\n",
       " 'VA85',\n",
       " 'DK63',\n",
       " 'DK63',\n",
       " 'DK63',\n",
       " 'DK63',\n",
       " 'DK63',\n",
       " 'DK63',\n",
       " 'DK63',\n",
       " 'DK63',\n",
       " 'DK63',\n",
       " 'DK63',\n",
       " 'DK63',\n",
       " 'DK63',\n",
       " 'DK63',\n",
       " 'DK63',\n",
       " 'DK63',\n",
       " 'DK63',\n",
       " 'DK63',\n",
       " 'DK63',\n",
       " 'DK63',\n",
       " 'DK63',\n",
       " 'DK63',\n",
       " 'DK63',\n",
       " 'DK63',\n",
       " 'DK63',\n",
       " 'DK63',\n",
       " 'DK63',\n",
       " 'DK63',\n",
       " 'DK63',\n",
       " 'DK63',\n",
       " 'DK63',\n",
       " 'DK63',\n",
       " 'DK63',\n",
       " 'DK63',\n",
       " 'DK63',\n",
       " 'DK63',\n",
       " 'DK63',\n",
       " 'DK63',\n",
       " 'DK63',\n",
       " 'DK63',\n",
       " 'DK63',\n",
       " 'DK63',\n",
       " 'DK63',\n",
       " 'DK63',\n",
       " 'DK63',\n",
       " 'DK63',\n",
       " 'DK63',\n",
       " 'DK63',\n",
       " 'DK63',\n",
       " 'DK63',\n",
       " 'DK63',\n",
       " 'DK63',\n",
       " 'DK63',\n",
       " 'DK63',\n",
       " 'DK63',\n",
       " 'DK63',\n",
       " 'DK63',\n",
       " 'DK63',\n",
       " 'DK63',\n",
       " 'DK63',\n",
       " 'DK63',\n",
       " 'DK63',\n",
       " 'DK63',\n",
       " 'DK63',\n",
       " 'DK63',\n",
       " 'DK63',\n",
       " 'DK63',\n",
       " 'DK63',\n",
       " 'DK63',\n",
       " 'DK63',\n",
       " 'DK63',\n",
       " 'DK63',\n",
       " 'DK63',\n",
       " 'DK63',\n",
       " 'DK63',\n",
       " 'DK63',\n",
       " 'DK63',\n",
       " 'DK63',\n",
       " 'DK63',\n",
       " 'DK63',\n",
       " 'DK63',\n",
       " 'DK63',\n",
       " 'DK63',\n",
       " 'DK63',\n",
       " 'DK63',\n",
       " 'DK63',\n",
       " 'DK63',\n",
       " 'DK63',\n",
       " 'DK63',\n",
       " 'DK63',\n",
       " 'DK63',\n",
       " 'DK63',\n",
       " 'DK63',\n",
       " 'DK63',\n",
       " 'DK63',\n",
       " 'DK63',\n",
       " 'DK63',\n",
       " 'DK63',\n",
       " 'DK63',\n",
       " 'DK63',\n",
       " 'DK63',\n",
       " 'DK63',\n",
       " 'DK63',\n",
       " 'DK63',\n",
       " 'DK63',\n",
       " 'DK63',\n",
       " 'DK63',\n",
       " 'DK63',\n",
       " 'DK63',\n",
       " 'DK63',\n",
       " 'DK63',\n",
       " 'DK63',\n",
       " 'DK63',\n",
       " 'DK63',\n",
       " 'DK63',\n",
       " 'DK63',\n",
       " 'DK63',\n",
       " 'F492',\n",
       " 'F492',\n",
       " 'F492',\n",
       " 'F492',\n",
       " 'F492',\n",
       " 'F492',\n",
       " 'F492',\n",
       " 'F492',\n",
       " 'F492',\n",
       " 'F492',\n",
       " 'F492',\n",
       " 'D105_inra',\n",
       " 'D105_inra',\n",
       " 'B73_inra',\n",
       " 'B73_inra',\n",
       " 'B73_inra']"
      ]
     },
     "execution_count": 10,
     "metadata": {},
     "output_type": "execute_result"
    }
   ],
   "source": [
    "lines[0]"
   ]
  },
  {
   "cell_type": "code",
   "execution_count": 13,
   "metadata": {},
   "outputs": [],
   "source": [
    "full_sim.make_outfile(lines,'Biogemma_MAGICSim.txt')"
   ]
  },
  {
   "cell_type": "code",
   "execution_count": null,
   "metadata": {
    "collapsed": true
   },
   "outputs": [],
   "source": []
  },
  {
   "cell_type": "code",
   "execution_count": null,
   "metadata": {
    "collapsed": true
   },
   "outputs": [],
   "source": []
  },
  {
   "cell_type": "code",
   "execution_count": null,
   "metadata": {
    "collapsed": true
   },
   "outputs": [],
   "source": []
  },
  {
   "cell_type": "code",
   "execution_count": null,
   "metadata": {
    "collapsed": true
   },
   "outputs": [],
   "source": []
  },
  {
   "cell_type": "code",
   "execution_count": null,
   "metadata": {
    "collapsed": true
   },
   "outputs": [],
   "source": []
  },
  {
   "cell_type": "markdown",
   "metadata": {},
   "source": [
    "<a id=section2></a>\n",
    "### 2. Building Genotype Files"
   ]
  },
  {
   "cell_type": "code",
   "execution_count": null,
   "metadata": {
    "collapsed": true
   },
   "outputs": [],
   "source": []
  }
 ],
 "metadata": {
  "kernelspec": {
   "display_name": "Python 2",
   "language": "python",
   "name": "python2"
  },
  "language_info": {
   "codemirror_mode": {
    "name": "ipython",
    "version": 2
   },
   "file_extension": ".py",
   "mimetype": "text/x-python",
   "name": "python",
   "nbconvert_exporter": "python",
   "pygments_lexer": "ipython2",
   "version": "2.7.13"
  }
 },
 "nbformat": 4,
 "nbformat_minor": 2
}
