{
 "cells": [
  {
   "cell_type": "markdown",
   "metadata": {},
   "source": [
    "# Imputation Simulation\n",
    "\n",
    "Made by: Sarah Odell\n",
    "\n",
    "github: https://github.com/sarahodell\n",
    "\n",
    "Summary: This pipeline simulates either recombinant inbred lines or MAGIC (Multi-parent advanced generation intercross) lines using HapMap data from the 26 founder lines of the maize Nested Association Mapping (NAM) population (More information at <a href='https://www.panzea.org/genotypes'>panzea.org</a>). This is done only for chromosome 10. The imputation accuracy of the <a href='https://bitbucket.org/tasseladmin/tassel-5-source/wiki/UserManual/FILLIN/FILLIN' >FILLIN</a> tool (part of TASSEL 5) is quantified as the percentage of imputed blocks assigned to the correct parental haplotype. \n",
    "\n",
    "Workflow:\n",
    "1. <a href='#section_1'>Simulate Samples</a>\n",
    "2. <a href='#section_2'>Write outfile</a>\n",
    "3. <a href='#section_3'>Build simulated vcf files</a>\n",
    "4. <a href='#section_4'>Merge vcf files for all samples</a>\n",
    "5. <a href='#section_5'>Run FILLIN on merged vcf file</a>\n",
    "6. <a href='#section_6'>Assess imputation accuracy</a>"
   ]
  },
  {
   "cell_type": "code",
   "execution_count": 6,
   "metadata": {},
   "outputs": [
    {
     "name": "stdout",
     "output_type": "stream",
     "text": [
      "Last updated: 15/06/2018\n",
      "('Created using Python', '2.7.13')\n"
     ]
    }
   ],
   "source": [
    "import  time\n",
    "import  platform\n",
    "print('Last updated: %s' %time.strftime('%d/%m/%Y'))\n",
    "print('Created using Python', platform.python_version())"
   ]
  },
  {
   "cell_type": "markdown",
   "metadata": {},
   "source": [
    "<a id='section_1'></a>"
   ]
  },
  {
   "cell_type": "markdown",
   "metadata": {},
   "source": [
    "### How to get the data:\n",
    "Information on where to find data files, how I filtered them, and how to install TASSEL are all in [FILLINStart](FILLINStart.html)"
   ]
  },
  {
   "cell_type": "markdown",
   "metadata": {},
   "source": [
    "## 1. Simulate Samples"
   ]
  },
  {
   "cell_type": "markdown",
   "metadata": {},
   "source": [
    "Recombination probability is approximated based on centromere position (B73 v3), "
   ]
  },
  {
   "cell_type": "code",
   "execution_count": 5,
   "metadata": {},
   "outputs": [
    {
     "name": "stdout",
     "output_type": "stream",
     "text": [
      "Populating the interactive namespace from numpy and matplotlib\n"
     ]
    }
   ],
   "source": [
    "%pylab inline\n",
    "import pandas as pd"
   ]
  },
  {
   "cell_type": "code",
   "execution_count": 6,
   "metadata": {
    "collapsed": true
   },
   "outputs": [],
   "source": [
    "def chrom_info(chro_num):\n",
    "    \"\"\"chro_num: chromosome number (int)\n",
    "    Outputs:\n",
    "    xo_prob: a probability distribution function for crossover events on\n",
    "    that chromosome based on chromosome length and centromere position \n",
    "    (list of floats)\n",
    "    end: (int) the approximate end of the chromosome, in Mb\n",
    "    \"\"\"\n",
    "    cent = pd.read_table('B73v4centromeres.txt',sep='\\t')\n",
    "    cdf = cent[cent['chr']==chro_num]\n",
    "    end = int(cdf['v3chr.end'].values[0])\n",
    "    centstart = int(cdf['v3start'].values[0])\n",
    "    centend= int(cdf['v3end'].values[0])\n",
    "    centlen = int(round(cdf['v3size'].values[0]))\n",
    "    if end-centend > centstart:\n",
    "        longarm = end-centend\n",
    "        shortarm = centstart\n",
    "    else:\n",
    "        longarm = centstart\n",
    "        shortarm = end-centend\n",
    "    diff = longarm-shortarm\n",
    "    a = [i**2 for i in list(reversed(range(0,centstart+1)))]\n",
    "    c = [0.0 for i in range(centlen)]\n",
    "    b = [i**2 for i in range(longarm)]\n",
    "    xo_prob = a+c+b\n",
    "    if len(xo_prob)>= end:\n",
    "        xo_prob=xo_prob[:end]\n",
    "    xo_prob = [float(j)/sum(xo_prob) for j in xo_prob]\n",
    "    return xo_prob,end"
   ]
  },
  {
   "cell_type": "code",
   "execution_count": 7,
   "metadata": {},
   "outputs": [
    {
     "data": {
      "text/plain": [
       "[<matplotlib.lines.Line2D at 0x11a31a310>]"
      ]
     },
     "execution_count": 7,
     "metadata": {},
     "output_type": "execute_result"
    },
    {
     "data": {
      "image/png": "[encoded data removed]",
      "text/plain": [
       "<matplotlib.figure.Figure at 0x116f17e90>"
      ]
     },
     "metadata": {},
     "output_type": "display_data"
    }
   ],
   "source": [
    "xo_prob,end = chrom_info(10)\n",
    "plot(xo_prob)"
   ]
  },
  {
   "cell_type": "code",
   "execution_count": 9,
   "metadata": {
    "collapsed": true
   },
   "outputs": [],
   "source": [
    "nam_founders = ['CML322','CML333','Oh43','Oh7B','CML52','CML69','CML103','CML228','Tzi8',\n",
    " 'B97','NC350','NC358','CML247','CML277','M162W','Ky21','M37W','Il14H',\n",
    " 'Hp301','Ki3','Ki11','MS71','Mo18W','P39','Tx303']\n",
    "\n",
    "def chrom_sim(pnum,c=10):\n",
    "    \"\"\"\n",
    "    pnum: (int) Number of parents to start with. Parents are randomly selected\n",
    "    from the 26 NAM founders\n",
    "    c: chromosome number (1..10 for maize)\n",
    "    Outputs a 2-D list of length pnum. Internal lists contain strings \n",
    "    assigning parental donor for 1Mb blocks (i.e. list[0]= ['B73','B73',...])\"\"\"\n",
    "    pop=[]\n",
    "    parents = random.choice(nam_founders,pnum,replace=False)\n",
    "    for i in parents:\n",
    "        xo_prob,end=chrom_info(c)\n",
    "        p = []\n",
    "        for j in range(end+1):\n",
    "            p.append(i)\n",
    "        pop.append(p)\n",
    "    return pop"
   ]
  },
  {
   "cell_type": "code",
   "execution_count": 14,
   "metadata": {},
   "outputs": [
    {
     "data": {
      "text/plain": [
       "(['P39', 'P39', 'P39', 'P39', 'P39', 'P39', 'P39', 'P39', 'P39', 'P39'], 150)"
      ]
     },
     "execution_count": 14,
     "metadata": {},
     "output_type": "execute_result"
    }
   ],
   "source": [
    "pop = chrom_sim(16)\n",
    "#First parent is P39, chromosome 10 is 150 Mb long, broken up into 1Mb blocks\n",
    "pop[0][:10], len(pop[0])"
   ]
  },
  {
   "cell_type": "markdown",
   "metadata": {},
   "source": [
    "For the sake of reproduction, when simulating my MAGIC population, below are the 16 parents that I started with. The final lines are in 'Actual_MAGIC1.txt', and this file will be used for the following sections"
   ]
  },
  {
   "cell_type": "code",
   "execution_count": 10,
   "metadata": {
    "collapsed": true
   },
   "outputs": [],
   "source": [
    "parents=['Hp301', 'CML69', 'CML52', 'CML247', 'Ki3', 'CML277', 'Tzi8',\n",
    "       'Il14H', 'Ky21', 'CML103', 'CML322', 'CML333', 'Ki11', 'Tx303',\n",
    "       'Oh7B', 'MS71']"
   ]
  },
  {
   "cell_type": "code",
   "execution_count": 16,
   "metadata": {
    "collapsed": true
   },
   "outputs": [],
   "source": [
    "def crossover(n,parents,c=10):\n",
    "    \"\"\"\n",
    "    Simulates a crossover event of a chromosome, returns the 'f1'\n",
    "    Input:\n",
    "    n: (int) number of f1 samples to produce\n",
    "    parents: 2-D list of length 2, output of chrom_sim() (i.e. chromsim(16)[:2])\n",
    "    c: chromosome number \n",
    "    \n",
    "    Output:\n",
    "    If n==1, 1-D list with f1\n",
    "    If n>1, 2-D list of f1s\n",
    "    \"\"\"\n",
    "    f1s = []\n",
    "    for i in range(n):\n",
    "        xo_prob,end=chrom_info(c)\n",
    "        site = [s for s in range(end)]\n",
    "        f1=[]\n",
    "        #randomly choose a parent to start with\n",
    "        if numpy.random.random_sample() >= 0.5:\n",
    "            donor = parents[0]\n",
    "        else:\n",
    "            donor = parents[1]\n",
    "        #Either 1 or 2 crossover events per chromosome\n",
    "        xo = random.poisson(1.5)\n",
    "        draw = numpy.random.choice(site,size=xo,p=xo_prob)\n",
    "        #If 2 or more crossovers, simulate interference by making them \n",
    "        # at least 40 Mb away from each other\n",
    "        if xo >= 2:\n",
    "            draw = sorted(draw)\n",
    "            first = draw[0]\n",
    "            while abs(draw[1] - draw[0]) < 40:\n",
    "                draw = [draw[0],numpy.random.choice(site,p=xo_prob)]\n",
    "        \n",
    "        #iterate through and take sections from each parent\n",
    "        start = 0\n",
    "        for d in draw:\n",
    "            f1+=donor[start:d]\n",
    "            start=d\n",
    "            if donor==parents[0]:\n",
    "                donor=parents[1]\n",
    "            elif donor==parents[1]:\n",
    "                donor=parents[0]\n",
    "        f1+=donor[start:]\n",
    "        f1s.append(f1)\n",
    "    if n==1:\n",
    "        return f1\n",
    "    else:\n",
    "        return f1s"
   ]
  },
  {
   "cell_type": "code",
   "execution_count": 17,
   "metadata": {
    "collapsed": true
   },
   "outputs": [],
   "source": [
    "def make_magic(parents,c=10,n=1):\n",
    "    \"\"\" Simulates MAGIC lines\n",
    "    Input:\n",
    "    parents: (list)2-D list of parent chromosomes (length must be even\n",
    "    output of chrom_sim\n",
    "    c: chromosome number (Default: 10)\n",
    "    n: number of f1 samples to make per parent cross (Default: 1)\n",
    "    \n",
    "    Output:\n",
    "    2-D list of length(n), simulated chromosomes\n",
    "    \"\"\"\n",
    "    if len(parents)==2:\n",
    "        return crossover(n,parents)\n",
    "    rounds = []\n",
    "    for i in range(0,len(parents),2):\n",
    "        rounds.append(crossover(n,parents[i:i+2]))\n",
    "    return make_magic(rounds)"
   ]
  },
  {
   "cell_type": "code",
   "execution_count": 22,
   "metadata": {},
   "outputs": [
    {
     "data": {
      "text/plain": [
       "10"
      ]
     },
     "execution_count": 22,
     "metadata": {},
     "output_type": "execute_result"
    }
   ],
   "source": [
    "f = [make_magic(pop) for i in range(10)]\n",
    "len(f)"
   ]
  },
  {
   "cell_type": "code",
   "execution_count": 21,
   "metadata": {},
   "outputs": [
    {
     "data": {
      "text/plain": [
       "['Tx303',\n",
       " 'Tx303',\n",
       " 'Tx303',\n",
       " 'Tx303',\n",
       " 'Tx303',\n",
       " 'Tx303',\n",
       " 'Tx303',\n",
       " 'B97',\n",
       " 'B97',\n",
       " 'B97']"
      ]
     },
     "execution_count": 21,
     "metadata": {},
     "output_type": "execute_result"
    }
   ],
   "source": [
    "f[2][:10]"
   ]
  },
  {
   "cell_type": "markdown",
   "metadata": {},
   "source": [
    "Here is a representation of the chromosomes we simulated. Info on how I made this image here: [SimulateMAGIC](SimulateMAGIC.ipynb)"
   ]
  },
  {
   "cell_type": "markdown",
   "metadata": {},
   "source": [
    "![title](MAGICimage.png)"
   ]
  },
  {
   "cell_type": "markdown",
   "metadata": {},
   "source": [
    "<a id='section_2'></a>"
   ]
  },
  {
   "cell_type": "markdown",
   "metadata": {},
   "source": [
    "## 2. Write outfile"
   ]
  },
  {
   "cell_type": "markdown",
   "metadata": {},
   "source": [
    "Now that we have simulated \"chromosomes\" for the MAGIC lines, we want to identify breakpoints and parental donor, and then write this out to a file so that we can turn these into actual vcf files."
   ]
  },
  {
   "cell_type": "code",
   "execution_count": 23,
   "metadata": {
    "collapsed": true
   },
   "outputs": [],
   "source": [
    "def locations(r,c=10):\n",
    "    \"\"\"Identifies chromosome breakpoints and returns a list of format:\n",
    "    [[chr,start,end,donor],...]\n",
    "    Input: (list) simulated chromosome (i.e. f[0])\n",
    "    \"\"\"\n",
    "    locs=[]\n",
    "    last = r[0]\n",
    "    counter = 0\n",
    "    for i in range(len(r)):\n",
    "        if r[i] != last:\n",
    "            start = i\n",
    "            locs.append([c,counter*1e6,(start*1e6)-1,last])\n",
    "            counter=start\n",
    "            last = r[i]\n",
    "    locs.append([c,start*1e6,len(r)*1e6,last])\n",
    "    return locs"
   ]
  },
  {
   "cell_type": "code",
   "execution_count": null,
   "metadata": {
    "collapsed": true
   },
   "outputs": [],
   "source": [
    "def make_outfile(ril,out):\n",
    "    \"\"\" Writes out file in format: \n",
    "    out: name of outfile (str)\n",
    "    \"\"\"\n",
    "    txt = 'sample\\tchr\\tstart\\tend\\tdonor\\n'\n",
    "    count=1\n",
    "    for j in ril:\n",
    "        locs = locations(j)\n",
    "        for l in locs:\n",
    "            txt+='{0}\\t{1}\\t{2}\\t{3}\\t{4}\\n'.format('M'+str(count),l[0],int(l[1]),int(l[2]),l[3])\n",
    "        count+=1\n",
    "    with open(out,'w') as outfile:\n",
    "        outfile.write(txt)"
   ]
  },
  {
   "cell_type": "code",
   "execution_count": null,
   "metadata": {
    "collapsed": true
   },
   "outputs": [],
   "source": [
    "make_outfile(f,'Actual_MAGIC1.txt')"
   ]
  },
  {
   "cell_type": "markdown",
   "metadata": {},
   "source": [
    "<a id='section_3'></a>"
   ]
  },
  {
   "cell_type": "markdown",
   "metadata": {},
   "source": [
    "## 3. Build simulated vcf files"
   ]
  },
  {
   "cell_type": "markdown",
   "metadata": {},
   "source": [
    "Now that we have our breakpoint files, we can pull variant data from the the donor parent's vcf files (from maize HapMap v3) and put them together into one vcf file for each MAGIC line.\n",
    "\n",
    "This step requires the following software (versions I used in parentheses):\n",
    "\n",
    "- bcftools (1.2)\n",
    "- tabix (0.2.6)\n",
    "- vcftools (b240116)\n"
   ]
  },
  {
   "cell_type": "markdown",
   "metadata": {},
   "source": [
    "The script marker_generator.py reads in the parent vcf file and randomly chooses positions (here I set m to 500,000) to imitate a SNP array. The positions are output into a file c10_markers.txt"
   ]
  },
  {
   "cell_type": "code",
   "execution_count": null,
   "metadata": {
    "collapsed": true
   },
   "outputs": [],
   "source": [
    "donorfile='hmpv3_founders/hmp3_founders_final.vcf' #path to donor file\n",
    "markerfile='c10_markers.txt' #name of marker file\n",
    "m=500000 #number of markers\n",
    "\n",
    "breakfile = 'Actual_MAGIC1.txt' #Simulated break file (made above)\n",
    "outbase = 'MAGIC1_10samples.vcf' #desired base name of output files"
   ]
  },
  {
   "cell_type": "code",
   "execution_count": 30,
   "metadata": {},
   "outputs": [
    {
     "name": "stdout",
     "output_type": "stream",
     "text": [
      "usage: marker_generator.py [-h] infile outfile m\n",
      "\n",
      "Program description\n",
      "\n",
      "positional arguments:\n",
      "  infile      The input vcf file\n",
      "  outfile     The output regions file\n",
      "  m           The number of markers to select\n",
      "\n",
      "optional arguments:\n",
      "  -h, --help  show this help message and exit\n"
     ]
    },
    {
     "data": {
      "text/plain": [
       "<matplotlib.figure.Figure at 0x116fc5350>"
      ]
     },
     "metadata": {},
     "output_type": "display_data"
    }
   ],
   "source": [
    "%run marker_generator.py --help"
   ]
  },
  {
   "cell_type": "code",
   "execution_count": null,
   "metadata": {
    "collapsed": true
   },
   "outputs": [],
   "source": [
    "%run marker_generator.py donorfile markerfile m"
   ]
  },
  {
   "cell_type": "markdown",
   "metadata": {},
   "source": [
    "The script build_simvcf.py uses bcftools to pull variants from the indicated donor vcf file at the 500000 marker positions previously generated. The output is a concatenated vcf file for each MAGIC sample with the base filename [sampleid_outfile.vcf]"
   ]
  },
  {
   "cell_type": "code",
   "execution_count": 13,
   "metadata": {},
   "outputs": [
    {
     "name": "stdout",
     "output_type": "stream",
     "text": [
      "usage: build_simvcf.py [-h] infile outfile markerfile\n",
      "\n",
      "Program description\n",
      "\n",
      "positional arguments:\n",
      "  infile      The input breakpoint file (output of write_outfile()\n",
      "  outfile     The desired output vcf file basename (i.e. basename.vcf)\n",
      "  markerfile  File with list of marker postions (from marker_generator.py\n",
      "\n",
      "optional arguments:\n",
      "  -h, --help  show this help message and exit\n"
     ]
    }
   ],
   "source": [
    "%run build_simvcf.py --help"
   ]
  },
  {
   "cell_type": "code",
   "execution_count": null,
   "metadata": {
    "collapsed": true
   },
   "outputs": [],
   "source": [
    "%run build_simvcf.py breakfile outbase markerfile"
   ]
  },
  {
   "cell_type": "markdown",
   "metadata": {},
   "source": [
    "We should now have 10 vcf files (one for each of our MAGIC lines). However, the vcf files have incorrect headers and may be out of order. In addition, in order to run FILLIN, we want all of our samples in one vcf file. Let's fix that."
   ]
  },
  {
   "cell_type": "markdown",
   "metadata": {},
   "source": [
    "<a id='section_4'></a>"
   ]
  },
  {
   "cell_type": "markdown",
   "metadata": {},
   "source": [
    "## 4. Merge vcf files for all samples"
   ]
  },
  {
   "cell_type": "code",
   "execution_count": null,
   "metadata": {
    "collapsed": true
   },
   "outputs": [],
   "source": [
    "stamp= time.strftime('%m%d%y')\n",
    "outdir = 'MAGICSim_'+stamp\n",
    "finalfile = 'MAGICSimAll_chr10.vcf.gz' #Name of merged vcf file\n",
    "!mkdir $outdir"
   ]
  },
  {
   "cell_type": "code",
   "execution_count": null,
   "metadata": {
    "collapsed": true
   },
   "outputs": [],
   "source": [
    "\n",
    "!for i in {1..10};do\n",
    "    !echo M${i} > $outdir'/M'${i}'.txt'\n",
    "    !cat M${i}'_'$outbase | vcf-sort | bcftools reheader -s 'M'${i}'.txt' -o $outdir/M${i}'_edit_'$outbase\n",
    "    !bgzip $outdir'/M'${i}'_edit_'$outbase\n",
    "    !tabix -p vcf $outdir'/M'${i}'_edit_'$outbase\n",
    "    !echo $outdir'/M'${i}'_edit_'$outbase >> $outdir'/file_names.txt'\n",
    "!done    "
   ]
  },
  {
   "cell_type": "code",
   "execution_count": null,
   "metadata": {
    "collapsed": true
   },
   "outputs": [],
   "source": [
    "!bcftools merge -l $outdir'/file_names.txt' -m all -Oz > $outdir'/'$finalfile"
   ]
  },
  {
   "cell_type": "markdown",
   "metadata": {
    "collapsed": true
   },
   "source": [
    "Now we have one vcf file with all of our samples together. Now it's time to IMPUTE!"
   ]
  },
  {
   "cell_type": "markdown",
   "metadata": {},
   "source": [
    "<a id='section_5'></a>"
   ]
  },
  {
   "cell_type": "markdown",
   "metadata": {},
   "source": [
    "## 5. Run FILLIN on merged vcf file"
   ]
  },
  {
   "cell_type": "markdown",
   "metadata": {
    "collapsed": true
   },
   "source": [
    "For the purposes of assessing imputation accuracy, I will use a flag offered by the FILLINImputationPlugin, -ProjA. By setting it to true, it will output a file with estimated breakpoint positions and donor haplotypes, but does not impute."
   ]
  },
  {
   "cell_type": "code",
   "execution_count": null,
   "metadata": {
    "collapsed": true
   },
   "outputs": [],
   "source": [
    "!mkdir $outdir'/FILLIN'\n",
    "projout = $outdir'/FILLIN/MAGIC1_10samples_chr10_ProjA' #name of projections alignment file\n",
    "impout = $outdir'/FILLIN/MAGIC1_10samples_chr10_Imputed' #name of imputed file\n",
    "\n",
    "hapdir = 'chr10haps'\n",
    "##Set path to tassel here\n",
    "tassel='tassel-5-standalone/run_pipeline.pl'"
   ]
  },
  {
   "cell_type": "code",
   "execution_count": null,
   "metadata": {
    "collapsed": true
   },
   "outputs": [],
   "source": [
    "#Running the projection alignment (suppressing system out because it's very long)\n",
    "!run_pipeline.pl -Xmx32g -FILLINImputationPlugin -hmp $finalfile -d $donorfile -o $projaout -ProjA true -nV true -endPlugin"
   ]
  },
  {
   "cell_type": "markdown",
   "metadata": {},
   "source": [
    "Then we can actually create the donor haplotypes (this takes a long time, even just for one chromosome) and impute these haplotypes onto our simulated lines."
   ]
  },
  {
   "cell_type": "code",
   "execution_count": null,
   "metadata": {
    "collapsed": true
   },
   "outputs": [],
   "source": [
    "# -Nv flag suppresses system out\n",
    "# -extOut creates a directory with files saying which donors belong to which haplotype blocks\n",
    "\n",
    "!$tassel -Xmx32g -FILLINFindHaplotypesPlugin -hmp $donorfile -o $hapdir -mxErr 0 -minTaxa 1 -extOut true -nV true -endPlugin"
   ]
  },
  {
   "cell_type": "code",
   "execution_count": null,
   "metadata": {
    "collapsed": true
   },
   "outputs": [],
   "source": [
    "!$tassel -Xmx32g -FILLINImputationPlugin -hmp $finalfile -d $donorfile -o $impout -nV true -endPlugin"
   ]
  },
  {
   "cell_type": "markdown",
   "metadata": {},
   "source": [
    "<a id='section_6'></a>"
   ]
  },
  {
   "cell_type": "markdown",
   "metadata": {},
   "source": [
    "## 6. Assess imputation accuracy"
   ]
  },
  {
   "cell_type": "markdown",
   "metadata": {},
   "source": [
    "Using the projection alignment output and the known breakpoints from our simulations, we can assess how accurately FILLIN predicted the parental origin of our MAGIC lines across the chromosome. \n",
    "This section uses:\n",
    "- bedtools (2.25)\n",
    "\n",
    "First thing we want to do is parse the projection alignment file so that it's in a format that can be easily compared to our breakpoint file. "
   ]
  },
  {
   "cell_type": "code",
   "execution_count": null,
   "metadata": {},
   "outputs": [],
   "source": [
    "from subprocess import Popen, PIPE\n",
    "import os"
   ]
  },
  {
   "cell_type": "code",
   "execution_count": null,
   "metadata": {
    "collapsed": true
   },
   "outputs": [],
   "source": [
    "!gunzip $projaout'.pa.txt.gz'"
   ]
  },
  {
   "cell_type": "code",
   "execution_count": 29,
   "metadata": {},
   "outputs": [],
   "source": [
    "projafile = 'MAGICSim_chr10_IMPUTED.pa.txt'"
   ]
  },
  {
   "cell_type": "code",
   "execution_count": 30,
   "metadata": {},
   "outputs": [],
   "source": [
    "process = Popen(['awk','/#Donor Haplotypes/{flag=1;next}/#Taxa Breakpoints/{flag=0}flag',projafile],stdout=PIPE,stderr=PIPE)\n",
    "stdout,sterr=process.communicate()"
   ]
  },
  {
   "cell_type": "code",
   "execution_count": 31,
   "metadata": {
    "collapsed": true
   },
   "outputs": [],
   "source": [
    "#The ProjA file uses number codes for the donors\n",
    "#Make a dictionary of all the donors and their associated keys\n",
    "donors={}\n",
    "for i in stdout.split('\\n')[:-1]:\n",
    "    line = i.split('\\t')\n",
    "    donors[line[0]]=line[1]"
   ]
  },
  {
   "cell_type": "code",
   "execution_count": 32,
   "metadata": {},
   "outputs": [
    {
     "data": {
      "text/plain": [
       "{'0': 'B73',\n",
       " '1': 'B97',\n",
       " '10': 'HP301',\n",
       " '11': 'Il14H',\n",
       " '12': 'KI3',\n",
       " '13': 'Ki11',\n",
       " '14': 'Ky21',\n",
       " '15': 'M37W',\n",
       " '16': 'M162W',\n",
       " '17': 'MO18W',\n",
       " '18': 'Ms71',\n",
       " '19': 'NC350',\n",
       " '2': 'CML52',\n",
       " '20': 'NC358',\n",
       " '21': 'Oh7B',\n",
       " '22': 'Oh43',\n",
       " '23': 'P39',\n",
       " '24': 'Tx303',\n",
       " '25': 'Tzi8',\n",
       " '3': 'CML69',\n",
       " '4': 'CML103',\n",
       " '5': 'CML228',\n",
       " '6': 'CML247',\n",
       " '7': 'CML277',\n",
       " '8': 'CML322',\n",
       " '9': 'CML333'}"
      ]
     },
     "execution_count": 32,
     "metadata": {},
     "output_type": "execute_result"
    }
   ],
   "source": [
    "donors"
   ]
  },
  {
   "cell_type": "code",
   "execution_count": 33,
   "metadata": {
    "collapsed": true
   },
   "outputs": [],
   "source": [
    "#Now parse out the assignment blocks\n",
    "process = Popen(['awk','/#Block are defined chr:startPos:endPos:donor1:donor2/{flag=1;next}/,0/{flag=0}flag',projafile],stdout=PIPE,stderr=PIPE)\n",
    "stdout,sterr=process.communicate()"
   ]
  },
  {
   "cell_type": "markdown",
   "metadata": {},
   "source": [
    "The format of the second half of the ProjA file is as follows:\n",
    "sample_id\\tchr:start:end:donor1:donor2\n",
    "\n",
    "If donor1 and donor2 are not the same, then this means that for that chromosome segment, FILLIN \n",
    "predicted heterozygosity. We see this sometimes, even if we don't want it to be so... I'm still figuring it out"
   ]
  },
  {
   "cell_type": "code",
   "execution_count": 35,
   "metadata": {},
   "outputs": [],
   "source": [
    "breakpoints = []\n",
    "for i in stdout.split('\\n')[:-1]:\n",
    "    line = i.split('\\t')\n",
    "    brks = {}\n",
    "    sample=line[0]\n",
    "    for j in line[1:-1]:\n",
    "        info=j.split(':')\n",
    "        chrom=info[0]\n",
    "        start=info[1]\n",
    "        end=info[2]\n",
    "        donor1=info[3]\n",
    "        donor2=info[4]\n",
    "        brks = {'sample':sample, 'chr':chrom, 'start':start, 'end':end, 'donor1': donors[donor1], 'donor2':donors[donor2]}\n",
    "        breakpoints.append(brks)"
   ]
  },
  {
   "cell_type": "code",
   "execution_count": 36,
   "metadata": {},
   "outputs": [
    {
     "data": {
      "text/plain": [
       "{'chr': '10',\n",
       " 'donor1': 'HP301',\n",
       " 'donor2': 'Il14H',\n",
       " 'end': '129276856',\n",
       " 'sample': 'M7',\n",
       " 'start': '129240606'}"
      ]
     },
     "execution_count": 36,
     "metadata": {},
     "output_type": "execute_result"
    }
   ],
   "source": [
    "breakpoints[0]"
   ]
  },
  {
   "cell_type": "code",
   "execution_count": 39,
   "metadata": {},
   "outputs": [],
   "source": [
    "#turn the dictionary into a pandas dataframe\n",
    "df = pd.DataFrame(breakpoints)\n",
    "proja = df[['sample','chr','start','end','donor1','donor2']]"
   ]
  },
  {
   "cell_type": "code",
   "execution_count": 40,
   "metadata": {},
   "outputs": [
    {
     "data": {
      "text/html": [
       "<div>\n",
       "<style>\n",
       "    .dataframe thead tr:only-child th {\n",
       "        text-align: right;\n",
       "    }\n",
       "\n",
       "    .dataframe thead th {\n",
       "        text-align: left;\n",
       "    }\n",
       "\n",
       "    .dataframe tbody tr th {\n",
       "        vertical-align: top;\n",
       "    }\n",
       "</style>\n",
       "<table border=\"1\" class=\"dataframe\">\n",
       "  <thead>\n",
       "    <tr style=\"text-align: right;\">\n",
       "      <th></th>\n",
       "      <th>sample</th>\n",
       "      <th>chr</th>\n",
       "      <th>start</th>\n",
       "      <th>end</th>\n",
       "      <th>donor1</th>\n",
       "      <th>donor2</th>\n",
       "    </tr>\n",
       "  </thead>\n",
       "  <tbody>\n",
       "    <tr>\n",
       "      <th>0</th>\n",
       "      <td>M7</td>\n",
       "      <td>10</td>\n",
       "      <td>129240606</td>\n",
       "      <td>129276856</td>\n",
       "      <td>HP301</td>\n",
       "      <td>Il14H</td>\n",
       "    </tr>\n",
       "    <tr>\n",
       "      <th>1</th>\n",
       "      <td>M10</td>\n",
       "      <td>10</td>\n",
       "      <td>13842144</td>\n",
       "      <td>14149931</td>\n",
       "      <td>B73</td>\n",
       "      <td>Oh43</td>\n",
       "    </tr>\n",
       "    <tr>\n",
       "      <th>2</th>\n",
       "      <td>M10</td>\n",
       "      <td>10</td>\n",
       "      <td>113774299</td>\n",
       "      <td>114297964</td>\n",
       "      <td>B73</td>\n",
       "      <td>Oh7B</td>\n",
       "    </tr>\n",
       "    <tr>\n",
       "      <th>3</th>\n",
       "      <td>M10</td>\n",
       "      <td>10</td>\n",
       "      <td>114299498</td>\n",
       "      <td>114304786</td>\n",
       "      <td>B73</td>\n",
       "      <td>Oh43</td>\n",
       "    </tr>\n",
       "    <tr>\n",
       "      <th>4</th>\n",
       "      <td>M10</td>\n",
       "      <td>10</td>\n",
       "      <td>114304905</td>\n",
       "      <td>114313731</td>\n",
       "      <td>B73</td>\n",
       "      <td>Oh7B</td>\n",
       "    </tr>\n",
       "  </tbody>\n",
       "</table>\n",
       "</div>"
      ],
      "text/plain": [
       "  sample chr      start        end donor1 donor2\n",
       "0     M7  10  129240606  129276856  HP301  Il14H\n",
       "1    M10  10   13842144   14149931    B73   Oh43\n",
       "2    M10  10  113774299  114297964    B73   Oh7B\n",
       "3    M10  10  114299498  114304786    B73   Oh43\n",
       "4    M10  10  114304905  114313731    B73   Oh7B"
      ]
     },
     "execution_count": 40,
     "metadata": {},
     "output_type": "execute_result"
    }
   ],
   "source": [
    "proja.head()"
   ]
  },
  {
   "cell_type": "code",
   "execution_count": 41,
   "metadata": {
    "collapsed": true
   },
   "outputs": [],
   "source": [
    "#Write it out to a file\n",
    "proja.to_csv('Predicted_MAGIC1.txt',sep='\\t')"
   ]
  },
  {
   "cell_type": "markdown",
   "metadata": {},
   "source": [
    "### Accounting for this heterozygosity...\n",
    "\n",
    "One possible reason that FILLIN couldn't choose between donors in these regions is that more than one parent shared a haplotype in that regions. \n",
    "Using the extOut/ directory produced from the imputation, I can check to see if this is correct."
   ]
  },
  {
   "cell_type": "markdown",
   "metadata": {},
   "source": [
    "### Calculating percentage correctly assigned\n",
    "\n",
    "The script intersect.py used bedtools to determine the proportion of the chromosome that was correctly assigned by FILLIN (of what was predicted; this does not count regions where FILLIN could not reach a conclusion)\n",
    "\n",
    "Using --verbose outputs a full report on each individual and percentage per parent in a file called intersect_output.txt. \n",
    "Otherwise, a total percentage is printed to stdout"
   ]
  },
  {
   "cell_type": "code",
   "execution_count": null,
   "metadata": {
    "collapsed": true
   },
   "outputs": [],
   "source": [
    "haplotypes={}\n",
    "#Directory in the haplotype directory created by FILLINFindHaplotypesPlugin\n",
    "for filename in os.listdir(hapdir+'/extOut'):\n",
    "    hapname=filename.split('.')[1]\n",
    "    haplotypes[hapname]={}\n",
    "    with open('../extOut/'+filename,'r') as infile:\n",
    "        for line in infile:\n",
    "            l = line.split('\\t')\n",
    "            h = l[0]\n",
    "            haplotypes[hapname][h]=[]\n",
    "            for i in l[1:]:\n",
    "                haplotypes[hapname][h].append(i.rstrip())"
   ]
  },
  {
   "cell_type": "markdown",
   "metadata": {},
   "source": [
    "So now we have the parents that belong to each haplotype block. Now we need the chromosomal \n",
    "locations of those haplotype blocks. These, we can get from the files within the haplotype directory by grapping the first and last positions listed in each file."
   ]
  },
  {
   "cell_type": "code",
   "execution_count": null,
   "metadata": {
    "collapsed": true
   },
   "outputs": [],
   "source": [
    "!cd $hapdir\n",
    "!echo -e \"haplotype\\tstart\\tend\" > 'hap_locs.txt'\n",
    "!for file in *; do\n",
    "    !name=$(echo $file | cut -d'.' -f2)\n",
    "    !start=$(sed -n '2{p;q;}' $file | cut -f4) \n",
    "    !end=$(tail -n 1 $file | cut -f4)\n",
    "    !echo -e \"$name\\t$start\\t$end\" >> 'hap_locs.txt'\n",
    "!done"
   ]
  },
  {
   "cell_type": "code",
   "execution_count": 44,
   "metadata": {},
   "outputs": [
    {
     "data": {
      "text/html": [
       "<div>\n",
       "<style>\n",
       "    .dataframe thead tr:only-child th {\n",
       "        text-align: right;\n",
       "    }\n",
       "\n",
       "    .dataframe thead th {\n",
       "        text-align: left;\n",
       "    }\n",
       "\n",
       "    .dataframe tbody tr th {\n",
       "        vertical-align: top;\n",
       "    }\n",
       "</style>\n",
       "<table border=\"1\" class=\"dataframe\">\n",
       "  <thead>\n",
       "    <tr style=\"text-align: right;\">\n",
       "      <th></th>\n",
       "      <th>haplotype</th>\n",
       "      <th>start</th>\n",
       "      <th>end</th>\n",
       "    </tr>\n",
       "  </thead>\n",
       "  <tbody>\n",
       "    <tr>\n",
       "      <th>726</th>\n",
       "      <td>gc10s96</td>\n",
       "      <td>18942609.0</td>\n",
       "      <td>19129946.0</td>\n",
       "    </tr>\n",
       "    <tr>\n",
       "      <th>727</th>\n",
       "      <td>gc10s97</td>\n",
       "      <td>19129947.0</td>\n",
       "      <td>19249118.0</td>\n",
       "    </tr>\n",
       "    <tr>\n",
       "      <th>728</th>\n",
       "      <td>gc10s98</td>\n",
       "      <td>19249119.0</td>\n",
       "      <td>19383688.0</td>\n",
       "    </tr>\n",
       "    <tr>\n",
       "      <th>729</th>\n",
       "      <td>gc10s99</td>\n",
       "      <td>19383696.0</td>\n",
       "      <td>19528151.0</td>\n",
       "    </tr>\n",
       "    <tr>\n",
       "      <th>730</th>\n",
       "      <td>gc10s9</td>\n",
       "      <td>2052404.0</td>\n",
       "      <td>2159273.0</td>\n",
       "    </tr>\n",
       "  </tbody>\n",
       "</table>\n",
       "</div>"
      ],
      "text/plain": [
       "    haplotype       start         end\n",
       "726   gc10s96  18942609.0  19129946.0\n",
       "727   gc10s97  19129947.0  19249118.0\n",
       "728   gc10s98  19249119.0  19383688.0\n",
       "729   gc10s99  19383696.0  19528151.0\n",
       "730    gc10s9   2052404.0   2159273.0"
      ]
     },
     "execution_count": 44,
     "metadata": {},
     "output_type": "execute_result"
    }
   ],
   "source": [
    "haplocs = pd.read_csv('hap_locs.txt',sep='\\t')\n",
    "haplocs=haplocs.iloc[:-1,]\n",
    "haplocs.tail()"
   ]
  },
  {
   "cell_type": "code",
   "execution_count": null,
   "metadata": {
    "collapsed": true
   },
   "outputs": [],
   "source": [
    "#can add positions to the haplotype dictionary\n",
    "for index,row in haplocs.iterrows():\n",
    "    hapname=row['haplotype']\n",
    "    haplotypes[hapname]['start'] = int(row['start'])\n",
    "    haplotypes[hapname]['end'] = int(row['end'])"
   ]
  },
  {
   "cell_type": "code",
   "execution_count": null,
   "metadata": {},
   "outputs": [],
   "source": [
    "#Can save this dictionary as an object for later use\n",
    "np.save('extOut_haplotypes.npy', haplotypes)"
   ]
  },
  {
   "cell_type": "code",
   "execution_count": 47,
   "metadata": {
    "collapsed": true
   },
   "outputs": [],
   "source": [
    "#And now we can load it again...\n",
    "haplotypes = np.load('../extOut_haplotypes.npy').item()"
   ]
  },
  {
   "cell_type": "markdown",
   "metadata": {},
   "source": [
    "With our haplotype information, we can look and see if more than one parent was assigned to the \n",
    "same haplotype. Although this shouldn't be the case, it's good to check...\n",
    "\n",
    "And no, there are no haplotype blocks with more than one parent."
   ]
  },
  {
   "cell_type": "code",
   "execution_count": 49,
   "metadata": {},
   "outputs": [
    {
     "data": {
      "text/plain": [
       "0"
      ]
     },
     "execution_count": 49,
     "metadata": {},
     "output_type": "execute_result"
    }
   ],
   "source": [
    "more=[]\n",
    "for h in haplotypes:\n",
    "    for j in haplotypes[h].keys():\n",
    "        if j!= 'start' and j!='end':\n",
    "            if len(haplotypes[h][j]) > 1:\n",
    "                more.append(h)\n",
    "len(more)"
   ]
  },
  {
   "cell_type": "markdown",
   "metadata": {},
   "source": [
    "Now I need to figure out how to deal with two donors. If neither of them are correct, then it's completely wrong, but if one of the two predicted donors is right, what then? \n",
    "\n",
    "If one of two donors is correct, use only write donor, but weight the result somehow"
   ]
  },
  {
   "cell_type": "code",
   "execution_count": 42,
   "metadata": {},
   "outputs": [
    {
     "name": "stdout",
     "output_type": "stream",
     "text": [
      "usage: intersect.py [-h] [--verbose VERBOSE] actual pred\n",
      "\n",
      "Program description\n",
      "\n",
      "positional arguments:\n",
      "  actual             Bed file of actual parental assignments\n",
      "  pred               Bed file of predicted parental assignments\n",
      "\n",
      "optional arguments:\n",
      "  -h, --help         show this help message and exit\n",
      "  --verbose VERBOSE  Print out full output, with per parent percentages\n"
     ]
    }
   ],
   "source": [
    "%run intersect.py --help"
   ]
  },
  {
   "cell_type": "code",
   "execution_count": null,
   "metadata": {
    "collapsed": true
   },
   "outputs": [],
   "source": [
    "%run intersect.py Actual_MAGIC1.txt Predicted_MAGIC1.txt"
   ]
  }
 ],
 "metadata": {
  "kernelspec": {
   "display_name": "Python 2",
   "language": "python",
   "name": "python2"
  },
  "language_info": {
   "codemirror_mode": {
    "name": "ipython",
    "version": 2
   },
   "file_extension": ".py",
   "mimetype": "text/x-python",
   "name": "python",
   "nbconvert_exporter": "python",
   "pygments_lexer": "ipython2",
   "version": "2.7.13"
  }
 },
 "nbformat": 4,
 "nbformat_minor": 2
}
